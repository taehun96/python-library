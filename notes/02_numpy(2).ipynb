{
 "cells": [
  {
   "cell_type": "markdown",
   "id": "a794f300",
   "metadata": {},
   "source": [
    "### numpy(2)"
   ]
  },
  {
   "cell_type": "markdown",
   "id": "6c3b3497",
   "metadata": {},
   "source": [
    "### 2-1. NumPy 배열 연산"
   ]
  },
  {
   "cell_type": "code",
   "execution_count": null,
   "id": "5a5958b0",
   "metadata": {},
   "outputs": [],
   "source": [
    "import numpy as np"
   ]
  },
  {
   "cell_type": "code",
   "execution_count": null,
   "id": "99d238a6",
   "metadata": {},
   "outputs": [],
   "source": [
    "# 배열 연산\n",
    "# NumPy 배열 연산은 요소 단위로 수행됨\n",
    "# 배열과 배열 간 또는 배열과 스칼라 값 간의 연산을 지원\n",
    "# 브로드캐스팅을 통해 서로 다른 크기의 배열 간 연산도 자동으로 확장 가능"
   ]
  },
  {
   "cell_type": "code",
   "execution_count": null,
   "id": "cb0e8fd2",
   "metadata": {},
   "outputs": [],
   "source": [
    "# 배열 간 연산(1차원)\n",
    "# 같은 크기의 배열끼리는 요소별로 연산이 이루어짐\n",
    "a1 = np.array([1,2,3])\n",
    "a2 = np.array([4,5,6])\n",
    "\n",
    "print((a1 + a2))\n",
    "print((a1 - a2))"
   ]
  },
  {
   "cell_type": "code",
   "execution_count": null,
   "id": "b99d86dd",
   "metadata": {},
   "outputs": [],
   "source": [
    "# 배열 간 연산(2차원)\n",
    "a1 = np.arange(1, 5).reshape(2,2)\n",
    "a2 = np.arange(11, 15).reshape(2,2)\n",
    "print(a1)\n",
    "print(a2)\n",
    "\n",
    "print(a1 + a2)\n",
    "print(a2 - a1)"
   ]
  },
  {
   "cell_type": "code",
   "execution_count": null,
   "id": "e7fac558",
   "metadata": {},
   "outputs": [],
   "source": [
    "# 배열과 스칼라 연산(1차원)\n",
    "a1 = np.array([1,2,3,4])\n",
    "print(a1 + 10)\n",
    "print(a1 * 2)"
   ]
  },
  {
   "cell_type": "code",
   "execution_count": null,
   "id": "e38ae4f7",
   "metadata": {},
   "outputs": [],
   "source": [
    "# 배열과 스칼라 연산(2차원)\n",
    "a1 = np.arange(1, 5).reshape(2,2)\n",
    "a2 = np.arange(11, 15).reshape(2,2)\n",
    "print(a1)\n",
    "print(a2)\n",
    "\n",
    "print(a1 + 5)\n",
    "print(a2 * 3)\n",
    "print(a2 / 2)"
   ]
  },
  {
   "cell_type": "code",
   "execution_count": null,
   "id": "daa0299c",
   "metadata": {},
   "outputs": [],
   "source": [
    "# 배열의 구조가 다를 경우\n",
    "a1 = np.array([1,2])\n",
    "a2 = np.array([1,2,3])\n",
    "print(a1 + a2)\n",
    "# 브로드캐스트 에러 발생 operands could not be broadcast together with shapes (2,) (3,)"
   ]
  },
  {
   "cell_type": "code",
   "execution_count": null,
   "id": "ec9fbe9f",
   "metadata": {},
   "outputs": [],
   "source": [
    "# 브로드캐스팅 \n",
    "# 자동으로 배열의 크기를 확장 → 서로 다른 크기의 배열 간 연산을 가능하게 하는 기능\n",
    "# 1. 두 배열의 차원을 뒤(낮은 차원)에서부터 비교\n",
    "# 2. 크기가 같거나\n",
    "# 3. 한 쪽이 1인 경우 확장이 가능\n",
    "\n",
    "a1 = np.array([[1,2,3],[4,5,6]]) # 2x3 배열\n",
    "a2 = np.array([10,20,30]) # 길이가 3인 1차원 배열\n",
    "\n",
    "# 1차원 길이3\n",
    "[10,20,30]\n",
    "\n",
    "# 2차원으로 변형(1,3)\n",
    "[[10,20,30]]\n",
    "\n",
    "# 2차원의 행이 2로 확장\n",
    "[[10,20,30],[10,20,30]]\n",
    "\n",
    "print(a1 + a2)"
   ]
  },
  {
   "cell_type": "code",
   "execution_count": null,
   "id": "4620142c",
   "metadata": {},
   "outputs": [],
   "source": [
    "# 브로드캐스팅 예제\n",
    "a1 = np.array([[1], [2], [3]]) #(3,1)\n",
    "a12= np.array([10, 20, 30]) #(3,)\n",
    "\n",
    "# a2 : (3,) → (1,3)로 변형\n",
    "[[10, 20, 30]]\n",
    "\n",
    "# a1과 a2비교 : a1 = (3,1), a2 = (1,3)\n",
    "# 2차원의 경우 : 3 vs 1 → a2의 2차원이 3으로 확장\n",
    "[[10,20,30],[10,20,30],[10,20,30]]\n",
    "\n",
    "# 1차원의 경우 : 1 vs 3 → a1의 1차원이 3으로 확장\n",
    "[[1,1,1],[2,2,2],[3,3,3]]\n",
    "\n",
    "# a1\n",
    "[[1,1,1],[2,2,2],[3,3,3]]\n",
    "                # +\n",
    "# a2\n",
    "[[10,20,30],[10,20,30],[10,20,30]]\n",
    "\n",
    "print(a1 + a2)"
   ]
  },
  {
   "cell_type": "code",
   "execution_count": 22,
   "id": "a7e0185e",
   "metadata": {},
   "outputs": [
    {
     "ename": "ValueError",
     "evalue": "operands could not be broadcast together with shapes (2,3) (3,2) ",
     "output_type": "error",
     "traceback": [
      "\u001b[31m---------------------------------------------------------------------------\u001b[39m",
      "\u001b[31mValueError\u001b[39m                                Traceback (most recent call last)",
      "\u001b[36mCell\u001b[39m\u001b[36m \u001b[39m\u001b[32mIn[22]\u001b[39m\u001b[32m, line 4\u001b[39m\n\u001b[32m      2\u001b[39m a1 = np.ones((\u001b[32m2\u001b[39m,\u001b[32m3\u001b[39m))\n\u001b[32m      3\u001b[39m a2 = np.ones((\u001b[32m3\u001b[39m,\u001b[32m2\u001b[39m))\n\u001b[32m----> \u001b[39m\u001b[32m4\u001b[39m \u001b[43ma1\u001b[49m\u001b[43m \u001b[49m\u001b[43m+\u001b[49m\u001b[43m \u001b[49m\u001b[43ma2\u001b[49m\n",
      "\u001b[31mValueError\u001b[39m: operands could not be broadcast together with shapes (2,3) (3,2) "
     ]
    }
   ],
   "source": [
    "# 브로드캐스팅 불가능한 경우\n",
    "a1 = np.ones((2,3))\n",
    "a2 = np.ones((3,2))\n",
    "a1 + a2"
   ]
  },
  {
   "cell_type": "code",
   "execution_count": 20,
   "id": "ddfb1b98",
   "metadata": {},
   "outputs": [
    {
     "name": "stdout",
     "output_type": "stream",
     "text": [
      "[4 5 6 7]\n"
     ]
    }
   ],
   "source": [
    "# 실습1 문제1 다음 배열을 생성하고, 모든 요소에 3을 더하세요.\n",
    "arr = np.array([1, 2, 3, 4])\n",
    "arr2 = np.array([3])\n",
    "answer = arr + arr2\n",
    "print(answer)"
   ]
  },
  {
   "cell_type": "code",
   "execution_count": 21,
   "id": "815ac9d0",
   "metadata": {},
   "outputs": [
    {
     "name": "stdout",
     "output_type": "stream",
     "text": [
      "[[ -5 -10]\n",
      " [-15 -20]]\n"
     ]
    }
   ],
   "source": [
    "# 실습1 문제2 아래 2차원 배열에서 각 요소를 -1로 곱한 새로운 배열을 만드세요.\n",
    "arr = np.array([[5, 10],\n",
    "                [15, 20]])\n",
    "arr2 = np.array([[-1]])\n",
    "answer = arr * arr2\n",
    "print(answer)"
   ]
  },
  {
   "cell_type": "code",
   "execution_count": 15,
   "id": "0d516f6d",
   "metadata": {},
   "outputs": [
    {
     "name": "stdout",
     "output_type": "stream",
     "text": [
      "곱셈 [ 2  8 18]\n",
      "나눗셈 [2. 2. 2.]\n"
     ]
    }
   ],
   "source": [
    "# 실습1 문제3 아래 두 배열의 요소별 곱셈과 나눗셈 결과를 각각 출력하세요.\n",
    "arr1 = np.array([2, 4, 6])\n",
    "arr2 = np.array([1, 2, 3])\n",
    "\n",
    "print(\"곱셈\", arr1 * arr2)\n",
    "print(\"나눗셈\", arr1 / arr2)\n"
   ]
  },
  {
   "cell_type": "code",
   "execution_count": 23,
   "id": "95f5ba2c",
   "metadata": {},
   "outputs": [
    {
     "name": "stdout",
     "output_type": "stream",
     "text": [
      "[[ 5  3]\n",
      " [20 15]]\n",
      "[[100 100]\n",
      " [100 100]]\n"
     ]
    }
   ],
   "source": [
    "# 실습1 문제4 아래 배열에서 모든 요소를 최대값 100으로 만들기 위해 필요한 값을 더한 결과 배열을 브로드캐스팅으로 만드세요.\n",
    "arr = np.array([[95, 97],\n",
    "                [80, 85]])\n",
    "add_values = 100 - arr\n",
    "print(add_values)\n",
    "print(arr + add_values)"
   ]
  },
  {
   "cell_type": "code",
   "execution_count": 17,
   "id": "d7169414",
   "metadata": {},
   "outputs": [
    {
     "name": "stdout",
     "output_type": "stream",
     "text": [
      "[[ 10  20  30]\n",
      " [400 500 600]]\n"
     ]
    }
   ],
   "source": [
    "# 실습1 문제5 아래 2차원 배열에서 각 행에 다른 값을 곱하여 새로운 배열을 만드세요.(브로드캐스팅 이용)\n",
    "arr = np.array([[1,2,3],\n",
    "                [4,5,6]])\n",
    "# 첫 번째 행은 10을 곱하고 두 번째 행은 100을 곱해야 합니다.\n",
    "arr2 = np.array([[10],\n",
    "                [100]])\n",
    "answer = arr * arr2\n",
    "print(answer)"
   ]
  },
  {
   "cell_type": "code",
   "execution_count": 25,
   "id": "ca0a2dbc",
   "metadata": {},
   "outputs": [
    {
     "name": "stdout",
     "output_type": "stream",
     "text": [
      "[[110 120]\n",
      " [230 240]\n",
      " [350 360]]\n"
     ]
    }
   ],
   "source": [
    "# 실습1 문제6 아래 배열에서 각 행마다 다른 스칼라 값을 더하기 위해 1차원 배열을 만들어 브로드캐스팅 연산을 수행하세요.\n",
    "# 첫 번째 행에 100, 두 번째 행에 200, 세 번째 행에 300을 더하세요.\n",
    "arr = np.array([10, 20, 30, 40, 50, 60]).reshape(3,2) # (3,2)\n",
    "# arr2 = np.array([[100],[200],[300]])\n",
    "arr2 = np.array([100,200,300]).reshape(3,1)\n",
    "answer = arr + arr2\n",
    "print(answer)"
   ]
  },
  {
   "cell_type": "markdown",
   "id": "d38ebee5",
   "metadata": {},
   "source": [
    "### 2-2. 통계 함수 및 집계 연산"
   ]
  },
  {
   "cell_type": "code",
   "execution_count": null,
   "id": "31ba4709",
   "metadata": {},
   "outputs": [
    {
     "name": "stdout",
     "output_type": "stream",
     "text": [
      "원소의 합 21\n",
      "원소의 평균 3.5\n",
      "표준편차 1.707825127659933\n",
      "최대값 6\n",
      "최소값 1\n",
      "최대값의 인덱스 호출 5\n",
      "최소값의 인덱스 호출 0\n"
     ]
    }
   ],
   "source": [
    "# 기본 통계 함수\n",
    "a = np.array([[1,2,3],[4,5,6]])\n",
    "\n",
    "print(\"원소의 합\", np.sum(a))\n",
    "print(\"원소의 평균\", np.mean(a))\n",
    "print(\"표준편차\", np.std(a))\n",
    "print(\"최대값\", np.max(a))\n",
    "print(\"최소값\", np.min(a))\n",
    "print(\"최대값의 인덱스 호출\", np.argmax(a))\n",
    "print(\"최소값의 인덱스 호출\", np.argmin(a))"
   ]
  },
  {
   "cell_type": "code",
   "execution_count": null,
   "id": "b85f03be",
   "metadata": {},
   "outputs": [
    {
     "name": "stdout",
     "output_type": "stream",
     "text": [
      "행 기준 [12 15 18]\n",
      "열 기준 [ 6 15 24]\n",
      "행 기준 [4. 5. 6.]\n",
      "열 기준 [2. 5. 8.]\n"
     ]
    }
   ],
   "source": [
    "# 축(axis) 단위 연산\n",
    "# axis = 0 → 가장 높은 차원 기준 → 행 기준\n",
    "    # 행 기준 = 행을 따라 연산 = 행을 증가시키며 연산 ex) (0,0) → (1,0)\n",
    "# axis = 1 → 그 다음 차원 기준 → 열 기준\n",
    "    # 열 기준 = 열을 따라 연산 = 열을 증가시키며 연산 ex) (0,0) → (0,1)\n",
    "a = np.array([[1,2,3],\n",
    "                [4,5,6],\n",
    "                [7,8,9]])\n",
    "\n",
    "a.shape\n",
    "\n",
    "print(\"행 기준\", np.sum(a, axis=0))\n",
    "print(\"열 기준\", np.sum(a, axis=1))\n",
    "print(\"행 기준\", np.mean(a, axis=0))\n",
    "print(\"열 기준\", np.mean(a, axis=1))"
   ]
  },
  {
   "cell_type": "code",
   "execution_count": null,
   "id": "89f88eb4",
   "metadata": {},
   "outputs": [
    {
     "name": "stdout",
     "output_type": "stream",
     "text": [
      "[ 1  3  6 10]\n",
      "[ 1  2  6 24]\n"
     ]
    }
   ],
   "source": [
    "# 누적 연산\n",
    "arr = np.array([1,2,3,4])\n",
    "print(np.cumsum(arr)) # 더하기 누적\n",
    "print(np.cumprod(arr)) # 곱하기 누적"
   ]
  },
  {
   "cell_type": "code",
   "execution_count": 39,
   "id": "1eeb9b7b",
   "metadata": {},
   "outputs": [
    {
     "name": "stdout",
     "output_type": "stream",
     "text": [
      "전체 합계 50\n",
      "전체 평균 12.5\n"
     ]
    }
   ],
   "source": [
    "# 실습2 문제1. 아래 배열의 전체 합계와 평균을 각각 구하세요.\n",
    "arr = np.array([5, 10, 15, 20])\n",
    "print(\"전체 합계\", np.sum(arr))\n",
    "print(\"전체 평균\", np.mean(arr))"
   ]
  },
  {
   "cell_type": "code",
   "execution_count": 40,
   "id": "7413a6af",
   "metadata": {},
   "outputs": [
    {
     "name": "stdout",
     "output_type": "stream",
     "text": [
      "전체 최소값 9\n",
      "전체 최대값 1\n"
     ]
    }
   ],
   "source": [
    "# 실습2 문제2. 다음 2차원 배열에서 전체 최소값과 최대값을 구하세요.\n",
    "arr = np.array([[3, 7, 1],\n",
    "                [9, 2, 8]])\n",
    "print(\"전체 최소값\", np.max(arr))\n",
    "print(\"전체 최대값\", np.min(arr))"
   ]
  },
  {
   "cell_type": "code",
   "execution_count": 48,
   "id": "3c7a1ab4",
   "metadata": {},
   "outputs": [
    {
     "name": "stdout",
     "output_type": "stream",
     "text": [
      "각 열의 합계 [12 15 18]\n",
      "각 행의 합계 [ 6 15 24]\n"
     ]
    }
   ],
   "source": [
    "# 실습2 문제3. 아래 배열에서 각 열의 합계와 각 행의 합계를 각각 구하세요.\n",
    "arr = np.array([[1, 2, 3],\n",
    "                [4, 5, 6],\n",
    "                [7, 8, 9]])\n",
    "print(\"각 열의 합계\", np.sum(arr, axis=0))\n",
    "print(\"각 행의 합계\", np.sum(arr, axis=1))"
   ]
  },
  {
   "cell_type": "code",
   "execution_count": 49,
   "id": "e51f2314",
   "metadata": {},
   "outputs": [
    {
     "name": "stdout",
     "output_type": "stream",
     "text": [
      "행별 평균 [15. 35. 55.]\n",
      "열별 평균 [30. 40.]\n"
     ]
    }
   ],
   "source": [
    "# 실습2 문제4. 아래 배열에서 행별 평균과 열별 평균을 각각 구하세요.\n",
    "arr = np.array([[10, 20],\n",
    "                [30, 40],\n",
    "                [50, 60]])\n",
    "print(\"행별 평균\",  np.mean(arr, axis=1))\n",
    "print(\"열별 평균\",  np.mean(arr, axis=0))"
   ]
  },
  {
   "cell_type": "code",
   "execution_count": 50,
   "id": "c31352e7",
   "metadata": {},
   "outputs": [
    {
     "name": "stdout",
     "output_type": "stream",
     "text": [
      "표준편차: 2.0\n",
      "편차 배열: [-3. -1. -1. -1.  0.  0.  2.  4.]\n"
     ]
    }
   ],
   "source": [
    "# 실습2 문제5. 1차원 배열에서 전체 표준편차를 구하고, \n",
    "# 각 요소가 평균으로부터 얼마나 떨어져 있는지 편차 배열을 만드세요. (값 -평균)\n",
    "arr = np.array([2, 4, 4, 4, 5, 5, 7, 9])\n",
    "\n",
    "print(\"표준편차:\", np.std(arr))\n",
    "print(\"편차 배열:\", arr - np.mean(arr))"
   ]
  },
  {
   "cell_type": "code",
   "execution_count": 52,
   "id": "2cabcf11",
   "metadata": {},
   "outputs": [
    {
     "name": "stdout",
     "output_type": "stream",
     "text": [
      "행 단위 누적 합:\n",
      " [[ 1  3  6]\n",
      " [ 4  9 15]]\n",
      "열 단위 누적 곱:\n",
      " [[ 1  2  3]\n",
      " [ 4 10 18]]\n"
     ]
    }
   ],
   "source": [
    "# 실습2 문제6. 아래 2차원 배열에서 행 단위 누적 합과 열 단위 누적 곱을 각각 구하세요.\n",
    "arr = np.array([[1, 2, 3],\n",
    "                [4, 5, 6]])\n",
    "\n",
    "print(\"행 단위 누적 합:\\n\", np.cumsum(arr, axis = 1))\n",
    "print(\"열 단위 누적 곱:\\n\", np.cumprod(arr, axis = 0))"
   ]
  },
  {
   "cell_type": "markdown",
   "id": "abe49b80",
   "metadata": {},
   "source": [
    "### 2-3. 논리 연산과 조건 연산"
   ]
  },
  {
   "cell_type": "code",
   "execution_count": null,
   "id": "90bf7cff",
   "metadata": {},
   "outputs": [
    {
     "name": "stdout",
     "output_type": "stream",
     "text": [
      "['Low' 'Low' 'Low' 'High' 'High']\n"
     ]
    }
   ],
   "source": [
    "# np.where()\n",
    "# np.where(조건, 참이면 선택할 값, 거짓이면 선택할 값)\n",
    "# 조건 기반 선택 함수\n",
    "\n",
    "arr = np.array([10,20,30,40,50])\n",
    "result = np.where(arr > 30, \"High\", \"Low\")\n",
    "print(result)"
   ]
  },
  {
   "cell_type": "code",
   "execution_count": 55,
   "id": "51020fb4",
   "metadata": {},
   "outputs": [
    {
     "name": "stdout",
     "output_type": "stream",
     "text": [
      "(array([3, 4]),)\n",
      "[40 50]\n"
     ]
    }
   ],
   "source": [
    "# 조건만 넣을 경우\n",
    "# 조건을 만족하는 원소의 인덱스를 반환\n",
    "arr = np.array([10,20,30,40,50])\n",
    "result = np.where(arr > 30)\n",
    "print(result)\n",
    "print(arr[result]) # 원본 배열에 Fancy indexing"
   ]
  },
  {
   "cell_type": "code",
   "execution_count": null,
   "id": "3017ce59",
   "metadata": {},
   "outputs": [
    {
     "name": "stdout",
     "output_type": "stream",
     "text": [
      "[False  True  True  True False]\n",
      "연산(&) [20 30 40]\n",
      "or연산(|) [10 50]\n",
      "not연산(~) [10 20 30]\n"
     ]
    }
   ],
   "source": [
    "# 논리 연산\n",
    "# 표기법\n",
    "# and : & - 모든 조건이 True여야 True\n",
    "# or :| - 조건 중 하나라도 True면 True\n",
    "# not: ~ - True를 False로 False를 True\n",
    "\n",
    "# and 연산(&)\n",
    "arr = np.array([10,20,30,40,50])\n",
    "mask = (arr >10) & (arr < 50)\n",
    "print(mask)\n",
    "print(\"연산(&)\", arr[mask])\n",
    "\n",
    "# or연산(|)\n",
    "mask_or = (arr < 20) | (arr > 40)\n",
    "print(\"or연산(|)\",arr[mask_or])\n",
    "\n",
    "#  not연산(~)\n",
    "mask_not = ~ (arr > 30)\n",
    "print(\"not연산(~)\", arr[mask_not])"
   ]
  },
  {
   "cell_type": "code",
   "execution_count": null,
   "id": "b447db92",
   "metadata": {},
   "outputs": [
    {
     "name": "stdout",
     "output_type": "stream",
     "text": [
      "[52 54 56 58 60 62 64 66 68 70 72 74 76 78 80 82 84 86 88 90 92 94 96 98]\n"
     ]
    }
   ],
   "source": [
    "arr = np.arange(0,100)\n",
    "mask = (arr % 2)"
   ]
  },
  {
   "cell_type": "code",
   "execution_count": 66,
   "id": "b5e11881",
   "metadata": {},
   "outputs": [
    {
     "name": "stdout",
     "output_type": "stream",
     "text": [
      "[12 18]\n"
     ]
    }
   ],
   "source": [
    "# 실습3 문제1. 1차원 배열 [5, 12, 18, 7, 30, 25]에서 10보다 크고 20보다 작은 값만 필터링하세요.\n",
    "arr = np.array([5, 12, 18, 7, 30, 25])\n",
    "print(arr[(arr > 10) & (arr < 20)])"
   ]
  },
  {
   "cell_type": "code",
   "execution_count": 67,
   "id": "be2e840b",
   "metadata": {},
   "outputs": [
    {
     "name": "stdout",
     "output_type": "stream",
     "text": [
      "[10 15 30 35]\n"
     ]
    }
   ],
   "source": [
    "# 실습3 문제2. 0배열 [10, 15, 20, 25, 30, 35]에서 15 이하이거나 30 이상인 값만 선택하세요.\n",
    "arr = np.array([10, 15, 20, 25, 30, 35])\n",
    "print(arr[(arr <= 15) | (arr >= 30)])"
   ]
  },
  {
   "cell_type": "code",
   "execution_count": 68,
   "id": "d2a333d0",
   "metadata": {},
   "outputs": [
    {
     "name": "stdout",
     "output_type": "stream",
     "text": [
      "[3 8 0 6 2 0]\n"
     ]
    }
   ],
   "source": [
    "# 실습3 문제3. 배열 [3, 8, 15, 6, 2, 20]에서 10 이상인 값을 모두 0으로 변경하세요.\n",
    "arr = np.array([3, 8, 15, 6, 2, 20])\n",
    "arr[arr >= 10] = 0\n",
    "print(arr)"
   ]
  },
  {
   "cell_type": "code",
   "execution_count": 69,
   "id": "6c68027a",
   "metadata": {},
   "outputs": [
    {
     "name": "stdout",
     "output_type": "stream",
     "text": [
      "['Low' 'Low' 'High' 'High' 'High']\n"
     ]
    }
   ],
   "source": [
    "# 실습3 문제4. 배열 [7, 14, 21, 28, 35]에서 20 이상인 값은 \"High\", 나머지는 \"Low\"로 표시하는 새로운 배열을 생성하세요.\n",
    "arr = np.array([7, 14, 21, 28, 35])\n",
    "result = np.where(arr >= 20, \"High\", \"Low\")\n",
    "print(result)"
   ]
  },
  {
   "cell_type": "code",
   "execution_count": 77,
   "id": "64217c36",
   "metadata": {},
   "outputs": [
    {
     "name": "stdout",
     "output_type": "stream",
     "text": [
      "[ 0 10  2 30  4 50  6 70  8 90]\n"
     ]
    }
   ],
   "source": [
    "# 실습3 문제5. 0~9 범위의 배열에서 짝수는 그대로 두고, 홀수는 홀수 값 ×10으로 변환한 배열을 만드세요\n",
    "arr = np.arange(10)\n",
    "result = np.where(arr % 2 == 0, arr, arr * 10)\n",
    "print(result)"
   ]
  },
  {
   "cell_type": "code",
   "execution_count": 78,
   "id": "3cc18eb7",
   "metadata": {},
   "outputs": [
    {
     "name": "stdout",
     "output_type": "stream",
     "text": [
      "[25 30 40 20 35]\n"
     ]
    }
   ],
   "source": [
    "# 실습3 문제6. 아래 2차원 배열 에서 20 이상 40 이하인 값만 선택하세요.\n",
    "arr = np.array([[10, 25, 30],[40, 5, 15],[20, 35, 50]])\n",
    "mask = (arr >=20) & (arr <= 40)\n",
    "print(arr[mask])"
   ]
  },
  {
   "cell_type": "code",
   "execution_count": 79,
   "id": "72311069",
   "metadata": {},
   "outputs": [
    {
     "name": "stdout",
     "output_type": "stream",
     "text": [
      "[1 2 4 5]\n"
     ]
    }
   ],
   "source": [
    "# 실습3 문제7.배열 [1, 2, 3, 4, 5, 6]에서 3의 배수가 아닌 값만 선택하세요.\n",
    "arr = np.array([1, 2, 3, 4, 5, 6])\n",
    "mask = ~(arr % 3 == 0)\n",
    "print(arr[mask])"
   ]
  },
  {
   "cell_type": "code",
   "execution_count": 80,
   "id": "2b6187fc",
   "metadata": {},
   "outputs": [
    {
     "name": "stdout",
     "output_type": "stream",
     "text": [
      "[28 67  9 83 96 66 63 86 95 91]\n",
      "[50 67 50 83 96 66 63 86 95 91]\n"
     ]
    }
   ],
   "source": [
    "#실습3 문제8. 랜덤 정수(0~100) 10개 배열에서 아래와 같이 새로운 배열을 만드세요.\n",
    "arr = np.random.randint(0, 101, 10)\n",
    "print(arr)\n",
    "# 50 이상인 값은 그대로\n",
    "# 50 미만인 값은 50으로 변경\n",
    "print(np.where(arr >= 50, arr, 50))"
   ]
  },
  {
   "cell_type": "code",
   "execution_count": null,
   "id": "e1f5289a",
   "metadata": {},
   "outputs": [
    {
     "name": "stdout",
     "output_type": "stream",
     "text": [
      "[[ 5 50 95]\n",
      " [20 75 10]\n",
      " [60 30 85]]\n",
      "[['C' 'B' 'A']\n",
      " ['C' 'A' 'C']\n",
      " ['B' 'B' 'A']]\n"
     ]
    }
   ],
   "source": [
    "# 실습3 문제9. 2차원 배열에서 아래와 같이 분류된 문자열 배열을 생성하세요.\n",
    "arr = np.array([[5, 50, 95],[20, 75, 10],[60, 30, 85]])\n",
    "print(arr)\n",
    "# 70 이상 → \"A\"\n",
    "# 30 이상 70 미만 → \"B\"\n",
    "# 30 미만 → \"C“\n",
    "print(np.where(arr >= 70, \"A\", np.where(arr >= 30, \"B\", \"C\")))\n"
   ]
  }
 ],
 "metadata": {
  "kernelspec": {
   "display_name": "base",
   "language": "python",
   "name": "python3"
  },
  "language_info": {
   "codemirror_mode": {
    "name": "ipython",
    "version": 3
   },
   "file_extension": ".py",
   "mimetype": "text/x-python",
   "name": "python",
   "nbconvert_exporter": "python",
   "pygments_lexer": "ipython3",
   "version": "3.13.5"
  }
 },
 "nbformat": 4,
 "nbformat_minor": 5
}
