{
 "cells": [
  {
   "cell_type": "markdown",
   "id": "6c3b3497",
   "metadata": {},
   "source": [
    "### 2-1. NumPy 배열 연산"
   ]
  },
  {
   "cell_type": "code",
   "execution_count": null,
   "id": "5a5958b0",
   "metadata": {},
   "outputs": [],
   "source": [
    "import numpy as np"
   ]
  },
  {
   "cell_type": "code",
   "execution_count": null,
   "id": "99d238a6",
   "metadata": {},
   "outputs": [],
   "source": [
    "# 배열 연산\n",
    "# NumPy 배열 연산은 요소 단위로 수행됨\n",
    "# 배열과 배열 간 또는 배열과 스칼라 값 간의 연산을 지원\n",
    "# 브로드캐스팅을 통해 서로 다른 크기의 배열 간 연산도 자동으로 확장 가능"
   ]
  },
  {
   "cell_type": "code",
   "execution_count": null,
   "id": "cb0e8fd2",
   "metadata": {},
   "outputs": [],
   "source": [
    "# 배열 간 연산(1차원)\n",
    "# 같은 크기의 배열끼리는 요소별로 연산이 이루어짐\n",
    "a1 = np.array([1,2,3])\n",
    "a2 = np.array([4,5,6])\n",
    "\n",
    "print((a1 + a2))\n",
    "print((a1 - a2))"
   ]
  },
  {
   "cell_type": "code",
   "execution_count": null,
   "id": "b99d86dd",
   "metadata": {},
   "outputs": [],
   "source": [
    "# 배열 간 연산(2차원)\n",
    "a1 = np.arange(1, 5).reshape(2,2)\n",
    "a2 = np.arange(11, 15).reshape(2,2)\n",
    "print(a1)\n",
    "print(a2)\n",
    "\n",
    "print(a1 + a2)\n",
    "print(a2 - a1)"
   ]
  },
  {
   "cell_type": "code",
   "execution_count": null,
   "id": "e7fac558",
   "metadata": {},
   "outputs": [],
   "source": [
    "# 배열과 스칼라 연산(1차원)\n",
    "a1 = np.array([1,2,3,4])\n",
    "print(a1 + 10)\n",
    "print(a1 * 2)"
   ]
  },
  {
   "cell_type": "code",
   "execution_count": null,
   "id": "e38ae4f7",
   "metadata": {},
   "outputs": [],
   "source": [
    "# 배열과 스칼라 연산(2차원)\n",
    "a1 = np.arange(1, 5).reshape(2,2)\n",
    "a2 = np.arange(11, 15).reshape(2,2)\n",
    "print(a1)\n",
    "print(a2)\n",
    "\n",
    "print(a1 + 5)\n",
    "print(a2 * 3)\n",
    "print(a2 / 2)"
   ]
  },
  {
   "cell_type": "code",
   "execution_count": null,
   "id": "daa0299c",
   "metadata": {},
   "outputs": [],
   "source": [
    "# 배열의 구조가 다를 경우\n",
    "a1 = np.array([1,2])\n",
    "a2 = np.array([1,2,3])\n",
    "print(a1 + a2)\n",
    "# 브로드캐스트 에러 발생 operands could not be broadcast together with shapes (2,) (3,)"
   ]
  },
  {
   "cell_type": "code",
   "execution_count": null,
   "id": "ec9fbe9f",
   "metadata": {},
   "outputs": [],
   "source": [
    "# 브로드캐스팅 \n",
    "# 자동으로 배열의 크기를 확장 → 서로 다른 크기의 배열 간 연산을 가능하게 하는 기능\n",
    "# 1. 두 배열의 차원을 뒤(낮은 차원)에서부터 비교\n",
    "# 2. 크기가 같거나\n",
    "# 3. 한 쪽이 1인 경우 확장이 가능\n",
    "\n",
    "a1 = np.array([[1,2,3],[4,5,6]]) # 2x3 배열\n",
    "a2 = np.array([10,20,30]) # 길이가 3인 1차원 배열\n",
    "\n",
    "# 1차원 길이3\n",
    "[10,20,30]\n",
    "\n",
    "# 2차원으로 변형(1,3)\n",
    "[[10,20,30]]\n",
    "\n",
    "# 2차원의 행이 2로 확장\n",
    "[[10,20,30],[10,20,30]]\n",
    "\n",
    "print(a1 + a2)"
   ]
  },
  {
   "cell_type": "code",
   "execution_count": null,
   "id": "4620142c",
   "metadata": {},
   "outputs": [],
   "source": [
    "# 브로드캐스팅 예제\n",
    "a1 = np.array([[1], [2], [3]]) #(3,1)\n",
    "a12= np.array([10, 20, 30]) #(3,)\n",
    "\n",
    "# a2 : (3,) → (1,3)로 변형\n",
    "[[10, 20, 30]]\n",
    "\n",
    "# a1과 a2비교 : a1 = (3,1), a2 = (1,3)\n",
    "# 2차원의 경우 : 3 vs 1 → a2의 2차원이 3으로 확장\n",
    "[[10,20,30],[10,20,30],[10,20,30]]\n",
    "\n",
    "# 1차원의 경우 : 1 vs 3 → a1의 1차원이 3으로 확장\n",
    "[[1,1,1],[2,2,2],[3,3,3]]\n",
    "\n",
    "# a1\n",
    "[[1,1,1],[2,2,2],[3,3,3]]\n",
    "                # +\n",
    "# a2\n",
    "[[10,20,30],[10,20,30],[10,20,30]]\n",
    "\n",
    "print(a1 + a2)"
   ]
  },
  {
   "cell_type": "code",
   "execution_count": 22,
   "id": "a7e0185e",
   "metadata": {},
   "outputs": [
    {
     "ename": "ValueError",
     "evalue": "operands could not be broadcast together with shapes (2,3) (3,2) ",
     "output_type": "error",
     "traceback": [
      "\u001b[31m---------------------------------------------------------------------------\u001b[39m",
      "\u001b[31mValueError\u001b[39m                                Traceback (most recent call last)",
      "\u001b[36mCell\u001b[39m\u001b[36m \u001b[39m\u001b[32mIn[22]\u001b[39m\u001b[32m, line 4\u001b[39m\n\u001b[32m      2\u001b[39m a1 = np.ones((\u001b[32m2\u001b[39m,\u001b[32m3\u001b[39m))\n\u001b[32m      3\u001b[39m a2 = np.ones((\u001b[32m3\u001b[39m,\u001b[32m2\u001b[39m))\n\u001b[32m----> \u001b[39m\u001b[32m4\u001b[39m \u001b[43ma1\u001b[49m\u001b[43m \u001b[49m\u001b[43m+\u001b[49m\u001b[43m \u001b[49m\u001b[43ma2\u001b[49m\n",
      "\u001b[31mValueError\u001b[39m: operands could not be broadcast together with shapes (2,3) (3,2) "
     ]
    }
   ],
   "source": [
    "# 브로드캐스팅 불가능한 경우\n",
    "a1 = np.ones((2,3))\n",
    "a2 = np.ones((3,2))\n",
    "a1 + a2"
   ]
  },
  {
   "cell_type": "code",
   "execution_count": 20,
   "id": "ddfb1b98",
   "metadata": {},
   "outputs": [
    {
     "name": "stdout",
     "output_type": "stream",
     "text": [
      "[4 5 6 7]\n"
     ]
    }
   ],
   "source": [
    "# 실습1 문제1 다음 배열을 생성하고, 모든 요소에 3을 더하세요.\n",
    "arr = np.array([1, 2, 3, 4])\n",
    "arr2 = np.array([3])\n",
    "answer = arr + arr2\n",
    "print(answer)"
   ]
  },
  {
   "cell_type": "code",
   "execution_count": 21,
   "id": "815ac9d0",
   "metadata": {},
   "outputs": [
    {
     "name": "stdout",
     "output_type": "stream",
     "text": [
      "[[ -5 -10]\n",
      " [-15 -20]]\n"
     ]
    }
   ],
   "source": [
    "# 실습1 문제2 아래 2차원 배열에서 각 요소를 -1로 곱한 새로운 배열을 만드세요.\n",
    "arr = np.array([[5, 10],\n",
    "                [15, 20]])\n",
    "arr2 = np.array([[-1]])\n",
    "answer = arr * arr2\n",
    "print(answer)"
   ]
  },
  {
   "cell_type": "code",
   "execution_count": 15,
   "id": "0d516f6d",
   "metadata": {},
   "outputs": [
    {
     "name": "stdout",
     "output_type": "stream",
     "text": [
      "곱셈 [ 2  8 18]\n",
      "나눗셈 [2. 2. 2.]\n"
     ]
    }
   ],
   "source": [
    "# 실습1 문제3 아래 두 배열의 요소별 곱셈과 나눗셈 결과를 각각 출력하세요.\n",
    "arr1 = np.array([2, 4, 6])\n",
    "arr2 = np.array([1, 2, 3])\n",
    "\n",
    "print(\"곱셈\", arr1 * arr2)\n",
    "print(\"나눗셈\", arr1 / arr2)\n"
   ]
  },
  {
   "cell_type": "code",
   "execution_count": 23,
   "id": "95f5ba2c",
   "metadata": {},
   "outputs": [
    {
     "name": "stdout",
     "output_type": "stream",
     "text": [
      "[[ 5  3]\n",
      " [20 15]]\n",
      "[[100 100]\n",
      " [100 100]]\n"
     ]
    }
   ],
   "source": [
    "# 실습1 문제4 아래 배열에서 모든 요소를 최대값 100으로 만들기 위해 필요한 값을 더한 결과 배열을 브로드캐스팅으로 만드세요.\n",
    "arr = np.array([[95, 97],\n",
    "                [80, 85]])\n",
    "add_values = 100 - arr\n",
    "print(add_values)\n",
    "print(arr + add_values)"
   ]
  },
  {
   "cell_type": "code",
   "execution_count": 17,
   "id": "d7169414",
   "metadata": {},
   "outputs": [
    {
     "name": "stdout",
     "output_type": "stream",
     "text": [
      "[[ 10  20  30]\n",
      " [400 500 600]]\n"
     ]
    }
   ],
   "source": [
    "# 실습1 문제5 아래 2차원 배열에서 각 행에 다른 값을 곱하여 새로운 배열을 만드세요.(브로드캐스팅 이용)\n",
    "arr = np.array([[1,2,3],\n",
    "                [4,5,6]])\n",
    "# 첫 번째 행은 10을 곱하고 두 번째 행은 100을 곱해야 합니다.\n",
    "arr2 = np.array([[10],\n",
    "                [100]])\n",
    "answer = arr * arr2\n",
    "print(answer)"
   ]
  },
  {
   "cell_type": "code",
   "execution_count": 18,
   "id": "ca0a2dbc",
   "metadata": {},
   "outputs": [
    {
     "name": "stdout",
     "output_type": "stream",
     "text": [
      "[[110 120]\n",
      " [230 240]\n",
      " [350 360]]\n"
     ]
    }
   ],
   "source": [
    "# 실습1 문제6 아래 배열에서 각 행마다 다른 스칼라 값을 더하기 위해 1차원 배열을 만들어 브로드캐스팅 연산을 수행하세요.\n",
    "# 첫 번째 행에 100, 두 번째 행에 200, 세 번째 행에 300을 더하세요.\n",
    "arr = np.array([[10, 20],\n",
    "                [30, 40],\n",
    "                [50, 60]])\n",
    "arr2 = np.array([[100],\n",
    "                [200],\n",
    "                [300]])\n",
    "answer = arr + arr2\n",
    "print(answer)"
   ]
  }
 ],
 "metadata": {
  "kernelspec": {
   "display_name": "base",
   "language": "python",
   "name": "python3"
  },
  "language_info": {
   "codemirror_mode": {
    "name": "ipython",
    "version": 3
   },
   "file_extension": ".py",
   "mimetype": "text/x-python",
   "name": "python",
   "nbconvert_exporter": "python",
   "pygments_lexer": "ipython3",
   "version": "3.13.5"
  }
 },
 "nbformat": 4,
 "nbformat_minor": 5
}
