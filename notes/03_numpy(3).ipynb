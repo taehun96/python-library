{
 "cells": [
  {
   "cell_type": "markdown",
   "id": "5313eac3",
   "metadata": {},
   "source": [
    "## NumPy(3)"
   ]
  },
  {
   "cell_type": "markdown",
   "id": "b773236b",
   "metadata": {},
   "source": [
    "### 3-1 배열의 형태 변형과 차원의 확장/축소"
   ]
  },
  {
   "cell_type": "code",
   "execution_count": null,
   "id": "64e1fe96",
   "metadata": {},
   "outputs": [],
   "source": [
    "import numpy as np"
   ]
  },
  {
   "cell_type": "code",
   "execution_count": null,
   "id": "66f900d3",
   "metadata": {},
   "outputs": [],
   "source": [
    "# array.ravel()\n",
    "# 다차원 배열을 1차원 배열로 펼침\n",
    "# 결과를 view로 반환(view를 변경시 원본도 변경)\n",
    "a = np.array([[1,2,3],[4,5,6]])\n",
    "print(a)\n",
    "\n",
    "flat = a.ravel()\n",
    "print(flat)\n",
    "\n",
    "flat[2] = 100\n",
    "print(flat)\n",
    "print(a)"
   ]
  },
  {
   "cell_type": "code",
   "execution_count": null,
   "id": "47dc8e95",
   "metadata": {},
   "outputs": [],
   "source": [
    "# array.flatten()\n",
    "# 다차원 배열을 1차원 배열로 펼침\n",
    "# 결과를 복사본으로 반환(복사본 변경시 원본은 변경되지 않음)\n",
    "a = np.array([[[1,2],[3,4]],[[5,6],[7,8]]])\n",
    "print(a)\n",
    "\n",
    "flat = a.flatten()\n",
    "print(flat)\n",
    "\n",
    "flat[4] = 0\n",
    "print(flat)\n",
    "print(a)"
   ]
  },
  {
   "cell_type": "code",
   "execution_count": null,
   "id": "1bab7211",
   "metadata": {},
   "outputs": [],
   "source": [
    "# np.expand_dims(a, axis)\n",
    "# 지정한 위치에 차원 추가(차원 확장)\n",
    "# 추가되는 차원은 1\n",
    "\n",
    "a = np.array([[1,2,3],[4,5,6]]) # 2 x 3 배열\n",
    "print(\"원본\", a.shape)\n",
    "\n",
    "# axis=0 가장 앞쪽에 차원을 추가\n",
    "a0 = np.expand_dims(a, axis=0)\n",
    "print(\"a0\", a0.shape)\n",
    "print(\"a0\", a0)\n",
    "print()\n",
    "\n",
    "# axis=1\n",
    "a1 = np.expand_dims(a, axis=1)\n",
    "print(\"a1\", a1.shape)\n",
    "print(\"a1\", a1)\n",
    "print()\n",
    "\n",
    "# axis=2\n",
    "a2 = np.expand_dims(a, axis=2)\n",
    "print(\"a2\", a2.shape)\n",
    "print(\"a2\", a2)"
   ]
  },
  {
   "cell_type": "code",
   "execution_count": null,
   "id": "45b5b1e4",
   "metadata": {},
   "outputs": [],
   "source": [
    "# np.squeeze(a, axis)\n",
    "# 배열에서 크기가 1인 차원을 제거해주는 함수\n",
    "a = np.array([[[[1],[2],[3]]], [[[1],[2],[3]]]])\n",
    "print(a.shape)\n",
    "s = np.squeeze(a)\n",
    "print(s)\n",
    "print(s.shape)"
   ]
  },
  {
   "cell_type": "code",
   "execution_count": null,
   "id": "0b5f2e16",
   "metadata": {},
   "outputs": [],
   "source": [
    "# axis 지정하는 경우\n",
    "a2 = np.zeros((1,4,1,2))\n",
    "print(a2.shape)\n",
    "\n",
    "s1 = np.squeeze(a2, axis=0)\n",
    "print(s1.shape)\n",
    "\n",
    "s2 = np.squeeze(a2, axis=2)\n",
    "print(s2.shape)\n",
    "\n",
    "# 차원의 크기가 1이 아닌 차원은 제거할 수 없음\n",
    "# ValueError: cannot select an axis to squeeze out which has size not equal to one\n",
    "s3 = np.squeeze(a2, axis=1)"
   ]
  },
  {
   "cell_type": "code",
   "execution_count": null,
   "id": "9278f2f0",
   "metadata": {},
   "outputs": [],
   "source": [
    "# np.unique()\n",
    "# np.unique(ar, return_index=False, return_inverse=False, return_counts=False, axis=None)\n",
    "# 배열에서 중복된 요소를 제거\n",
    "\n",
    "a = np.array([1,1,1,5,5,2,2,2,2,4,4,4,3,3,3])\n",
    "u1 = np.unique(a) # 고유값의 오름차순 배열 반환\n",
    "print(u1)\n",
    "\n",
    "u2, idx, inv, cnt = np.unique(a, return_index=True, return_inverse=True, return_counts=True)\n",
    "print(\"인덱스\", idx) # 고유값이 원본에서 처음 나타나는 인덱스\n",
    "print(\"원본의 고유값 인덱스\", inv) # 원본 배열을 재구성할 수 있는 인덱스 배열 반환\n",
    "print(\"값의 등장 횟수\", cnt) # 각 고유값의 등장 횟수 반환"
   ]
  },
  {
   "cell_type": "code",
   "execution_count": null,
   "id": "7cfd452f",
   "metadata": {},
   "outputs": [],
   "source": [
    "# 실습1 문제1. 아래의 배열을 사용해서\n",
    "arr = np.array([[10, 20], [30, 40], [50, 60]])\n",
    "# 1) ravel과 flatten을 각각 사용해 1차원 배열로 변환하고,\n",
    "# 2) arr의 첫 번째 원소(arr[0,0])를 999로 바꾼 뒤 ravel 결과와 flatten 결과에 어떤 변화가 있는지 확인하세요.\n",
    "\n",
    "# ravel과 flatten 사용\n",
    "r = arr.ravel()\n",
    "f = arr.flatten()\n",
    "print(r)\n",
    "print(f)\n",
    "# 원소 변경\n",
    "arr[0, 0] = 999\n",
    "\n",
    "print(\"ravel 결과:\\n\", r)\n",
    "print(\"flatten 결과:\\n\", f)\n"
   ]
  },
  {
   "cell_type": "code",
   "execution_count": null,
   "id": "20372e76",
   "metadata": {},
   "outputs": [],
   "source": [
    "# 실습1 문제2. 크기가 32x32인 이미지 데이터를 가정하고, 이 배열에 대해 expand_dims를 사용하여 shape (1, 32, 32)로 바꾸는 코드를 작성하세요.\n",
    "img= np.random.rand(32, 32)\n",
    "img2 = np.expand_dims(img, axis=0)\n",
    "print(img2)\n",
    "print(img2.shape)"
   ]
  },
  {
   "cell_type": "code",
   "execution_count": null,
   "id": "f6af3628",
   "metadata": {},
   "outputs": [],
   "source": [
    "# 실습1 문제3. 아래 배열에서 불필요한 1차원을 모두 제거하여 shape이 (28, 28)이 되도록 만드세요.\n",
    "img= np.random.randint(0, 255, (1, 28, 28, 1))\n",
    "print(np.squeeze(img))"
   ]
  },
  {
   "cell_type": "code",
   "execution_count": null,
   "id": "85239a6a",
   "metadata": {},
   "outputs": [],
   "source": [
    "# 실습1 문제4. 아래 2차원 배열을 1) 1차원 배열로 만든 후 2) 중복값을 제거한 뒤 shape (1, n)으로 재구성하세요.\n",
    "arr = np.array([[3, 1, 2, 2],\n",
    "                [1, 2, 3, 1],\n",
    "                [2, 2, 1, 4]])\n",
    "flat = arr.flatten()\n",
    "print(flat)\n",
    "uniq = np.unique(flat)\n",
    "print(uniq)\n",
    "result = uniq.reshape(1,-1) # -1을 입력할시 자동으로 계산해줌\n",
    "print(result)\n"
   ]
  },
  {
   "cell_type": "code",
   "execution_count": null,
   "id": "333187a8",
   "metadata": {},
   "outputs": [],
   "source": [
    "# 실습1 문제5. 다음 배열을 shape (10,)로 만든 뒤 고유값배열을 구하세요.\n",
    "arr = np.array([[[1], [3], [2], [1], [3], [2], [3], [1], [2], [3]]])  # shape (1, 10, 1)\n",
    "s = np.squeeze(arr)\n",
    "print(s)\n",
    "u= np.unique(s)\n",
    "print(u)"
   ]
  },
  {
   "cell_type": "code",
   "execution_count": null,
   "id": "00882cf4",
   "metadata": {},
   "outputs": [],
   "source": [
    "# 실습1 문제6. 다음 배열을 1차원 배열로 만든 후 고유값만 추출해서 \n",
    "# shape (고유값 개수, 1)인 2차원 배열로 변환하세요.\n",
    "arr = np.array([ [[0, 1, 2, 3], [1, 2, 3, 4], [2, 3, 4, 5]],\n",
    "                [[3, 4, 5, 6], [4, 5, 6, 7], [5, 6, 7, 8]] ])  # shape (2, 3, 4)\n",
    "flat = arr.flatten()\n",
    "print(flat)\n",
    "uniq = np.unique(flat)\n",
    "print(uniq)\n",
    "print(uniq.shape)\n",
    "reshaped = np.expand_dims(uniq, axis=1)\n",
    "print(reshaped)\n",
    "print(reshaped.shape)"
   ]
  },
  {
   "cell_type": "markdown",
   "id": "9e75bbfb",
   "metadata": {},
   "source": [
    "### 3-2. 배열의 결합과 분리"
   ]
  },
  {
   "cell_type": "code",
   "execution_count": null,
   "id": "a09202c5",
   "metadata": {},
   "outputs": [],
   "source": [
    "# np.concatenate()\n",
    "# 배열 시퀀스를 결합\n",
    "# 합칠 부분 괄호해야함\n",
    "# 기존 구조 안에서 결합\n",
    "a = np.array([[1,2],[3,4]]) # (2,2)\n",
    "b = np.array([[5,6]])\n",
    "\n",
    "result1 = np.concatenate((a,b), axis=0)\n",
    "print(result1)\n",
    "print(result1.shape)\n",
    "\n",
    "# 결합이 불가 → 결합하는 axis를 제외한 나머지 차원이 같아야 함\n",
    "# result2 = np.concatenate((a,b), axis=1)\n",
    "\n",
    "# 조건이 맞아야 결합가능\n",
    "c = np.array([[7],[8],[9]])\n",
    "result3 = np.concatenate((result1, c), axis=1)\n",
    "print(result3)\n",
    "print(result3.shape)"
   ]
  },
  {
   "cell_type": "code",
   "execution_count": null,
   "id": "1b1b62ef",
   "metadata": {},
   "outputs": [],
   "source": [
    "# np.stack()\n",
    "# 새로운 차원을 추가하면서 결합\n",
    "# 형태가 똑같아야 추가가 가능(concatenate랑 다름)\n",
    "a = np.array([1,2,3]) #(3,)\n",
    "b = np.array([4,5,6])\n",
    "\n",
    "# axis=0\n",
    "s1 = np.stack((a,b), axis=0) # 차원이 0번 자리에 추가\n",
    "print(s1)\n",
    "print(s1.shape)\n",
    "\n",
    "# axis=1\n",
    "s2 = np.stack((a,b), axis=1) # 차원이 1번 자리에 추가\n",
    "print(s2)\n",
    "print(s2.shape)"
   ]
  },
  {
   "cell_type": "code",
   "execution_count": null,
   "id": "b0a795ce",
   "metadata": {},
   "outputs": [],
   "source": [
    "# np.split()\n",
    "# 배열을 여러개의 하위 배열로 분할\n",
    "a = np.arange(9)\n",
    "s = np.split(a, 3)\n",
    "print(a)\n",
    "print(s)\n",
    "print(s[0])\n",
    "print(s[1])\n",
    "print(s[2])"
   ]
  },
  {
   "cell_type": "code",
   "execution_count": null,
   "id": "1740b954",
   "metadata": {},
   "outputs": [],
   "source": [
    "#  배열을 같은 크기로만 나눌 수 있음\n",
    "a = np.arange(9)\n",
    "# 에러 발생함\n",
    "s = np.split(a, 4)\n",
    "# ValueError: array split does not result in an equal division\n"
   ]
  },
  {
   "cell_type": "code",
   "execution_count": null,
   "id": "136b71ca",
   "metadata": {},
   "outputs": [
    {
     "name": "stdout",
     "output_type": "stream",
     "text": [
      "[[ 0  1  2  3]\n",
      " [ 4  5  6  7]\n",
      " [ 8  9 10 11]\n",
      " [12 13 14 15]]\n",
      "[[0 1 2 3]]\n",
      "[[ 4  5  6  7]\n",
      " [ 8  9 10 11]]\n",
      "[[12 13 14 15]]\n",
      "[[ 0  1]\n",
      " [ 4  5]\n",
      " [ 8  9]\n",
      " [12 13]]\n",
      "[[ 2  3]\n",
      " [ 6  7]\n",
      " [10 11]\n",
      " [14 15]]\n"
     ]
    }
   ],
   "source": [
    "a = np.arange(16).reshape(4,4)\n",
    "print(a)\n",
    "\n",
    "# 분할이 인덱스 1에서 한번 3에서 한번 분할됨\n",
    "# 균등하지 않게 split으로 쪼갤 수 있음\n",
    "s1 =np.split(a, [1,3], axis=0)\n",
    "for part in s1:\n",
    "    print(part)\n",
    "\n",
    "# axis=1자리 2로 쪼개짐\n",
    "s2 = np.split(a, 2, axis=1)\n",
    "for part in s2:\n",
    "    print(part)"
   ]
  },
  {
   "cell_type": "code",
   "execution_count": 69,
   "id": "9f8b0bb8",
   "metadata": {},
   "outputs": [
    {
     "name": "stdout",
     "output_type": "stream",
     "text": [
      "[[1 2]\n",
      " [3 4]\n",
      " [5 6]]\n"
     ]
    }
   ],
   "source": [
    "# 실습2 문제1.다음 두 배열을 행 방향으로 이어붙이세요.\n",
    "a = np.array([[1, 2], [3, 4]])\n",
    "b = np.array([[5, 6]])\n",
    "\n",
    "print(np.concatenate((a, b), axis=0))\n"
   ]
  },
  {
   "cell_type": "code",
   "execution_count": 97,
   "id": "b8514d24",
   "metadata": {},
   "outputs": [
    {
     "name": "stdout",
     "output_type": "stream",
     "text": [
      "[0 1 2 3]\n",
      "[4 5 6 7]\n",
      "[ 8  9 10 11]\n"
     ]
    }
   ],
   "source": [
    "# 실습2 문제2. 아래 배열을 3개로 같은 크기로 분할하세요.\n",
    "a = np.arange(12)\n",
    "result = np.split(a, 3)\n",
    "for part in result:\n",
    "    print(part)"
   ]
  },
  {
   "cell_type": "code",
   "execution_count": 72,
   "id": "b5b73a01",
   "metadata": {},
   "outputs": [
    {
     "name": "stdout",
     "output_type": "stream",
     "text": [
      "[[1 2]\n",
      " [3 4]\n",
      " [5 6]]\n",
      "(3, 2)\n"
     ]
    }
   ],
   "source": [
    "# 실습2 문제3. 다음 배열들을 새로운 축에 쌓아 shape이 (3, 2)인 배열을 만드세요.\n",
    "a = np.array([1, 2])\n",
    "b = np.array([3, 4])\n",
    "c = np.array([5, 6])\n",
    "result = np.stack((a, b, c), axis=0)\n",
    "print(result)\n",
    "print(result.shape)"
   ]
  },
  {
   "cell_type": "code",
   "execution_count": 91,
   "id": "01a621e2",
   "metadata": {},
   "outputs": [
    {
     "name": "stdout",
     "output_type": "stream",
     "text": [
      "[[[ 1  2  3]\n",
      "  [ 7  8  9]]\n",
      "\n",
      " [[ 4  5  6]\n",
      "  [10 11 12]]]\n",
      "(2, 2, 3)\n"
     ]
    }
   ],
   "source": [
    "# 실습2 문제4. shape가 (2, 3)인 아래 두 배열을 shape (2, 2, 3)인 3차원 배열을 만드세요.\n",
    "a = np.array([[1, 2, 3], [4, 5, 6]])\n",
    "b = np.array([[7, 8, 9], [10, 11, 12]])\n",
    "\n",
    "result = np.stack((a,b), axis=1)\n",
    "print(result)\n",
    "print(result.shape)"
   ]
  },
  {
   "cell_type": "code",
   "execution_count": 92,
   "id": "1d14c702",
   "metadata": {},
   "outputs": [
    {
     "name": "stdout",
     "output_type": "stream",
     "text": [
      "[0 1]\n",
      "[2 3 4]\n",
      "[5 6 7]\n"
     ]
    }
   ],
   "source": [
    "# 실습2 문제5. 아래의 1차원 배열을 2:3:3 비율(총 3개)로 분할하세요.\n",
    "arr = np.arange(8)\n",
    "s = np.split(arr, [2,5], axis=0)\n",
    "for part in s:\n",
    "    print(part)"
   ]
  },
  {
   "cell_type": "code",
   "execution_count": 95,
   "id": "88556f8f",
   "metadata": {},
   "outputs": [
    {
     "name": "stdout",
     "output_type": "stream",
     "text": [
      "[[[1. 1. 1.]\n",
      "  [1. 1. 1.]]\n",
      "\n",
      " [[0. 0. 0.]\n",
      "  [0. 0. 0.]]]\n",
      "(2, 2, 3)\n",
      "[[[1. 1. 1.]\n",
      "  [0. 0. 0.]]\n",
      "\n",
      " [[1. 1. 1.]\n",
      "  [0. 0. 0.]]]\n",
      "(2, 2, 3)\n"
     ]
    }
   ],
   "source": [
    "# 실습2 문제6. 아래 두 배열을 axis=0, axis=1로 각각 stack하여 두 경우의 결과 shape을 모두 구하세요 \n",
    "a = np.ones((2, 3))\n",
    "b = np.zeros((2, 3))\n",
    "\n",
    "s0 = np.stack((a,b), axis=0)\n",
    "print(s0)\n",
    "print(s0.shape)\n",
    "\n",
    "s1 = np.stack((a,b), axis=1)\n",
    "print(s1)\n",
    "print(s1.shape)"
   ]
  },
  {
   "cell_type": "markdown",
   "id": "0997bb8a",
   "metadata": {},
   "source": [
    "## 3-3. 배열의 정렬"
   ]
  },
  {
   "cell_type": "code",
   "execution_count": 79,
   "id": "0450ef01",
   "metadata": {},
   "outputs": [
    {
     "name": "stdout",
     "output_type": "stream",
     "text": [
      "[1 2 3 4]\n",
      "[3 1 4 2]\n",
      "[1 2 3 4]\n",
      "[4 3 2 1]\n"
     ]
    }
   ],
   "source": [
    "# np.sort(array)\n",
    "# 정렬된 복사본 반환\n",
    "\n",
    "# array.sort()\n",
    "# 원본 배열을 정렬\n",
    "\n",
    "# 1차원 배열\n",
    "a = np.array([3,1,4,2])\n",
    "\n",
    "# 정렬한 배열을 반환\n",
    "s = np.sort(a)\n",
    "print(s)\n",
    "print(a) # 원본은 정렬되지 않음\n",
    "\n",
    "# 원본을 정렬됨\n",
    "a.sort()\n",
    "print(a)\n",
    "\n",
    "# 내림차순 : sort한 후 배열을 뒤집어야 함\n",
    "print(a[::-1])"
   ]
  },
  {
   "cell_type": "code",
   "execution_count": null,
   "id": "656259ef",
   "metadata": {},
   "outputs": [
    {
     "name": "stdout",
     "output_type": "stream",
     "text": [
      "[[3 1 2]\n",
      " [6 5 4]]\n",
      "[[4 5 6]\n",
      " [1 2 3]]\n"
     ]
    }
   ],
   "source": [
    "# 2차원 배열 정렬\n",
    "a = [[6,5,4],[3,1,2]]\n",
    "\n",
    "s1 = np.sort(a, axis=0)\n",
    "print(s1)\n",
    "s2 = np.sort(a, axis=1)\n",
    "print(s2)\n"
   ]
  },
  {
   "cell_type": "code",
   "execution_count": 89,
   "id": "f38bb03e",
   "metadata": {},
   "outputs": [
    {
     "name": "stdout",
     "output_type": "stream",
     "text": [
      "[1 3 0 2]\n",
      "[1 2 3 4]\n"
     ]
    }
   ],
   "source": [
    "# np.argsort()\n",
    "# 정렬 인덱스를 반환\n",
    "a = np.array([3,1,4,2])\n",
    "idx = np.argsort(a)\n",
    "print(idx)\n",
    "print(a[idx])"
   ]
  },
  {
   "cell_type": "code",
   "execution_count": 82,
   "id": "9c9f8fcd",
   "metadata": {},
   "outputs": [
    {
     "name": "stdout",
     "output_type": "stream",
     "text": [
      "오름차순 [2 4 5 7 9]\n",
      "내림차순 [9 7 5 4 2]\n"
     ]
    }
   ],
   "source": [
    "# 실습3 문제1.아래의 1차원 배열을 오름차순과 내림차순으로 각각 정렬하는 코드를 작성하세요.\n",
    "arr = np.array([7, 2, 9, 4, 5])\n",
    "print(\"오름차순\",np.sort(arr))\n",
    "print(\"내림차순\",np.sort(arr)[::-1])"
   ]
  },
  {
   "cell_type": "code",
   "execution_count": 84,
   "id": "c2508e12",
   "metadata": {},
   "outputs": [
    {
     "name": "stdout",
     "output_type": "stream",
     "text": [
      "[[2 5 9]\n",
      " [1 3 8]]\n"
     ]
    }
   ],
   "source": [
    "# 실습3 문제2. 아래의 2차원 배열에서 각 행(row) 별로 오름차순 정렬된 배열을 구하세요.\n",
    "arr = np.array([[9, 2, 5],\n",
    "                [3, 8, 1]])\n",
    "print(np.sort(arr, axis=1))"
   ]
  },
  {
   "cell_type": "code",
   "execution_count": 87,
   "id": "10bc0f79",
   "metadata": {},
   "outputs": [
    {
     "name": "stdout",
     "output_type": "stream",
     "text": [
      "[3 1 2 4 0]\n",
      "[ 1  3  7  9 10]\n"
     ]
    }
   ],
   "source": [
    "# 실습3 문제3. 아래의 1차원 배열에서 정렬 결과(오름차순)가 되는 인덱스 배열을 구하고, 그 인덱스를 이용해 원본 배열을 직접 재정렬하는 코드를 작성하세요.\n",
    "arr = np.array([10, 3, 7, 1, 9])\n",
    "idx = np.argsort(arr)\n",
    "s = arr[idx]\n",
    "print(idx)\n",
    "print(s)"
   ]
  },
  {
   "cell_type": "code",
   "execution_count": 88,
   "id": "d76a697c",
   "metadata": {},
   "outputs": [
    {
     "name": "stdout",
     "output_type": "stream",
     "text": [
      "[[4 1 2]\n",
      " [6 7 3]\n",
      " [9 8 5]]\n"
     ]
    }
   ],
   "source": [
    "# 실습3 문제4. 아래 2차원 배열을 열(column) 기준(axis=0)으로 오름차순 정렬된 배열을 구하세요.\n",
    "arr = np.array([[4, 7, 2],\n",
    "                [9, 1, 5],\n",
    "                [6, 8, 3]])\n",
    "s = np.sort(arr, axis=0)\n",
    "print(s)\n"
   ]
  }
 ],
 "metadata": {
  "kernelspec": {
   "display_name": "base",
   "language": "python",
   "name": "python3"
  },
  "language_info": {
   "codemirror_mode": {
    "name": "ipython",
    "version": 3
   },
   "file_extension": ".py",
   "mimetype": "text/x-python",
   "name": "python",
   "nbconvert_exporter": "python",
   "pygments_lexer": "ipython3",
   "version": "3.13.5"
  }
 },
 "nbformat": 4,
 "nbformat_minor": 5
}
