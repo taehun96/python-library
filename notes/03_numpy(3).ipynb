{
 "cells": [
  {
   "cell_type": "markdown",
   "id": "5313eac3",
   "metadata": {},
   "source": [
    "## NumPy(3)"
   ]
  },
  {
   "cell_type": "markdown",
   "id": "b773236b",
   "metadata": {},
   "source": [
    "### 3-1 배열의 형태 변형과 차원의 확장/축소"
   ]
  },
  {
   "cell_type": "code",
   "execution_count": null,
   "id": "64e1fe96",
   "metadata": {},
   "outputs": [],
   "source": [
    "import numpy as np"
   ]
  },
  {
   "cell_type": "code",
   "execution_count": null,
   "id": "66f900d3",
   "metadata": {},
   "outputs": [],
   "source": [
    "# array.ravel()\n",
    "# 다차원 배열을 1차원 배열로 펼침\n",
    "# 결과를 view로 반환(view를 변경시 원본도 변경)\n",
    "a = np.array([[1,2,3],[4,5,6]])\n",
    "print(a)\n",
    "\n",
    "flat = a.ravel()\n",
    "print(flat)\n",
    "\n",
    "flat[2] = 100\n",
    "print(flat)\n",
    "print(a)"
   ]
  },
  {
   "cell_type": "code",
   "execution_count": null,
   "id": "47dc8e95",
   "metadata": {},
   "outputs": [],
   "source": [
    "# array.flatten()\n",
    "# 다차원 배열을 1차원 배열로 펼침\n",
    "# 결과를 복사본으로 반환(복사본 변경시 원본은 변경되지 않음)\n",
    "a = np.array([[[1,2],[3,4]],[[5,6],[7,8]]])\n",
    "print(a)\n",
    "\n",
    "flat = a.flatten()\n",
    "print(flat)\n",
    "\n",
    "flat[4] = 0\n",
    "print(flat)\n",
    "print(a)"
   ]
  },
  {
   "cell_type": "code",
   "execution_count": null,
   "id": "1bab7211",
   "metadata": {},
   "outputs": [],
   "source": [
    "# np.expand_dims(a, axis)\n",
    "# 지정한 위치에 차원 추가(차원 확장)\n",
    "# 추가되는 차원은 1\n",
    "\n",
    "a = np.array([[1,2,3],[4,5,6]]) # 2 x 3 배열\n",
    "print(\"원본\", a.shape)\n",
    "\n",
    "# axis=0 가장 앞쪽에 차원을 추가\n",
    "a0 = np.expand_dims(a, axis=0)\n",
    "print(\"a0\", a0.shape)\n",
    "print(\"a0\", a0)\n",
    "print()\n",
    "\n",
    "# axis=1\n",
    "a1 = np.expand_dims(a, axis=1)\n",
    "print(\"a1\", a1.shape)\n",
    "print(\"a1\", a1)\n",
    "print()\n",
    "\n",
    "# axis=2\n",
    "a2 = np.expand_dims(a, axis=2)\n",
    "print(\"a2\", a2.shape)\n",
    "print(\"a2\", a2)"
   ]
  },
  {
   "cell_type": "code",
   "execution_count": null,
   "id": "45b5b1e4",
   "metadata": {},
   "outputs": [],
   "source": [
    "# np.squeeze(a, axis)\n",
    "# 배열에서 크기가 1인 차원을 제거해주는 함수\n",
    "a = np.array([[[[1],[2],[3]]], [[[1],[2],[3]]]])\n",
    "print(a.shape)\n",
    "s = np.squeeze(a)\n",
    "print(s)\n",
    "print(s.shape)"
   ]
  },
  {
   "cell_type": "code",
   "execution_count": null,
   "id": "0b5f2e16",
   "metadata": {},
   "outputs": [],
   "source": [
    "# axis 지정하는 경우\n",
    "a2 = np.zeros((1,4,1,2))\n",
    "print(a2.shape)\n",
    "\n",
    "s1 = np.squeeze(a2, axis=0)\n",
    "print(s1.shape)\n",
    "\n",
    "s2 = np.squeeze(a2, axis=2)\n",
    "print(s2.shape)\n",
    "\n",
    "# 차원의 크기가 1이 아닌 차원은 제거할 수 없음\n",
    "# ValueError: cannot select an axis to squeeze out which has size not equal to one\n",
    "s3 = np.squeeze(a2, axis=1)"
   ]
  },
  {
   "cell_type": "code",
   "execution_count": null,
   "id": "9278f2f0",
   "metadata": {},
   "outputs": [
    {
     "name": "stdout",
     "output_type": "stream",
     "text": [
      "[1 2 3 4 5]\n",
      "인덱스 [ 0  5 12  9  3]\n",
      "원본의 고유값 인덱스 [0 0 0 4 4 1 1 1 1 3 3 3 2 2 2]\n",
      "값의 등장 횟수 [3 4 3 3 2]\n"
     ]
    }
   ],
   "source": [
    "# np.unique()\n",
    "# np.unique(ar, return_index=False, return_inverse=False, return_counts=False, axis=None)\n",
    "# 배열에서 중복된 요소를 제거\n",
    "\n",
    "a = np.array([1,1,1,5,5,2,2,2,2,4,4,4,3,3,3])\n",
    "u1 = np.unique(a) # 고유값의 오름차순 배열 반환\n",
    "print(u1)\n",
    "\n",
    "u2, idx, inv, cnt = np.unique(a, return_index=True, return_inverse=True, return_counts=True)\n",
    "print(\"인덱스\", idx) # 고유값이 원본에서 처음 나타나는 인덱스\n",
    "print(\"원본의 고유값 인덱스\", inv) # 원본 배열을 재구성할 수 있는 인덱스 배열 반환\n",
    "print(\"값의 등장 횟수\", cnt) # 각 고유값의 등장 횟수 반환"
   ]
  },
  {
   "cell_type": "code",
   "execution_count": 25,
   "id": "7cfd452f",
   "metadata": {},
   "outputs": [
    {
     "name": "stdout",
     "output_type": "stream",
     "text": [
      "[10 20 30 40 50 60]\n",
      "[10 20 30 40 50 60]\n",
      "[999  20  30  40  50  60]\n",
      "[999  20  30  40  50  60]\n"
     ]
    }
   ],
   "source": [
    "# 실습1 문제1. 아래의 배열을 사용해서\n",
    "arr = np.array([[10, 20], [30, 40], [50, 60]])\n",
    "# 1) ravel과 flatten을 각각 사용해 1차원 배열로 변환하고,\n",
    "# 2) arr의 첫 번째 원소(arr[0,0])를 999로 바꾼 뒤 ravel 결과와 flatten 결과에 어떤 변화가 있는지 확인하세요.\n",
    "print(arr.ravel())\n",
    "print(arr.flatten())\n",
    "arr[0,0] = 999\n",
    "print(arr.ravel())\n",
    "print(arr.flatten())"
   ]
  },
  {
   "cell_type": "code",
   "execution_count": 26,
   "id": "20372e76",
   "metadata": {},
   "outputs": [
    {
     "name": "stdout",
     "output_type": "stream",
     "text": [
      "[[[0.53066297 0.20611413 0.90750069 ... 0.86544602 0.01825406 0.03846743]\n",
      "  [0.35140311 0.64004348 0.793041   ... 0.69994422 0.95365681 0.40300264]\n",
      "  [0.02125194 0.70357277 0.70170006 ... 0.08386402 0.01802491 0.95365088]\n",
      "  ...\n",
      "  [0.27721407 0.8965145  0.28574926 ... 0.30486766 0.68645466 0.97204776]\n",
      "  [0.83937945 0.71324428 0.3343206  ... 0.82357516 0.42304854 0.23128816]\n",
      "  [0.65995085 0.82869783 0.66131613 ... 0.35666665 0.75975841 0.1596402 ]]]\n"
     ]
    }
   ],
   "source": [
    "# 실습1 문제2. 크기가 32x32인 이미지 데이터를 가정하고, 이 배열에 대해 expand_dims를 사용하여 shape (1, 32, 32)로 바꾸는 코드를 작성하세요.\n",
    "img= np.random.rand(32, 32)\n",
    "print(np.expand_dims(img, axis=0))"
   ]
  },
  {
   "cell_type": "code",
   "execution_count": 27,
   "id": "f6af3628",
   "metadata": {},
   "outputs": [
    {
     "name": "stdout",
     "output_type": "stream",
     "text": [
      "[[116 250 250 127 214 117 206  48 155  21 116   2 151 222 217  41 143  48\n",
      "  237  59 252 186 197 219   4  63  72 170]\n",
      " [170 247 127  10 185  33 233 124 155 191  96 177  80 232 250 170  69 165\n",
      "    2 231  31 100 110  22 202 200 236 183]\n",
      " [237 194 150 220 181 129  61 113 159   0  48 154 199  22  85 104  46 227\n",
      "   91 145 231 169 175 234 164  23 234  98]\n",
      " [192 155  64 108 202  37 189  14  73  93  46 139  29  28  93 145 237 109\n",
      "  230  18  25  91 188 205 173  95 132 168]\n",
      " [229 254 215  91  44 171  29 128  11  10 250 173 137 150 158  85  28 167\n",
      "  119 126 138   7 103 201 123 250  72 115]\n",
      " [106  15  68 136 179 172 176 221  71 244 116 247 183 215 218  61  11  64\n",
      "    1 135 163 116 175 218 180 143 149  44]\n",
      " [105  45 209  71  19  77 161 123 186 254 236 166 200 245 177 103 241  60\n",
      "  211 131  73 159  50  99 157  27  50 156]\n",
      " [111 117  94 106 114 150 225 138 176 203  13  57  53  24 185   7  56 122\n",
      "  171  43 179 176 152 224 224  11 169  48]\n",
      " [  7  23 208 222 227 107  91  49 189  45  80 164  65 239 234 114  32  14\n",
      "  147  78 238  98 219  94 240 254 178  77]\n",
      " [ 74 187  74  60  20 175 236 125 166 158 103  30  48 237 217  80 216 220\n",
      "  179   2 188 210  71  88 189  14  53 242]\n",
      " [ 12 233 151 224   6  68 156 110  22 109 186  50 207 148 187 141  65 144\n",
      "  180 101 156  36 134 136 172 135 182  22]\n",
      " [110 167 212  54  36 213   8 224 133  44  44 191 190 173 219 136  33 140\n",
      "   34  58 106 245 132 140 197 153 183 148]\n",
      " [205 209 232  12 172  33 190 119  34 203  43  60  13 174  45  88  31 222\n",
      "   65  49 120 249  22  20  33 223  44 223]\n",
      " [135  67  56 121  26 110 254 254 223  92 124  32 197 209  27 163 167 247\n",
      "  124 121 207 252 235   2 155 117 247 208]\n",
      " [154  63 176 102 110 134 186  63  70 124 176  23 217 142 226 186   8 221\n",
      "   20 235   6 120 167 239 141 170  71 102]\n",
      " [181  26 247 238 118  47 141 165 206  80  43 188 160  71  37  20 114  99\n",
      "   62 152 170 228  93 228  63  72   6  75]\n",
      " [ 28 181 239 103  78 232 159 248 177  64 216 210 197 183 125 126 223  37\n",
      "  190 204  27  27 120 214  75  39 189  96]\n",
      " [ 32 197  73  37 141 157 143 100 111 131  97  30  72 194 225 241 158  23\n",
      "   52 250 153 199  62 216 152  10 177  33]\n",
      " [ 86 105  87 127 157 185  77 134  26  49 139 105  24 181  81 120  45  48\n",
      "   86 135 196 109 154 164 235 169 154  17]\n",
      " [ 74 216 216 110 149  90  30 203  75 155 204  42   8 111 228 185  38 230\n",
      "   25 252 148  75 173  45  44  73 140 154]\n",
      " [103  11  19 243 209 185  30  61  79 143  86 101  84  42 116 217  18 244\n",
      "  118 227  66  65  44 119  75  47  63 118]\n",
      " [225  14 213  86 192 125 243 127  11 119 242 222 115 210 132  72 171 194\n",
      "   11  84 223 175 210 164 164  97 201  49]\n",
      " [132 248  62  44  96 187 209 227 242  54  30 213 179 172 203  20 141   9\n",
      "   20 124  27 107 222  53 246  50 227 105]\n",
      " [151  28 189 228 224  11 142 109 135 246 113 142  13 167 243 111 187 104\n",
      "    1 200  56  26  42  22  82 194 189 240]\n",
      " [ 47 154  14 229  10 100 129  20 101  23  97 143 198 185  50 249 232  84\n",
      "   13 179  36 178 205  82 224  30  43 252]\n",
      " [ 61 242 193 193  89 136 169  57 216 141 133  12 229 198 140  29  75  25\n",
      "  210 122   6 181  89 213 212  19 189 138]\n",
      " [ 86 210 146 185 112   7 133  92 117  77 203 182  33 219 179 109 177 160\n",
      "  200  83 125 238 138  34  75   3  84  49]\n",
      " [208 252  99 229  40 140 214  70 140  90  26 133 122  67  70  46 226 153\n",
      "  233 151   3 104  56 124  88 171 197 195]]\n"
     ]
    }
   ],
   "source": [
    "# 실습1 문제3. 아래 배열에서 불필요한 1차원을 모두 제거하여 shape이 (28, 28)이 되도록 만드세요.\n",
    "img= np.random.randint(0, 255, (1, 28, 28, 1))\n",
    "print(np.squeeze(img))"
   ]
  },
  {
   "cell_type": "code",
   "execution_count": 29,
   "id": "85239a6a",
   "metadata": {},
   "outputs": [
    {
     "name": "stdout",
     "output_type": "stream",
     "text": [
      "[[1 2 3 4]]\n",
      "(1, 4)\n"
     ]
    }
   ],
   "source": [
    "# 실습1 문제4. 아래 2차원 배열을 1) 1차원 배열로 만든 후 2) 중복값을 제거한 뒤 shape (1, n)으로 재구성하세요.\n",
    "arr = np.array([[3, 1, 2, 2],\n",
    "                [1, 2, 3, 1],\n",
    "                [2, 2, 1, 4]])\n",
    "print(np.unique(arr).reshape(1,-1))\n",
    "a = np.unique(arr).reshape(1,-1)\n",
    "print(a.shape)\n"
   ]
  },
  {
   "cell_type": "code",
   "execution_count": 31,
   "id": "333187a8",
   "metadata": {},
   "outputs": [
    {
     "name": "stdout",
     "output_type": "stream",
     "text": [
      "[1 3 2 1 3 2 3 1 2 3]\n",
      "[1 2 3]\n"
     ]
    }
   ],
   "source": [
    "# 실습1 문제5. 다음 배열을 shape (10,)로 만든 뒤 고유값배열을 구하세요.\n",
    "arr = np.array([[[1], [3], [2], [1], [3], [2], [3], [1], [2], [3]]])  # shape (1, 10, 1)\n",
    "flat = arr.flatten()\n",
    "print(flat)\n",
    "print(np.unique(flat))"
   ]
  },
  {
   "cell_type": "code",
   "execution_count": 36,
   "id": "00882cf4",
   "metadata": {},
   "outputs": [
    {
     "name": "stdout",
     "output_type": "stream",
     "text": [
      "[0 1 2 3 1 2 3 4 2 3 4 5 3 4 5 6 4 5 6 7 5 6 7 8]\n",
      "[[0]\n",
      " [1]\n",
      " [2]\n",
      " [3]\n",
      " [4]\n",
      " [5]\n",
      " [6]\n",
      " [7]\n",
      " [8]]\n",
      "(9, 1)\n"
     ]
    }
   ],
   "source": [
    "# 실습1 문제6. 다음 배열을 1차원 배열로 만든 후 고유값만 추출해서 shape (고유값 개수, 1)인 2차원 배열로 변환하세요.\n",
    "arr = np.array([ [[0, 1, 2, 3], [1, 2, 3, 4], [2, 3, 4, 5]],\n",
    "                [[3, 4, 5, 6], [4, 5, 6, 7], [5, 6, 7, 8]] ])  # shape (2, 3, 4)\n",
    "flat = arr.flatten()\n",
    "print(flat)\n",
    "uni = np.unique(flat).reshape(-1, 1)\n",
    "print(uni)\n",
    "print(uni.shape)"
   ]
  }
 ],
 "metadata": {
  "kernelspec": {
   "display_name": "base",
   "language": "python",
   "name": "python3"
  },
  "language_info": {
   "codemirror_mode": {
    "name": "ipython",
    "version": 3
   },
   "file_extension": ".py",
   "mimetype": "text/x-python",
   "name": "python",
   "nbconvert_exporter": "python",
   "pygments_lexer": "ipython3",
   "version": "3.13.5"
  }
 },
 "nbformat": 4,
 "nbformat_minor": 5
}
