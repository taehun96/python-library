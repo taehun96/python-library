{
 "cells": [
  {
   "cell_type": "markdown",
   "id": "5759439e",
   "metadata": {},
   "source": [
    "## 10. Selenium\n",
    "- 웹 자동화를 위한 라이브러리\n",
    "- Selenium은 동적 크롤링에 특화된 도구"
   ]
  },
  {
   "cell_type": "code",
   "execution_count": null,
   "id": "23ac3313",
   "metadata": {},
   "outputs": [],
   "source": [
    "# 정적 크롤링 : HTML에 이미 데이터가 다 있는 경우\n",
    "# 동적 크롤링 : 페이지 로딩 후 JavaScript가 실행돼야 데이터가 나타나는 경우"
   ]
  },
  {
   "cell_type": "code",
   "execution_count": 3,
   "id": "e2677735",
   "metadata": {},
   "outputs": [],
   "source": [
    "from selenium import webdriver\n",
    "from webdriver_manager.chrome import ChromeDriverManager\n",
    "from selenium.webdriver.chrome.service import Service"
   ]
  },
  {
   "cell_type": "code",
   "execution_count": 11,
   "id": "b7706d21",
   "metadata": {},
   "outputs": [],
   "source": [
    "import time\n",
    "\n",
    "# Chrome 브라우저 실행\n",
    "driver = webdriver.Chrome(service=Service(ChromeDriverManager().install()))\n",
    "\n",
    "# 원하는 페이지로 이동\n",
    "driver.get(\"https://www.google.com\")\n",
    "time.sleep(3)\n",
    "driver.get(\"https://www.naver.com\")\n",
    "time.sleep(3)\n",
    "\n",
    "# 페이지 이동\n",
    "driver.back()\n",
    "time.sleep(3)\n",
    "driver.forward()\n",
    "time.sleep(3)\n",
    "driver.refresh()\n",
    "time.sleep(1)\n",
    "\n",
    "# 크기 변경\n",
    "driver.set_window_size(1200, 800)\n",
    "time.sleep(2)\n",
    "# 최대화\n",
    "driver.maximize_window()\n",
    "time.sleep(2)\n",
    "# 최소화\n",
    "driver.minimize_window()\n",
    "time.sleep(2)\n",
    "\n",
    "# 창 배치(창 왼쪽 끝 기준)\n",
    "driver.set_window_position(50, 50)\n",
    "\n",
    "# 스크린샷 찍기\n",
    "driver.save_screenshot(\"naver.png\")\n",
    "\n",
    "\n",
    "time.sleep(3)\n",
    "driver.quit()"
   ]
  },
  {
   "cell_type": "code",
   "execution_count": 18,
   "id": "c9e854e3",
   "metadata": {},
   "outputs": [
    {
     "name": "stdout",
     "output_type": "stream",
     "text": [
      "제출 결과: <selenium.webdriver.remote.webelement.WebElement (session=\"3dd8abe59ab0647dc15332071ac577cf\", element=\"f.8F5F101A223D0490E32B99FC680C131D.d.2B376F44FE0D3594EAA6DE980BEAAB9B.e.468\")>\n",
      "제출 결과: Received!\n"
     ]
    }
   ],
   "source": [
    "from selenium.webdriver.common.by import By\n",
    "from selenium.webdriver.common.keys import Keys\n",
    "\n",
    "driver = webdriver.Chrome(service=Service(ChromeDriverManager().install()))\n",
    "driver.get(\"https://www.selenium.dev/selenium/web/web-form.html\") # 셀레니움 연습용 페이지\n",
    "\n",
    "# 웹 페이지의 요소 선택과 제어\n",
    "text_input = driver.find_element(By.ID, \"my-text-id\")\n",
    "time.sleep(3)\n",
    "\n",
    "# 요소 제어\n",
    "text_input.send_keys(\"Hello Selenium!!\")\n",
    "time.sleep(3)\n",
    "text_input.clear() # 입력한걸 지워줌\n",
    "time.sleep(3)\n",
    "text_input.send_keys(\"코딩은 재밌어ㅋㅋ\")\n",
    "time.sleep(3)\n",
    "# text_input.send_keys(Keys.RETURN) # 엔터키 역할 1\n",
    "\n",
    "submit_btn = driver.find_element(By.TAG_NAME, \"button\")\n",
    "submit_btn.click() # 엔터키 역할 2\n",
    "\n",
    "msg = driver.find_element(By.ID, \"message\")\n",
    "print(\"제출 결과:\", msg)\n",
    "print(\"제출 결과:\", msg.text)\n",
    "\n",
    "time.sleep(3)\n",
    "driver.quit()"
   ]
  },
  {
   "cell_type": "code",
   "execution_count": null,
   "id": "ff1847f3",
   "metadata": {},
   "outputs": [],
   "source": [
    "# 예시\n",
    "driver = webdriver.Chrome(service=Service(ChromeDriverManager().install()))\n",
    "driver.get(\"https://www.google.com\")\n",
    "\n",
    "time.sleep(3)\n",
    "search_box = driver.find_element(By.NAME, \"q\")\n",
    "search_box.send_keys(\"Python\", Keys.RETURN)\n",
    "\n",
    "time.sleep(10)\n",
    "\n",
    "driver.quit()"
   ]
  }
 ],
 "metadata": {
  "kernelspec": {
   "display_name": "data_analysis",
   "language": "python",
   "name": "python3"
  },
  "language_info": {
   "codemirror_mode": {
    "name": "ipython",
    "version": 3
   },
   "file_extension": ".py",
   "mimetype": "text/x-python",
   "name": "python",
   "nbconvert_exporter": "python",
   "pygments_lexer": "ipython3",
   "version": "3.13.5"
  }
 },
 "nbformat": 4,
 "nbformat_minor": 5
}
