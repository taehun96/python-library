{
 "cells": [
  {
   "cell_type": "markdown",
   "id": "08a20658",
   "metadata": {},
   "source": [
    "## 06. Pandas(06)"
   ]
  },
  {
   "cell_type": "markdown",
   "id": "6a96db6f",
   "metadata": {},
   "source": [
    "### 데이터 입출력"
   ]
  },
  {
   "cell_type": "code",
   "execution_count": null,
   "id": "0be23fc0",
   "metadata": {},
   "outputs": [],
   "source": [
    "import pandas as pd"
   ]
  },
  {
   "cell_type": "code",
   "execution_count": null,
   "id": "4e4375fc",
   "metadata": {},
   "outputs": [],
   "source": [
    "# csv 파일 불러오기\n",
    "# pd.read_csv('파일경로/파일명.csv', 옵션...)\n",
    "df = pd.read_csv(\"practice_book_dataset.csv\")\n",
    "df.head()"
   ]
  },
  {
   "cell_type": "code",
   "execution_count": null,
   "id": "1763e307",
   "metadata": {},
   "outputs": [],
   "source": [
    "# 데이터 정보 확인\n",
    "df.shape\n",
    "df.dtypes\n",
    "df.info()\n",
    "df.describe()"
   ]
  },
  {
   "cell_type": "code",
   "execution_count": null,
   "id": "0fee4336",
   "metadata": {},
   "outputs": [],
   "source": [
    "df[\"title\"].head(10)\n",
    "df[[\"title\",\"author\"]].head(10)"
   ]
  },
  {
   "cell_type": "code",
   "execution_count": null,
   "id": "0cf7262a",
   "metadata": {},
   "outputs": [],
   "source": [
    "# csv파일 저장\n",
    "# df.to_csv('저장경로/파일명.csv', 옵션...)\n",
    "df2 = df.copy()\n",
    "df[\"library\"] = \"seoul library\"\n",
    "df2.to_csv(\"new_book_dataset.csv\")"
   ]
  },
  {
   "cell_type": "code",
   "execution_count": null,
   "id": "b2c8614e",
   "metadata": {},
   "outputs": [],
   "source": [
    "mask = df[\"price\"] >= 100\n",
    "df[mask]\n",
    "df.loc[mask, [\"title\", \"price\", \"avg_reviews\"]]"
   ]
  },
  {
   "cell_type": "code",
   "execution_count": null,
   "id": "0df25aa4",
   "metadata": {},
   "outputs": [],
   "source": [
    "df.isnull().sum()"
   ]
  },
  {
   "cell_type": "code",
   "execution_count": null,
   "id": "d637c44d",
   "metadata": {},
   "outputs": [],
   "source": [
    "# excel 파일 불러오기\n",
    "# df= pd.read_excel('파일경로/파일명.xlsx', 옵션...)\n",
    "df = pd.read_excel(\"practice_employee_dataset.xlsx\")\n",
    "df.head()\n"
   ]
  },
  {
   "cell_type": "code",
   "execution_count": null,
   "id": "7333f922",
   "metadata": {},
   "outputs": [],
   "source": [
    "# excel(xlsx) 파일로 저장\n",
    "# df.to_excel('저장경로/파일명.xlsx', 옵션...)\n",
    "df2 = df.copy()\n",
    "df2[\"Working Period\"] = 3\n",
    "df2.head(10)\n",
    "df.to_excel(\"New_employee_dataset.xlsx\")"
   ]
  }
 ],
 "metadata": {
  "kernelspec": {
   "display_name": "data_analysis",
   "language": "python",
   "name": "python3"
  },
  "language_info": {
   "codemirror_mode": {
    "name": "ipython",
    "version": 3
   },
   "file_extension": ".py",
   "mimetype": "text/x-python",
   "name": "python",
   "nbconvert_exporter": "python",
   "pygments_lexer": "ipython3",
   "version": "3.13.5"
  }
 },
 "nbformat": 4,
 "nbformat_minor": 5
}
