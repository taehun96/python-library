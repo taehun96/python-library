{
 "cells": [
  {
   "cell_type": "markdown",
   "id": "34283886",
   "metadata": {},
   "source": [
    "## 04. Pandas(1)\n",
    "- 파이썬 기반의 강력하고 사용하기 쉬운 데이터 분석 및 조작 라이브러리!!"
   ]
  },
  {
   "cell_type": "code",
   "execution_count": null,
   "id": "e3e2f338",
   "metadata": {},
   "outputs": [],
   "source": [
    "import pandas as pd\n",
    "import numpy as np\n",
    "\n",
    "print(pd.__version__)"
   ]
  },
  {
   "cell_type": "markdown",
   "id": "839e08b0",
   "metadata": {},
   "source": [
    "### Pandas의 핵심 자료구조\n",
    "- Series\n",
    "- DataFrame"
   ]
  },
  {
   "cell_type": "markdown",
   "id": "f250b4de",
   "metadata": {},
   "source": [
    "### Series\n",
    "- 인덱스(라벨)이 붙은 1차원 배열\n",
    "- List/Numpy배열과 다르게 인덱스 이름을 직접 지정할 수 있음"
   ]
  },
  {
   "cell_type": "code",
   "execution_count": null,
   "id": "97fdb67e",
   "metadata": {},
   "outputs": [],
   "source": [
    "# 시리즈 생성\n",
    "# 1. 리스트로 생성\n",
    "data = [10,20,30,40]\n",
    "s = pd.Series(data)\n",
    "print(s)"
   ]
  },
  {
   "cell_type": "code",
   "execution_count": null,
   "id": "dd07841b",
   "metadata": {},
   "outputs": [],
   "source": [
    "# 2. 인덱스를 직접 지정\n",
    "data = [10,20,30,40]\n",
    "s = pd.Series(data, index=[\"a\",\"b\",\"c\",\"d\"])\n",
    "print(s)"
   ]
  },
  {
   "cell_type": "code",
   "execution_count": null,
   "id": "1ee548ef",
   "metadata": {},
   "outputs": [],
   "source": [
    "# 3. 딕셔너리로 시리즈 생성\n",
    "data = {\"서울\":100, \"부산\":200, \"대구\":300}\n",
    "s = pd.Series(data)\n",
    "print(s)"
   ]
  },
  {
   "cell_type": "code",
   "execution_count": null,
   "id": "d34a9cc4",
   "metadata": {},
   "outputs": [],
   "source": [
    "# 4. 하나의 값으로 시리즈 생성\n",
    "s = pd.Series(7, index=[\"가\", \"나\", \"다\"])\n",
    "print(s)"
   ]
  },
  {
   "cell_type": "code",
   "execution_count": null,
   "id": "4bb02c73",
   "metadata": {},
   "outputs": [],
   "source": [
    "# 시리즈의 주요 속성\n",
    "data = [10,20,30,40]\n",
    "s = pd.Series(data, index=[\"a\",\"b\",\"c\",\"d\"], name=\"test data\")\n",
    "\n",
    "print(\"values:\", s.values)  # 실제 데이터 배열\n",
    "print(\"index:\", s.index)    # 인덱스 객체\n",
    "print(\"dtype:\", s.dtype)    # 실제 데이터의 타입\n",
    "print(\"size:\", s.size)      # 데이터의 개수\n",
    "print(\"shape\", s.shape)     # 배열의 형태\n",
    "print(\"name\", s.name)       # 시리즈의 이름"
   ]
  },
  {
   "cell_type": "code",
   "execution_count": null,
   "id": "c995eef9",
   "metadata": {},
   "outputs": [],
   "source": [
    "# 시리즈의 연산\n",
    "# 인덱스가 일치하는 값만 연산\n",
    "# 일치하지 않는 인덱스는 NaN(Not a Number)으로 표시됨\n",
    "s1 = pd.Series([10,20,30], index=[\"a\",\"b\",\"c\"])\n",
    "s2 = pd.Series([5,6,7], index=[\"b\",\"c\",\"d\"])\n",
    "\n",
    "result = s1 +s2\n",
    "print(result)"
   ]
  },
  {
   "cell_type": "code",
   "execution_count": null,
   "id": "a9f592c4",
   "metadata": {},
   "outputs": [],
   "source": [
    "# 정렬되지 않은 인덱스 간 연산\n",
    "# 인덱스 기준으로 연산 후 정렬해줌\n",
    "s1 = pd.Series([10,20,30], index=[\"b\",\"a\",\"c\"])\n",
    "s2 = pd.Series([5,6,7], index=[\"c\",\"b\",\"a\"])\n",
    "\n",
    "result = s1 +s2\n",
    "print(result)"
   ]
  },
  {
   "cell_type": "code",
   "execution_count": null,
   "id": "25d53fee",
   "metadata": {},
   "outputs": [],
   "source": [
    "# 브로드 캐스팅\n",
    "s = pd.Series([5,10,15], index=[\"a\",\"b\",\"c\"])\n",
    "\n",
    "print(s + 3)\n",
    "print(s * 2)"
   ]
  },
  {
   "cell_type": "code",
   "execution_count": null,
   "id": "60069758",
   "metadata": {},
   "outputs": [],
   "source": [
    "# 불리언 연산 및 인덱싱\n",
    "s = pd.Series([50,60,70,80,90,100], index=[\"a\",\"b\",\"c\",\"d\",\"e\",\"f\"])\n",
    "\n",
    "# 불리언 연산(조건식)\n",
    "mask = s > 70\n",
    "print(mask)\n",
    "print(s[mask])\n"
   ]
  },
  {
   "cell_type": "code",
   "execution_count": null,
   "id": "02321a60",
   "metadata": {},
   "outputs": [],
   "source": [
    "# 시리즈와 NumPy 배열 연산/ 파이썬 리스트 연산\n",
    "s = pd.Series([10,20,30], index=[\"a\",\"b\",\"c\"])\n",
    "a = np.array([1,2,3])\n",
    "l = [100,200,300]\n",
    "\n",
    "print(s + a)\n",
    "print(s + l)"
   ]
  },
  {
   "cell_type": "code",
   "execution_count": null,
   "id": "9816452e",
   "metadata": {},
   "outputs": [],
   "source": [
    "# 실습1 문제1.파이썬 리스트 [5, 10, 15, 20]을 이용해 Series를 생성하세요.\n",
    "s1 = pd.Series([5, 10, 15, 20])\n",
    "print(s1)"
   ]
  },
  {
   "cell_type": "code",
   "execution_count": null,
   "id": "7df49588",
   "metadata": {},
   "outputs": [],
   "source": [
    "# 실습1 문제2. 값 [90, 80, 85, 70]에 대해 인덱스를 각각 '국어', '영어', '수학', '과학'으로 지정한 Series를 만드세요.\n",
    "s2 = pd.Series([90, 80, 85, 70], index=[\"국어\",\"영어\",\"수학\",\"과학\"])\n",
    "print(s2)"
   ]
  },
  {
   "cell_type": "code",
   "execution_count": null,
   "id": "9ed30121",
   "metadata": {},
   "outputs": [],
   "source": [
    "# 실습1 문제3. {'서울': 950, '부산': 340, '인천': 520} 딕셔너리를 이용해 Series를 만들고, 인천의 값을 출력하세요.\n",
    "data = {\"서울\":950, \"부산\":340, \"인천\":520}\n",
    "s3 = pd.Series(data)\n",
    "print(s3)\n",
    "print(\"인천\",s3[\"인천\"])"
   ]
  },
  {
   "cell_type": "code",
   "execution_count": null,
   "id": "2644e0ff",
   "metadata": {},
   "outputs": [],
   "source": [
    "# 실습1 문제4. Series [1, 2, 3, 4]를 만들고, 데이터 타입(dtype)을 출력하세요.\n",
    "s4 = pd.Series([1, 2, 3, 4])\n",
    "print(\"dtype:\", s4.dtype)\n"
   ]
  },
  {
   "cell_type": "code",
   "execution_count": null,
   "id": "aaed652f",
   "metadata": {},
   "outputs": [],
   "source": [
    "# 실습1 문제5. 아래 두 Series의 합을 구하세요.\n",
    "s1 = pd.Series([3, 5, 7], index=['a', 'b', 'c'])\n",
    "s2 = pd.Series([10, 20, 30], index=['b', 'c', 'd'])\n",
    "s = s1 + s2\n",
    "print(s)"
   ]
  },
  {
   "cell_type": "code",
   "execution_count": null,
   "id": "973c968f",
   "metadata": {},
   "outputs": [],
   "source": [
    "# 실습1 문제6. Series [1, 2, 3, 4, 5]의 각 값에 10을 더한 Series를 만드세요.\n",
    "s6 = pd.Series([1, 2, 3, 4, 5])\n",
    "s = s6 + 10\n",
    "print(s)"
   ]
  },
  {
   "cell_type": "markdown",
   "id": "71e3dc0e",
   "metadata": {},
   "source": [
    "### DataFrame\n",
    "- 2차원 라벨 데이터 구조\n",
    "- 시리즈를 모아놓은 것\n",
    "- 행과 열이 있고, 행과 열에 대해 라벨을 부여할 수 있음"
   ]
  },
  {
   "cell_type": "code",
   "execution_count": null,
   "id": "e740b35e",
   "metadata": {},
   "outputs": [],
   "source": [
    "# DataFrame 생성\n",
    "# 1. 딕셔너리로 생성\n",
    "data = {\n",
    "    \"이름\" : [\"이안\", \"태훈\", \"태현\"],\n",
    "    \"나이\" : [15, 30, 25],\n",
    "    \"도시\" : [\"창동\", \"구산\", \"연신내\"]\n",
    "}\n",
    "\n",
    "df = pd.DataFrame(data)\n",
    "df.set_index()\n",
    "df"
   ]
  },
  {
   "cell_type": "code",
   "execution_count": null,
   "id": "e103308c",
   "metadata": {},
   "outputs": [],
   "source": [
    "# 2. 리스트의 리스트(2차원 리스트)로 생성\n",
    "data = [[1,\"a\"], [2,\"b\"], [3,\"c\"]]\n",
    "df = pd.DataFrame(data, columns=[\"번호\", \"코드\"]) # columns로 라벨 지정\n",
    "df"
   ]
  },
  {
   "cell_type": "code",
   "execution_count": null,
   "id": "c6f27160",
   "metadata": {},
   "outputs": [],
   "source": [
    "# 3. 딕셔너리의 리스트로 생성\n",
    "data = [\n",
    "    {\"이름\" : \"태훈\", \"나이\" : 30, \"사는곳\" : \"구산\"},\n",
    "    {\"이름\" : \"수진\", \"나이\" : 25, \"사는곳\" : \"광주\"},\n",
    "    {\"이름\" : \"철수\", \"나이\" : 26, \"사는곳\" : \"부산\"},\n",
    "    {\"이름\" : \"이안\", \"나이\" : 15, \"사는곳\" : \"창동\"}\n",
    "]\n",
    "\n",
    "df = pd.DataFrame(data, index=[\"a\",\"b\",\"c\",\"d\"])\n",
    "df"
   ]
  },
  {
   "cell_type": "code",
   "execution_count": null,
   "id": "6b376c9e",
   "metadata": {},
   "outputs": [],
   "source": [
    "# 4. 시리즈의 딕셔너리로 생성\n",
    "s1 = pd.Series([\"국어\", \"수학\", \"영어\"], index=['a', 'b', 'c'])\n",
    "s2 = pd.Series([100,90,85], index=['a', 'b', 'c'])\n",
    "df = pd.DataFrame({\"과목\":s1, \"점수\":s2})\n",
    "print(df)"
   ]
  },
  {
   "cell_type": "code",
   "execution_count": null,
   "id": "07450cb9",
   "metadata": {},
   "outputs": [],
   "source": [
    "# 데이터 프레임 기본 속성\n",
    "data = [\n",
    "    {\"이름\" : \"태훈\", \"나이\" : 30, \"사는곳\" : \"구산\"},\n",
    "    {\"이름\" : \"수진\", \"나이\" : 25, \"사는곳\" : \"광주\"},\n",
    "    {\"이름\" : \"철수\", \"나이\" : 26, \"사는곳\" : \"부산\"},\n",
    "    {\"이름\" : \"이안\", \"나이\" : 15, \"사는곳\" : \"창동\"}\n",
    "]\n",
    "\n",
    "df = pd.DataFrame(data)\n",
    "\n",
    "print(\"shape:\", df.shape)\n",
    "print(\"columns:\", df.columns)\n",
    "print(\"index:\", df.index)\n",
    "print(\"dtypes:\", df.dtypes)\n",
    "print(\"values:\", df.values)\n",
    "print(\"info:\")\n",
    "df.info()"
   ]
  },
  {
   "cell_type": "code",
   "execution_count": null,
   "id": "41ba588a",
   "metadata": {},
   "outputs": [],
   "source": [
    "# 실습2 문제1.다음 데이터로 DataFrame을 생성하고, 컬럼명을 '이름', '나이', '도시'로 지정하세요.\n",
    "data = [['홍길동', 28, '서울'], ['김철수', 33, '부산'], ['이영희', 25, '대구']]\n",
    "df = pd.DataFrame(data, columns=['이름', '나이', '도시'])\n",
    "df\n"
   ]
  },
  {
   "cell_type": "code",
   "execution_count": null,
   "id": "adf5a280",
   "metadata": {},
   "outputs": [],
   "source": [
    "# 실습2 문제2. 아래와 같은 딕셔너리로 DataFrame을 생성하세요.\n",
    "data = {'A': [1, 2, 3], 'B': [4, 5, 6]}\n",
    "df = pd.DataFrame(data)\n",
    "df"
   ]
  },
  {
   "cell_type": "code",
   "execution_count": null,
   "id": "297dcc6c",
   "metadata": {},
   "outputs": [],
   "source": [
    "# 실습2 문제3. 아래 데이터를 사용해 DataFrame을 만드세요.\n",
    "data = [{'과목': '수학', '점수': 90}, {'과목': '영어', '점수': 85}, {'과목': '과학', '점수': 95}]\n",
    "df = pd.DataFrame(data)\n",
    "df\n"
   ]
  },
  {
   "cell_type": "code",
   "execution_count": null,
   "id": "18a504ef",
   "metadata": {},
   "outputs": [],
   "source": [
    "# 실습2 문제4. 아래 데이터를 사용해 DataFrame을 생성하되, 인덱스를 ['학생1', '학생2', '학생3']으로 지정하세요.\n",
    "data = {'이름': ['민수', '영희', '철수'], '점수': [80, 92, 77]}\n",
    "df = pd.DataFrame(data, index=[\"학생1\", \"학생2\", \"학생3\"])\n",
    "df"
   ]
  },
  {
   "cell_type": "code",
   "execution_count": null,
   "id": "7567a9ee",
   "metadata": {},
   "outputs": [],
   "source": [
    "# 실습2 문제5. 아래 Series 객체 2개를 이용해 DataFrame을 만드세요.\n",
    "kor = pd.Series([90, 85, 80], index=['a', 'b', 'c'])\n",
    "eng= pd.Series([95, 88, 82], index=['a', 'b', 'c'])\n",
    "df = pd.DataFrame({\"국어\" : kor, \"영어\" : eng})\n",
    "df"
   ]
  },
  {
   "cell_type": "code",
   "execution_count": null,
   "id": "21824b21",
   "metadata": {},
   "outputs": [],
   "source": [
    "# 실습2 문제6. 아래 딕셔너리로 DataFrame을 만들고, 컬럼 순서를 ['B', 'A']로 지정해 출력하세요.\n",
    "data = {'A': [1, 2], 'B': [3, 4]}\n",
    "df = pd.DataFrame(data,columns=['B','A'])\n",
    "df"
   ]
  },
  {
   "cell_type": "code",
   "execution_count": null,
   "id": "e1418a18",
   "metadata": {},
   "outputs": [],
   "source": [
    "# 실습2 문제7. 데이터를 DataFrame으로 만들고, 컬럼명을 ['product', 'price', 'stock']으로 변경하세요.\n",
    "data = [['펜', 1000, 50], ['노트', 2000, 30]]\n",
    "df = pd.DataFrame(data, columns=['product', 'price', 'stock'])\n",
    "df"
   ]
  },
  {
   "cell_type": "code",
   "execution_count": null,
   "id": "5e0acab2",
   "metadata": {},
   "outputs": [],
   "source": [
    "# 실습2 문제8. 아래 DataFrame을 생성한 뒤, '국가' 컬럼만 추출하세요.\n",
    "data = {'국가': ['한국', '일본', '미국'], '수도': ['서울', '도쿄', '워싱턴']}\n",
    "df = pd.DataFrame(data)\n",
    "print(df)\n",
    "print(df['국가'])"
   ]
  },
  {
   "cell_type": "code",
   "execution_count": null,
   "id": "221cf69c",
   "metadata": {},
   "outputs": [],
   "source": [
    "# 데이터 탐색과 요약\n",
    "data = {\n",
    "    \"이름\": [\"홍길동\", \"이순신\", \"김유신\", \"강감찬\", \"장보고\", \"이방원\"],\n",
    "    \"나이\": [23, 35, 31, 40, 28, 34],\n",
    "    \"직업\": [\"학생\", \"군인\", \"장군\", \"장군\", \"상인\", \"왕자\"]\n",
    "}\n",
    "df = pd.DataFrame(data)"
   ]
  },
  {
   "cell_type": "code",
   "execution_count": null,
   "id": "2eff2fab",
   "metadata": {},
   "outputs": [],
   "source": [
    "# 데이터 앞 부분 미리 보기 : head(n)\n",
    "# 기본값 n = 5 → 아무것도 지정 안했을시 5개를 보여줌\n",
    "df.head()\n",
    "df.head(3)"
   ]
  },
  {
   "cell_type": "code",
   "execution_count": null,
   "id": "2ac27d34",
   "metadata": {},
   "outputs": [],
   "source": [
    "# 데이터 뒷 부분 미리 보기 : tale(n)\n",
    "# 기본값 n = 5\n",
    "df.tail()\n",
    "df.tail(2)"
   ]
  },
  {
   "cell_type": "code",
   "execution_count": null,
   "id": "93613708",
   "metadata": {},
   "outputs": [],
   "source": [
    "# info() 함수\n",
    "df.info()"
   ]
  },
  {
   "cell_type": "code",
   "execution_count": null,
   "id": "21a8d2a4",
   "metadata": {},
   "outputs": [],
   "source": [
    "# dscribe() 함수\n",
    "# 수치형 데이터: 평균, 표준편차, 최솟값/최댓값, 사분위수등 요약 통계값 제공\n",
    "# 문자열/범주형 데이터: 고유값 개수, 최빈값 등\n",
    "\n",
    "df.describe() # 기본적으로 수치형 컬럼만 요약\n",
    "df.describe(include=\"object\") # 문자열 컬럼만 요약\n",
    "df.describe(include=\"all\") # 모든 컬럼 요약\n"
   ]
  },
  {
   "cell_type": "markdown",
   "id": "b637ea85",
   "metadata": {},
   "source": [
    "### 인덱싱과 슬라이싱(중요)"
   ]
  },
  {
   "cell_type": "code",
   "execution_count": null,
   "id": "f15dd8b7",
   "metadata": {},
   "outputs": [],
   "source": [
    "# 인덱싱 : 컬럼에 대해 인덱싱 적용\n",
    "# 특정 컬럼(시리즈) 선택\n",
    "df[\"이름\"]\n",
    "\n",
    "# 여러 컬럼을 리스트로 선택(fancy indexing하듯이)\n",
    "df[[\"이름\", \"나이\"]]"
   ]
  },
  {
   "cell_type": "code",
   "execution_count": null,
   "id": "7750f0f1",
   "metadata": {},
   "outputs": [],
   "source": [
    "df = pd.DataFrame({\n",
    "    'name': ['Tom', 'Jane', 'Mike'],\n",
    "    'age': [20, 25, 30]\n",
    "})\n",
    "\n",
    "df[\"name\"]\n",
    "# 컬럼명 영어,한글 모두 .으로도 조회가 가능함\n",
    "# 변수명 규칙을 지켜야 함\n",
    "df.name"
   ]
  },
  {
   "cell_type": "code",
   "execution_count": null,
   "id": "0732207c",
   "metadata": {},
   "outputs": [],
   "source": [
    "# 슬라이싱\n",
    "df[1:4]\n",
    "df[-3:]\n",
    "\n",
    "# 슬라이싱 후 인덱싱\n",
    "df[1:4][\"이름\"]"
   ]
  },
  {
   "cell_type": "code",
   "execution_count": null,
   "id": "b5563167",
   "metadata": {},
   "outputs": [],
   "source": [
    "# 슬라이싱은 행 기준으로 작동, 열 기준은 별도의 방법을 사용\n",
    "df[:, 0:2] # 에러"
   ]
  },
  {
   "cell_type": "markdown",
   "id": "defeaed4",
   "metadata": {},
   "source": [
    "### iloc, loc"
   ]
  },
  {
   "cell_type": "code",
   "execution_count": null,
   "id": "eb7efd03",
   "metadata": {},
   "outputs": [],
   "source": [
    "# iloc\n",
    "# Interger Location\n",
    "# 정수 위치 기반의 인덱싱, 슬라이싱\n",
    "# NumPy의 슬라이싱과 유사함(거의 같음)!!\n",
    "\n",
    "# 단일 행/열 선택\n",
    "df.iloc[0] # 첫번째 행\n",
    "df.iloc[:, 1] # 두번재 열"
   ]
  },
  {
   "cell_type": "code",
   "execution_count": null,
   "id": "fdba8bc8",
   "metadata": {},
   "outputs": [],
   "source": [
    "# 여러 행/열 동시 선택\n",
    "df.iloc[1:4]\n",
    "df.iloc[:, 0:2]\n",
    "df.iloc[1:4, 0:2]"
   ]
  },
  {
   "cell_type": "code",
   "execution_count": null,
   "id": "79acf620",
   "metadata": {},
   "outputs": [],
   "source": [
    "# fancy indexing\n",
    "df.iloc[[0,2,4]]\n",
    "df.iloc[:, [1,2]]\n",
    "df.iloc[[0,2,4], [1,2]]"
   ]
  },
  {
   "cell_type": "code",
   "execution_count": null,
   "id": "534e767a",
   "metadata": {},
   "outputs": [],
   "source": [
    "# 음수 인덱스 슬라이싱\n",
    "df.iloc[-1]\n",
    "df.iloc[:,-2:]"
   ]
  },
  {
   "cell_type": "code",
   "execution_count": null,
   "id": "cf36fb69",
   "metadata": {},
   "outputs": [],
   "source": [
    "# loc\n",
    "# Location의 약자\n",
    "# 라벨의 이름 기준으로  인덱싱/슬라이싱\n",
    "# 시작과 끝을 모두 포함\n",
    "# 음수 인덱스 사용x\n",
    "\n",
    "# 단일 행/열 선택\n",
    "df.loc[0]\n",
    "df.loc[:,\"이름\"]\n"
   ]
  },
  {
   "cell_type": "code",
   "execution_count": null,
   "id": "fe7216ce",
   "metadata": {},
   "outputs": [],
   "source": [
    "# 여러 행/열 선택\n",
    "df.loc[2:4, [\"이름\",\"직업\"]]\n",
    "df.loc[2:4, \"이름\":\"직업\"]"
   ]
  },
  {
   "cell_type": "code",
   "execution_count": null,
   "id": "f33c0481",
   "metadata": {},
   "outputs": [],
   "source": [
    "# 조건식\n",
    "mask = df[\"나이\"] >= 30\n",
    "df.loc[mask, [\"이름\",\"나이\"]]"
   ]
  },
  {
   "cell_type": "code",
   "execution_count": null,
   "id": "b137b7a3",
   "metadata": {},
   "outputs": [],
   "source": [
    "# 컬럼을 인덱스로 지정\n",
    "df2 = df.set_index(\"이름\")\n",
    "df2\n",
    "\n",
    "df2.loc[\"이순신\"]\n",
    "df2.loc[[\"이순신\",\"강감찬\",\"장보고\"]]"
   ]
  },
  {
   "cell_type": "code",
   "execution_count": null,
   "id": "6b772c1e",
   "metadata": {},
   "outputs": [],
   "source": [
    "s1 = pd.Series([\"국어\", \"수학\", \"영어\"], index=['a', 'b', 'c'])\n",
    "s2 = pd.Series([100,90,85], index=['a', 'b', 'c'])\n",
    "df = pd.DataFrame({\"과목\":s1, \"점수\":s2})\n",
    "df"
   ]
  },
  {
   "cell_type": "code",
   "execution_count": null,
   "id": "ee7a8abb",
   "metadata": {},
   "outputs": [],
   "source": [
    "# 행에 라벨이 있을 경우 라벨을 이용해서 인덱싱/슬라이싱 가능\n",
    "df.loc[[\"a\",\"c\"],[\"과목\"]]"
   ]
  },
  {
   "cell_type": "code",
   "execution_count": null,
   "id": "b6d5b073",
   "metadata": {},
   "outputs": [],
   "source": [
    "data = {\n",
    "    \"이름\": [\"홍길동\", \"이순신\", \"김유신\", \"강감찬\", \"장보고\", \"이방원\", \"최무선\", \"정도전\"],\n",
    "    \"나이\": [23, 35, 31, 40, 28, 34, 42, 29],\n",
    "    \"직업\": [\"학생\", \"군인\", \"장군\", \"장군\", \"상인\", \"왕자\", \"과학자\", \"정치가\"],\n",
    "    \"점수\": [85, 90, 75, 88, 92, 95, 87, 83]\n",
    "}\n",
    "df = pd.DataFrame(data)\n",
    "df"
   ]
  },
  {
   "cell_type": "code",
   "execution_count": null,
   "id": "6dc02462",
   "metadata": {},
   "outputs": [],
   "source": [
    "# 실습3 문제1. iloc을 사용해 인덱스 2~5(포함 안함) 행, 1~3(포함 안함) 열만 선택해 출력하세요.\n",
    "df.iloc[2:6, 1:4]"
   ]
  },
  {
   "cell_type": "code",
   "execution_count": null,
   "id": "9785e110",
   "metadata": {},
   "outputs": [],
   "source": [
    "# 실습3 문제2. loc을 사용해 인덱스 3~6(포함!) 행, '이름'과 '점수' 컬럼만 출력하세요.\n",
    "df.loc[3:6, [\"이름\", \"점수\"]]"
   ]
  },
  {
   "cell_type": "code",
   "execution_count": null,
   "id": "62213950",
   "metadata": {},
   "outputs": [],
   "source": [
    "# 실습3 문제3. iloc을 사용해, 마지막 3개 행의 '직업'과 '점수' 컬럼만 선택해 출력하세요.\n",
    "df.iloc[-3:,-2:]"
   ]
  },
  {
   "cell_type": "code",
   "execution_count": null,
   "id": "dd526d9f",
   "metadata": {},
   "outputs": [],
   "source": [
    "# 실습3 문제4. iloc을 사용해, 홀수번째(1, 3, 5, 7번 인덱스) 행, 모든 열을 선택하세요.\n",
    "df.iloc[[1,3,5,7]]"
   ]
  },
  {
   "cell_type": "code",
   "execution_count": null,
   "id": "dd083e87",
   "metadata": {},
   "outputs": [],
   "source": [
    "# 실습3 문제5. loc을 사용해, 인덱스 4~7번 행, '나이', '점수' 컬럼만 출력하세요.\n",
    "df.loc[4:7,[\"나이\",\"점수\"]]"
   ]
  },
  {
   "cell_type": "code",
   "execution_count": null,
   "id": "86434c3d",
   "metadata": {},
   "outputs": [],
   "source": [
    "# 실습3 문제6. iloc을 사용해, 짝수번째(0,2,4,6) 행과 짝수번째(0,2) 열만 선택하세요.\n",
    "df.iloc[[0,2,4,6],[0,2]]"
   ]
  },
  {
   "cell_type": "markdown",
   "id": "f3246fa7",
   "metadata": {},
   "source": [
    "### 통계함수"
   ]
  },
  {
   "cell_type": "code",
   "execution_count": null,
   "id": "f767521a",
   "metadata": {},
   "outputs": [],
   "source": [
    "data = {\n",
    "    \"상품명\": [\"무선 이어폰\", \"스마트 워치\", \"텀블러\", \"노트북\", \"블루투스 스피커\", \"무드등\"],\n",
    "    \"가격\": [129000, 250000, 15000, 1200000, 85000, 22000],\n",
    "    \"재고\": [23, 12, 54, 5, 17, 31]\n",
    "}\n",
    "df = pd.DataFrame(data)\n",
    "df"
   ]
  },
  {
   "cell_type": "code",
   "execution_count": null,
   "id": "140dc641",
   "metadata": {},
   "outputs": [],
   "source": [
    "# df.describe(include=\"all\")\n",
    "df[\"가격\"].describe()\n"
   ]
  },
  {
   "cell_type": "code",
   "execution_count": null,
   "id": "84181c68",
   "metadata": {},
   "outputs": [],
   "source": [
    "# 평균\n",
    "df[\"가격\"].mean()\n",
    "\n",
    "# 중앙값(전체 범위 중 가운데)\n",
    "df[\"재고\"].median()\n",
    "\n",
    "# 표준편차\n",
    "df[\"가격\"].std()\n",
    "\n",
    "# 분산\n",
    "df[\"재고\"].var()\n",
    "\n",
    "# 값의 개수\n",
    "df[\"상품명\"].count()\n",
    "\n",
    "# 최대값\n",
    "df[\"가격\"].max()\n",
    "\n",
    "# 최소값\n",
    "df[\"재고\"].min()\n",
    "\n",
    "# 합계\n",
    "df[\"가격\"].sum()"
   ]
  },
  {
   "cell_type": "code",
   "execution_count": null,
   "id": "e1a1baf1",
   "metadata": {},
   "outputs": [],
   "source": [
    "# 최대값의 위치와 최소값의 위치\n",
    "df.idxmax()\n",
    "df[\"재고\"].idxmax()\n",
    "\n",
    "df.idxmin()\n",
    "df[\"가격\"].idxmin()"
   ]
  },
  {
   "cell_type": "markdown",
   "id": "c039b27f",
   "metadata": {},
   "source": [
    "### 결측값 처리\n",
    "- 결측값 : 값이 기록되지 않은 상태의 데이터\n",
    "- NaN : Not a Number"
   ]
  },
  {
   "cell_type": "code",
   "execution_count": null,
   "id": "efae9f71",
   "metadata": {},
   "outputs": [],
   "source": [
    "data = {\n",
    "    \"이름\": [\"서준\", \"하은\", \"민준\", \"서연\", \"태훈\", \"지민\"],\n",
    "    \"나이\": [22, 28, np.nan, 31, 27, 24],\n",
    "    \"점수\": [89, np.nan, 83, 90, 88, 93]\n",
    "}\n",
    "df = pd.DataFrame(data)\n",
    "df"
   ]
  },
  {
   "cell_type": "code",
   "execution_count": null,
   "id": "228fbc07",
   "metadata": {},
   "outputs": [],
   "source": [
    "# 결측값 탐지\n",
    "# isnull 결측값이 맞으면 True 아니면 False\n",
    "df.isnull()\n",
    "\n",
    "# 각 컬럼의 결측값의 수 계산\n",
    "df.isnull().sum()\n",
    "\n",
    "# 데이터의 전체 결측값 수 계산\n",
    "df.isnull().sum().sum()\n"
   ]
  },
  {
   "cell_type": "code",
   "execution_count": null,
   "id": "5483a897",
   "metadata": {},
   "outputs": [],
   "source": [
    "# notnull\n",
    "# 결측값이 아니면 True 맞으면 False\n",
    "df.notnull()"
   ]
  },
  {
   "cell_type": "code",
   "execution_count": null,
   "id": "932170ce",
   "metadata": {},
   "outputs": [],
   "source": [
    "# dropna 결측값이 있는 행 삭제\n",
    "# 기본적으로 원본변경 안됨\n",
    "# inplace로 설정시 원본 변경 가능\n",
    "df2 = df.dropna()\n",
    "df2"
   ]
  },
  {
   "cell_type": "code",
   "execution_count": null,
   "id": "34d03515",
   "metadata": {},
   "outputs": [],
   "source": [
    "# 결측값이 있는 열 삭제\n",
    "df3 = df.dropna(axis=1)\n",
    "df3"
   ]
  },
  {
   "cell_type": "code",
   "execution_count": null,
   "id": "a871cbb1",
   "metadata": {},
   "outputs": [],
   "source": [
    "# fillna 결측값을 0으로 대체\n",
    "df4 = df.fillna(0)\n",
    "df4"
   ]
  },
  {
   "cell_type": "code",
   "execution_count": null,
   "id": "920c4629",
   "metadata": {},
   "outputs": [],
   "source": [
    "avg_age = df[\"나이\"].mean()\n",
    "df[\"나이\"] = df[\"나이\"].fillna(avg_age)\n",
    "df"
   ]
  },
  {
   "cell_type": "code",
   "execution_count": null,
   "id": "ea19699f",
   "metadata": {},
   "outputs": [],
   "source": [
    "# 이전 값으로 결측값 채우기(forward fill)\n",
    "df5 = df.fillna(method=\"ffill\")\n",
    "df5"
   ]
  },
  {
   "cell_type": "code",
   "execution_count": null,
   "id": "b7ae480c",
   "metadata": {},
   "outputs": [],
   "source": [
    "# 뒤의 값으로 결측값 채우기(backward fill)\n",
    "df6 = df.fillna(method=\"bfill\")\n",
    "df6"
   ]
  },
  {
   "cell_type": "code",
   "execution_count": null,
   "id": "78a97473",
   "metadata": {},
   "outputs": [],
   "source": [
    "# 실습4 문제1 ~ 문제6\n",
    "\n",
    "data = {\n",
    "        \"도시\": [\"서울\", \"부산\", \"광주\", \"대구\", np.nan, \"춘천\"],\n",
    "        \"미세먼지\": [45, 51, np.nan, 38, 49, np.nan],\n",
    "        \"초미세먼지\": [20, np.nan, 17, 18, 22, 19],\n",
    "        \"강수량\": [0.0, 2.5, 1.0, np.nan, 3.1, 0.0]\n",
    "}\n",
    "df = pd.DataFrame(data)\n",
    "df"
   ]
  },
  {
   "cell_type": "code",
   "execution_count": null,
   "id": "dc47a16d",
   "metadata": {},
   "outputs": [],
   "source": [
    "# 실습4 문제1.‘미세먼지’ 컬럼의 평균과 중앙값을 구하세요.\n",
    "mean_1 = df['미세먼지'].mean()\n",
    "median_1 = df['미세먼지'].median()\n",
    "\n",
    "print(\"평균값\", mean_1)\n",
    "print(\"중앙값\", median_1)"
   ]
  },
  {
   "cell_type": "code",
   "execution_count": null,
   "id": "9c8ab578",
   "metadata": {},
   "outputs": [],
   "source": [
    "# 실습4 문제2. ‘초미세먼지’ 컬럼의 최댓값과 최솟값을 구하세요.\n",
    "max_2 = df['초미세먼지'].max()\n",
    "min_2 = df['초미세먼지'].min()\n",
    "\n",
    "print(\"최대값\", max_2)\n",
    "print(\"최소값\", min_2)"
   ]
  },
  {
   "cell_type": "code",
   "execution_count": null,
   "id": "921a8c8a",
   "metadata": {},
   "outputs": [],
   "source": [
    "# 실습4 문제3. 각 컬럼별 결측값 개수를 구하세요.\n",
    "print(df.isnull().sum())"
   ]
  },
  {
   "cell_type": "code",
   "execution_count": null,
   "id": "4c14bced",
   "metadata": {},
   "outputs": [],
   "source": [
    "# 실습4 문제4. 결측값이 하나라도 있는 행을 모두 삭제한 뒤, 남은 데이터의 ‘초미세먼지’ 평균을 구하세요.\n",
    "drop = df.dropna()\n",
    "mean_4 = drop[\"초미세먼지\"].mean()\n",
    "print(\"남은 데이터 초미세먼지 평균\", mean_4)"
   ]
  },
  {
   "cell_type": "code",
   "execution_count": null,
   "id": "77ef01d1",
   "metadata": {},
   "outputs": [],
   "source": [
    "# 실습4 문제5. 결측값을 모두 0으로 채운 뒤, ‘미세먼지’와 ‘초미세먼지’의 합계를 각각 구하세요.\n",
    "null_0 = df.fillna(0)\n",
    "print(\"결측값 0 이후 미세먼지 합:\",null_0['미세먼지'].sum())\n",
    "print(\"결측값 0 이후 초미세먼지 합:\",null_0['초미세먼지'].sum())"
   ]
  },
  {
   "cell_type": "code",
   "execution_count": null,
   "id": "b64a2661",
   "metadata": {},
   "outputs": [],
   "source": [
    "# 실습4 문제6. ‘미세먼지’ 컬럼의 결측값을 평균값으로 채운 뒤, 그 표준편차를 구하세요.\n",
    "mean_6 = df[\"미세먼지\"].mean()\n",
    "# 원본을 변경시키지 않는 복사본\n",
    "df4 = df.copy()\n",
    "df4[\"미세먼지\"] = df[\"미세먼지\"].fillna(mean_6)   #결측값 평균값으로 채움\n",
    "print(\"표준편차:\",df4[\"미세먼지\"].std())"
   ]
  }
 ],
 "metadata": {
  "kernelspec": {
   "display_name": "data_analysis",
   "language": "python",
   "name": "python3"
  },
  "language_info": {
   "codemirror_mode": {
    "name": "ipython",
    "version": 3
   },
   "file_extension": ".py",
   "mimetype": "text/x-python",
   "name": "python",
   "nbconvert_exporter": "python",
   "pygments_lexer": "ipython3",
   "version": "3.13.5"
  }
 },
 "nbformat": 4,
 "nbformat_minor": 5
}
