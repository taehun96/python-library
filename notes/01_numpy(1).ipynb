{
 "cells": [
  {
   "cell_type": "code",
   "execution_count": null,
   "id": "68e8c01a",
   "metadata": {},
   "outputs": [],
   "source": [
    "import numpy as np\n"
   ]
  },
  {
   "cell_type": "markdown",
   "id": "783070b0",
   "metadata": {},
   "source": [
    "## NumPy(1)\n",
    "- 다차원 배열을 쉽고 효율적으로 사용할 수 있도록 지원하는 파이썬 라이브러리\n",
    "- 데이터 분석 라이브러리의 근본!"
   ]
  },
  {
   "cell_type": "markdown",
   "id": "db0cc407",
   "metadata": {},
   "source": [
    "### 1-1 ndarray\n",
    "- NumPy 의 핵심 데이터 구조\n",
    "- 동일한 자료형의 다차원 배열"
   ]
  },
  {
   "cell_type": "code",
   "execution_count": null,
   "id": "60e955b9",
   "metadata": {},
   "outputs": [],
   "source": [
    "# ndarray의 생성\n",
    "a = np.array([[1,2,3], [4,5,6]])\n",
    "b = np.array([1.0, 3.14, 1.24])\n",
    "\n",
    "# 배열의 구조\n",
    "print(f\"배열의 구조: {a.shape}\")\n",
    "\n",
    "# 배열의 차원 수\n",
    "print(f\"배열의 차원: {a.ndim}\")\n",
    "\n",
    "# 데이터 타입\n",
    "print(f\"배열의 데이터타입: {a.dtype}\")\n",
    "print(f\"배열의 데이터타입: {b.dtype}\")\n",
    "\n",
    "# 형 변환\n",
    "new_a = a.astype(np.float64)\n",
    "print(f\"수정한 배열의 데이터타입: {new_a.dtype}\")"
   ]
  },
  {
   "cell_type": "code",
   "execution_count": null,
   "id": "2c9841b7",
   "metadata": {},
   "outputs": [],
   "source": [
    "# 3차원 행렬\n",
    "a = np.array([[[1,2,3],\n",
    "                [4,5,6]],\n",
    "\n",
    "            [[1,2,3],\n",
    "                [4,5,6]],\n",
    "                \n",
    "            [[1,2,3],\n",
    "                [4,5,6]]])\n",
    "print(f\"배열의 구조: {a.shape}\")\n",
    "print(f\"배열의 차원: {a.ndim}\")"
   ]
  },
  {
   "cell_type": "code",
   "execution_count": null,
   "id": "70c7b848",
   "metadata": {},
   "outputs": [],
   "source": [
    "# 4차원 행렬\n",
    "a = np.array([[[[1,2,3], \n",
    "                    [4,5,6]],\n",
    "                [[1,2,3], \n",
    "                    [4,5,6]],\n",
    "                [[1,2,3], \n",
    "                    [4,5,6]]],\n",
    "            \n",
    "            [[[1,2,3],\n",
    "                [4,5,6]],\n",
    "            [[1,2,3],\n",
    "                [4,5,6]],\n",
    "            [[1,2,3],\n",
    "                [4,5,6]]]])\n",
    "print(f\"배열의 구조: {a.shape}\")\n",
    "print(f\"배열의 차원: {a.ndim}\")"
   ]
  },
  {
   "cell_type": "code",
   "execution_count": null,
   "id": "49d95168",
   "metadata": {},
   "outputs": [],
   "source": [
    "# 만들 수 없는 배열\n",
    "# 내부 배열의 구조가 같아야 함\n",
    "a = np.array([[1],[2,3]])"
   ]
  },
  {
   "cell_type": "markdown",
   "id": "da2cf23b",
   "metadata": {},
   "source": [
    "### 1-2 배열 초기화"
   ]
  },
  {
   "cell_type": "code",
   "execution_count": null,
   "id": "1e92e5f7",
   "metadata": {},
   "outputs": [],
   "source": [
    "# 모든 요소가 0인 배열 생성\n",
    "np.zeros((3, 4)) # 2차원\n",
    "np.zeros((2, 3, 4), dtype=np.int64) #3차원"
   ]
  },
  {
   "cell_type": "code",
   "execution_count": null,
   "id": "091c35b7",
   "metadata": {},
   "outputs": [],
   "source": [
    "# 모든 요소가 1인 배열 생성\n",
    "np.ones((5, 6))"
   ]
  },
  {
   "cell_type": "code",
   "execution_count": null,
   "id": "a7169ded",
   "metadata": {},
   "outputs": [],
   "source": [
    "# (원소의 값이) 초기화 되지 않은 배열 생성\n",
    "np.empty((2, 3))"
   ]
  },
  {
   "cell_type": "code",
   "execution_count": null,
   "id": "a33c7fcf",
   "metadata": {},
   "outputs": [],
   "source": [
    "# 주어진 값으로 채운 배열\n",
    "np.full((3,3), 7)"
   ]
  },
  {
   "cell_type": "code",
   "execution_count": null,
   "id": "da3cc495",
   "metadata": {},
   "outputs": [],
   "source": [
    "# 단위 행렬\n",
    "np.eye(3,3)\n",
    "np.eye(3,5,1) # 3번째 인자를 입력 → 1이 오른쪽으로 이동, 음수 입력시 반대로 이동"
   ]
  },
  {
   "cell_type": "markdown",
   "id": "c0d05070",
   "metadata": {},
   "source": [
    "### 1-3 범위 기반 배열 생성"
   ]
  },
  {
   "cell_type": "code",
   "execution_count": null,
   "id": "30e05b0d",
   "metadata": {},
   "outputs": [],
   "source": [
    "# arange : range()와 유사한 기능을 제공\n",
    "# 시작 이상 끝 미만의 정수 배열을 지정한 간격으로 생성\n",
    "np.arange(0, 10)\n",
    "np.arange(0, 10, 2) # 간격 지정"
   ]
  },
  {
   "cell_type": "code",
   "execution_count": null,
   "id": "4bcce5c9",
   "metadata": {},
   "outputs": [],
   "source": [
    "# linspace : 시작~끝까지 균일 간격으로 지정한 개수만큼 숫자를 생성\n",
    "#  끝을 포함\n",
    "np.linspace(10, 100, 10) # 10~100 사이 10개로 나눠줘\n",
    "np.linspace(0, 1, 20) # 0~1 사이 20개로 나눠줘 "
   ]
  },
  {
   "cell_type": "code",
   "execution_count": null,
   "id": "a655a2ce",
   "metadata": {},
   "outputs": [],
   "source": [
    "# reshape : 배열의 구조를 재배치\n",
    "# np.linspace(1,10,10).reshape((2,3)) # error 발생 ➡️ 원소의 개수가 같아야 함\n",
    "np.linspace(5,100,20).reshape((4,5)) "
   ]
  },
  {
   "cell_type": "markdown",
   "id": "3ede93b5",
   "metadata": {},
   "source": [
    "### 1-4 랜덤 배열 생성"
   ]
  },
  {
   "cell_type": "code",
   "execution_count": null,
   "id": "cdfcf438",
   "metadata": {},
   "outputs": [],
   "source": [
    "# random.rand(m, n) : 0~1 사이의 난수로 초기화\n",
    "np.random.rand(2, 3)"
   ]
  },
  {
   "cell_type": "code",
   "execution_count": null,
   "id": "04bb66f6",
   "metadata": {},
   "outputs": [],
   "source": [
    "# random.randn(m, n) : 표준정규분포를 따르는 난수로 초기화\n",
    "# 표준정규분포 : 평균 0, 분산 1인 정규분포\n",
    "np.random.randn(2,4,5)\n",
    "\n",
    "# random.normal(평균, 분산, 사이즈)\n",
    "# 정규분포\n",
    "np.random.normal(10, 20, (2,4))"
   ]
  },
  {
   "cell_type": "code",
   "execution_count": null,
   "id": "7bb63060",
   "metadata": {},
   "outputs": [],
   "source": [
    "# random.randint(low, high, (size))\n",
    "print(np.random.randint(0, 101, (3, 3)))"
   ]
  },
  {
   "cell_type": "code",
   "execution_count": null,
   "id": "fe0349a6",
   "metadata": {},
   "outputs": [],
   "source": [
    "# random.seed() : 난수 생성시 시작값 제공\n",
    "np.random.seed(42)\n",
    "print(np.random.rand(2, 3))\n",
    "print(np.random.randn(2,2))\n",
    "print(np.random.randint(0, 101, (3, 3)))"
   ]
  },
  {
   "cell_type": "code",
   "execution_count": null,
   "id": "dadec19b",
   "metadata": {},
   "outputs": [],
   "source": [
    "# RNG(Random Number Generator)\n",
    "# 최근 파이썬 사용에서 권장되는 방식\n",
    "\n",
    "from numpy.random import default_rng\n",
    "rng = default_rng(seed=42)\n",
    "rng2 = default_rng(seed=10)\n",
    "rng3 = default_rng()\n",
    "\n",
    "print(rng.random((3,2))) # 0~1 사이의 난수\n",
    "print(rng2.normal(0, 1, (4,5))) # 정규 분포 난수\n",
    "print(rng3.integers(0, 100, (2,2))) # 정수 분포 난수\n",
    "print(rng.uniform(0, 100, (4,4))) # 균등 분포 난수"
   ]
  },
  {
   "cell_type": "code",
   "execution_count": null,
   "id": "a83e27a0",
   "metadata": {},
   "outputs": [],
   "source": [
    "# 실습1 문제1. 0으로 채워진 크기 (3, 4) 배열을 생성한 후, 모든 값을 5로 채우는 새로운 배열을 만드세요\n",
    "a1 = np.zeros((3, 4))\n",
    "a1_2 = np.full((3,4), 5)\n",
    "print(\"문제1:\", a1, a1_2, sep=\"\\n\")"
   ]
  },
  {
   "cell_type": "code",
   "execution_count": null,
   "id": "ccf3e7ed",
   "metadata": {},
   "outputs": [],
   "source": [
    "# 실습1 문제2 0부터 20까지 2씩 증가하는 1차원 배열을 생성하세요\n",
    "a2 = np.arange(0, 21, 2)\n",
    "print(\"\\n문제2:\", a2)"
   ]
  },
  {
   "cell_type": "code",
   "execution_count": null,
   "id": "5adb8006",
   "metadata": {},
   "outputs": [],
   "source": [
    "# 실습1 문제3  0~1 사이의 실수 난수를 가지는 (2, 3) 크기의 배열을 생성하세요\n",
    "a3 = np.random.rand(2, 3)\n",
    "print(\"\\n문제3:\", a3)"
   ]
  },
  {
   "cell_type": "code",
   "execution_count": null,
   "id": "e67c157c",
   "metadata": {},
   "outputs": [],
   "source": [
    "# 실습1 문제4 평균이 100, 표준편차가 20인 정규분포 난수 6개를 생성하세요.\n",
    "a4 = np.random.normal(100, 20, 6)\n",
    "print(\"\\n문제4:\", a4)"
   ]
  },
  {
   "cell_type": "code",
   "execution_count": null,
   "id": "7f5b94a7",
   "metadata": {},
   "outputs": [],
   "source": [
    "# 실습1 문제5 1부터 20까지의 정수를 포함하는 1차원 배열을 만들고, 이 배열을 (4, 5) 크기의 2차원 배열로 변환하세요\n",
    "a5 = np.arange(1, 21).reshape(4, 5)\n",
    "print(\"\\n문제5:\", a5)"
   ]
  },
  {
   "cell_type": "code",
   "execution_count": null,
   "id": "99829cc7",
   "metadata": {},
   "outputs": [],
   "source": [
    "# 실습1 문제6 0부터 1까지 균등 간격으로 나눈 12개의 값을 가지는 배열을 생성하고, 이를 (3, 4) 크기로 변환하세요.\n",
    "a6 = np.linspace(0, 1, 12).reshape(3, 4)\n",
    "print(\"\\n문제6:\", a6)"
   ]
  },
  {
   "cell_type": "code",
   "execution_count": null,
   "id": "ea99d785",
   "metadata": {},
   "outputs": [],
   "source": [
    "# 실습1 문제7  0~99 사이의 정수 난수로 이루어진 (10, 10) 배열을 생성한 뒤, np.eye()로 만든 단위 행렬을 더하여 대각선 요소가 1씩 증가된 배열을 만드세요.\n",
    "a7 = np.random.randint(0, 100, (10,10))\n",
    "a7_eye = np.eye(10,10,1)\n",
    "a7_added = a7 + np.eye(10,10,1)\n",
    "\n",
    "print(\"\\n문제7:\", a7_added)"
   ]
  },
  {
   "cell_type": "code",
   "execution_count": null,
   "id": "a67b5a36",
   "metadata": {},
   "outputs": [],
   "source": [
    "# 실습1 문제8 0~9 사이의 난수로 이루어진 (2, 3, 4) 3차원 배열을 생성하세요\n",
    "a8 = np.random.randint(0, 10, (2, 3, 4))\n",
    "print(\"\\n문제8:\", a8)\n",
    "# (2, 3, 4) = 3차원 기준에서 덩어리 2개, 2차원 기준 3개, 1차원 기준 4개"
   ]
  },
  {
   "cell_type": "markdown",
   "id": "06a7cfcd",
   "metadata": {},
   "source": [
    "### 1-5. 인덱싱과 슬라이싱\n",
    "- 다차원 배열을 다루는 편의 기능 제공\n",
    "- Python의 시퀀스보다 빠름\n",
    "- NumPy 배열은 Python 시퀀스와 동일하게 0부터 시작하는 인덱스 사용\n",
    "- 인덱싱과 슬라이싱의 기본적인 문법은 동일함"
   ]
  },
  {
   "cell_type": "code",
   "execution_count": null,
   "id": "32792126",
   "metadata": {},
   "outputs": [],
   "source": [
    "# 인덱싱\n",
    "a = np.array([10, 20, 30, 40, 50])\n",
    "print(a[2])\n",
    "print(a[-1])"
   ]
  },
  {
   "cell_type": "code",
   "execution_count": null,
   "id": "6066e23e",
   "metadata": {},
   "outputs": [],
   "source": [
    "# 다차원 인덱싱\n",
    "# 파이썬 리스트\n",
    "matrix = [[1,2,3], [4,5,6]]\n",
    "print(\"파이썬 인덱싱 방식:\", matrix[1][1])\n",
    "\n",
    "# NumPy 배열\n",
    "a2 = np.array([[1,2,3], [4,5,6]])\n",
    "print(a2.shape)\n",
    "print(\"NumPy 인덱싱 방식:\", a2[1,2])"
   ]
  },
  {
   "cell_type": "code",
   "execution_count": null,
   "id": "0e0bbda2",
   "metadata": {},
   "outputs": [],
   "source": [
    "# 3차원 배열 인덱싱\n",
    "a3 = np.arange(24).reshape(2, 3, 4)\n",
    "print(a3)\n",
    "print(a3.shape)\n",
    "print(\"17\", a3[1, 1, 1])\n",
    "print(\"11\", a3[0, 2, 3])\n",
    "print(\"23\", a3[1, 2, 3])"
   ]
  },
  {
   "cell_type": "code",
   "execution_count": null,
   "id": "33dc60e2",
   "metadata": {},
   "outputs": [],
   "source": [
    "# 슬라이싱\n",
    "# NumPy는 Python 리스트의 슬라이싱과 동일한 문법을 사용\n",
    "# 결과가 일반 리스트가 아니라 뷰(View)라는 점이 다름\n",
    "# 뷰(View) - 원본 데이터의 메모리를 공유, 슬라이스 결과를 수정하면 원본 배열도 변경됨\n",
    "# arr[행_슬라이스, 열__슬라이스]\n",
    "# arr[..., 4차원슬라이스, 3차원슬라이스, 2차원슬라이스, 1차원슬라이스]\n",
    "a1 = np.array([10, 20, 30, 40, 50])\n",
    "\n",
    "print(a1[1:3])\n",
    "print(a1[2:])\n",
    "print(a1[:2])\n",
    "print(a1[:])\n",
    "print(a1[::2])\n",
    "print(a1[::-1])"
   ]
  },
  {
   "cell_type": "code",
   "execution_count": null,
   "id": "4262c0b7",
   "metadata": {},
   "outputs": [],
   "source": [
    "# 파이썬 리스트와의 차이\n",
    "# 파이썬 리스트\n",
    "# 원본 배열 변경안됨\n",
    "py_list = [10, 20, 30, 40, 50]\n",
    "sliced = py_list[1:4]\n",
    "sliced[1] = 100\n",
    "print(\"py원본:\", py_list)\n",
    "print(\"py슬라이싱:\", sliced)\n",
    "print()\n",
    "\n",
    "# numpy 배열\n",
    "# 슬라이스 결과를 수정하면 원본 배열도 변경됨\n",
    "a1 = np.array([10, 20, 30, 40, 50])\n",
    "a1_sliced = a1[1:4]\n",
    "a1_sliced[1] = 100\n",
    "print(\"py원본:\", a1)\n",
    "print(\"py슬라이싱:\", a1_sliced)"
   ]
  },
  {
   "cell_type": "code",
   "execution_count": null,
   "id": "6a351abc",
   "metadata": {},
   "outputs": [],
   "source": [
    "# 2차원 배열 슬라이싱\n",
    "a2 = np.arange(1, 21).reshape(4, 5)\n",
    "print(\"원본\", a2)\n",
    "print()\n",
    "\n",
    "# 행 슬라이싱(2차원 슬라이싱)\n",
    "# print(a2[0, :])\n",
    "# print(a2[1])\n",
    "# print(a2[1:3])\n",
    "# print(a2[2:])\n",
    "# print()\n",
    "\n",
    "# 열 슬라이싱(1차원 슬라이싱) \n",
    "# print(a2[:,2])\n",
    "# print(a2[:,-1])\n",
    "# print(a2[:, 1:3])\n",
    "\n",
    "# 행과 열 슬라이싱\n",
    "print(a2[1:3, 2:4])\n",
    "print(a2[2:, 3:])\n",
    "print(a2[::2, ::2])"
   ]
  },
  {
   "cell_type": "code",
   "execution_count": null,
   "id": "1436f2af",
   "metadata": {},
   "outputs": [],
   "source": [
    "# 3차원 슬라이싱\n",
    "a3 = np.arange(36).reshape(3, 3, 4)\n",
    "print(a3)\n",
    "print(a3[1, 1, 1:3])"
   ]
  },
  {
   "cell_type": "code",
   "execution_count": null,
   "id": "c5d118bf",
   "metadata": {},
   "outputs": [],
   "source": [
    "# 얕은 복사(view) : 복사본이 원본과 메모리를 공유 → 변경사항이 서로에게 영향을 줌\n",
    "a1 = np.array([1,2,3])\n",
    "a1_copied = a1.view()\n",
    "a1_copied[1] = 10\n",
    "print(\"원본:\", a1)\n",
    "print(\"복사본:\", a1_copied)\n",
    "print()\n",
    "\n",
    "# 깊은 복사 : 복사본이 원본과 독립적으로 복사됨 → 서로 영향을 주지 X\n",
    "a2 = np.array([1,2,3])\n",
    "a2_copied = a2.copy()\n",
    "a2_copied[1] = 10\n",
    "print(\"원본\", a2)\n",
    "print(\"복사본\", a2_copied)"
   ]
  },
  {
   "cell_type": "code",
   "execution_count": null,
   "id": "cefeecf5",
   "metadata": {},
   "outputs": [],
   "source": [
    "# Fancy indexing\n",
    "# 정수 배열을 사용하여 여러 인덱스로 여러 요소를 한번에 선택\n",
    "af = np.arange(1,21)\n",
    "# print(af)\n",
    "# print(af[[4,7,11]])\n",
    "\n",
    "af2 = np.arange(1, 21).reshape(4, 5)\n",
    "print(af2)\n",
    "print(af2[[1,3],[2,4]])"
   ]
  },
  {
   "cell_type": "code",
   "execution_count": null,
   "id": "de331f9e",
   "metadata": {},
   "outputs": [],
   "source": [
    "# Boolean indexing\n",
    "# 조건식을 사용하여 요소 선택\n",
    "ab = np.linspace(10,100,10)\n",
    "print(ab)\n",
    "print(ab[ab > 40])\n",
    "\n",
    "# Boolean masking\n",
    "ab2 = np.arange(0,20)\n",
    "print(ab2)\n",
    "mask = ab2 % 2 == 0\n",
    "print(mask)\n",
    "print(ab2[mask])"
   ]
  },
  {
   "cell_type": "code",
   "execution_count": null,
   "id": "3648f66a",
   "metadata": {},
   "outputs": [],
   "source": [
    "# 실습2 문제1 다음 배열에서 2, 4, 6번째 요소를 Fancy Indexing으로 선택하세요.\n",
    "arr = np.arange(10, 30, 2)\n",
    "print(arr)\n",
    "print(arr[[1,3,5]])\n"
   ]
  },
  {
   "cell_type": "code",
   "execution_count": null,
   "id": "93a34e7e",
   "metadata": {},
   "outputs": [],
   "source": [
    "# 실습2 문제2 3x3 배열에서 왼쪽 위 → 오른쪽 아래 대각선의 요소만 인덱싱으로 추출하세요.\n",
    "arr = np.arange(1, 10).reshape(3, 3)\n",
    "print(arr)\n",
    "print(arr[[0,1,2],[0,1,2]])\n"
   ]
  },
  {
   "cell_type": "code",
   "execution_count": null,
   "id": "7359001f",
   "metadata": {},
   "outputs": [],
   "source": [
    "# 실습2 문제3 3x4 배열에서 마지막 열만 선택해 모두 -1로 변경하세요.\n",
    "arr = np.arange(1, 13).reshape(3, 4)\n",
    "print(arr)\n",
    "arr[:,-1] = -1\n",
    "print(arr)"
   ]
  },
  {
   "cell_type": "code",
   "execution_count": null,
   "id": "5fbe07a7",
   "metadata": {},
   "outputs": [],
   "source": [
    "# 실습2 문제4 4x4 배열에서 행을 역순, 열을 역순으로 각각 슬라이싱해 출력하세요.\n",
    "arr = np.arange(1, 17).reshape(4, 4)\n",
    "print(arr)\n",
    "print(\"행의 역순\",arr[::-1])\n",
    "print(\"열의 역순\",arr[:, ::-1])"
   ]
  },
  {
   "cell_type": "code",
   "execution_count": null,
   "id": "00aec4ab",
   "metadata": {},
   "outputs": [],
   "source": [
    "# 실습2 문제5 4x5 배열에서 가운데 2x3 부분을 슬라이싱한 뒤 copy()를 이용해 독립 배열을 만드세요.\n",
    "arr = np.arange(1, 21).reshape(4, 5)\n",
    "print(arr)\n",
    "arr_sliced = arr[1:3, 1:4].copy()\n",
    "print(arr_sliced)"
   ]
  },
  {
   "cell_type": "code",
   "execution_count": null,
   "id": "c9b1e303",
   "metadata": {},
   "outputs": [],
   "source": [
    "# 실습2 문제6 3x4 배열에서 짝수이면서 10 이상인 값만 선택하세요.\n",
    "arr = np.array([[ 4,  9, 12,  7], [10, 15, 18,  3], [ 2, 14,  6, 20]])\n",
    "print(arr)\n",
    "arr1 = arr[(arr % 2 ==0) & (arr >= 10)]\n",
    "print(arr1)"
   ]
  },
  {
   "cell_type": "code",
   "execution_count": null,
   "id": "034c1d28",
   "metadata": {},
   "outputs": [],
   "source": [
    "# 실습2 문제7 5x5 배열에서 2, 4번째 행을 선택하고, 선택된 행에서 열 순서를 [4, 0, 2]로 재배치하세요.\n",
    "arr = np.arange(1, 26).reshape(5, 5)\n",
    "print(arr)\n",
    "result = arr[[1,3]]\n",
    "print(result)\n",
    "\n",
    "# 방법1\n",
    "# answer = []\n",
    "# for i in result:\n",
    "#     answer.append([i[4],i[0],i[2]])\n",
    "# print(np.array(answer))\n",
    "\n",
    "# 방법2\n",
    "arr2 = result[:,[4,0,2]]\n",
    "print(arr2)\n"
   ]
  },
  {
   "cell_type": "code",
   "execution_count": null,
   "id": "7bb1e4c2",
   "metadata": {},
   "outputs": [],
   "source": [
    "# 실습2 문제8 5x3 배열에서 각 행의 첫 번째 값이 50 이상인 행만 Boolean Indexing으로 선택하세요.\n",
    "arr = np.array([[10, 20, 30], [55, 65, 75], [40, 45, 50], [70, 80, 90], [15, 25, 35]])\n",
    "print(arr)\n",
    "arr1 = arr[arr[:, 0] >= 50]\n",
    "print(arr1)"
   ]
  },
  {
   "cell_type": "code",
   "execution_count": null,
   "id": "2b099526",
   "metadata": {},
   "outputs": [],
   "source": [
    "# 실습2 문제9 4x4 배열에서 (0,1), (1,3), (2,0), (3,2) 위치의 요소를 한 번에 선택하세요.\n",
    "arr = np.arange(1, 17).reshape(4, 4)\n",
    "print(arr)\n",
    "arr1 = arr[[0,1,2,3],[1,3,0,2]]\n",
    "print(arr1)"
   ]
  },
  {
   "cell_type": "code",
   "execution_count": null,
   "id": "edb9d947",
   "metadata": {},
   "outputs": [],
   "source": [
    "# 실습2 문제10 3차원 배열 (2, 3, 4)에서 모든 블록에서 두 번째 열만 추출해 새로운 2차원 배열 (2, 3)을 만드세요.\n",
    "arr3d = np.arange(24).reshape(2, 3, 4)\n",
    "print(arr3d)\n",
    "arr = arr3d[:,:,1]\n",
    "print(arr)"
   ]
  },
  {
   "cell_type": "code",
   "execution_count": null,
   "id": "84588ed8",
   "metadata": {},
   "outputs": [],
   "source": [
    "#실습3 문제1  0부터 24까지 정수를 가진 배열을 만들고, (5, 5) 배열로 변환한 뒤 가운데 행(3번째 행)과 가운데 열(3번째 열)을 각각 1차원 배열로 출력하세요.\n",
    "arr = np.arange(25).reshape(5, 5)\n",
    "print(\"가운데 행:\", arr[2])\n",
    "print(\"가운데 열:\", arr[:, 2])"
   ]
  },
  {
   "cell_type": "code",
   "execution_count": null,
   "id": "2cae259d",
   "metadata": {},
   "outputs": [],
   "source": [
    "#실습3 문제2 0~99 난수로 이루어진 (10, 10) 배열을 생성하고, 짝수 인덱스의 행만 선택하여 출력하세요.\n",
    "a2 = np.random.randint(0, 100, (10, 10))\n",
    "print(a2)\n",
    "print()\n",
    "print(a2[::2])"
   ]
  },
  {
   "cell_type": "code",
   "execution_count": null,
   "id": "43ac3650",
   "metadata": {},
   "outputs": [],
   "source": [
    "#실습3 문제3 0부터 49까지 정수를 가진 배열을 (5, 10) 배열로 변환한 후, 2행 3열부터 4행 7열까지의 부분 배열을 추출하세요.\n",
    "arr = np.arange(50).reshape(5,10)\n",
    "print(arr)\n",
    "print()\n",
    "print(arr[1:4, 2:7])\n",
    "print(arr[2:5, 3:8])"
   ]
  },
  {
   "cell_type": "code",
   "execution_count": null,
   "id": "e20d84d2",
   "metadata": {},
   "outputs": [],
   "source": [
    "#실습3 문제4 0~9 난수로 이루어진 (4, 4) 배열을 생성하고, 각각 인덱싱으로 추출해 출력하세요.(for 이용)\n",
    "arr = np.random.randint(0,10,(4,4))\n",
    "print(arr[[0,1,2,3],[0,1,2,3]])\n",
    "print(arr[[0,1,2,3],[3,2,1,0]])"
   ]
  },
  {
   "cell_type": "code",
   "execution_count": null,
   "id": "1bff9d3d",
   "metadata": {},
   "outputs": [],
   "source": [
    "#실습3 문제5 0~9 난수로 이루어진 (3, 4, 5) 3차원 배열을 생성하고, 두 번째 층에서 첫 번째 행과 마지막 열의 값을 출력하세요.\n",
    "arr = np.arange(60).reshape(3,4,5)\n",
    "print(arr)\n",
    "print(arr[1, 0, -1])"
   ]
  },
  {
   "cell_type": "code",
   "execution_count": null,
   "id": "fd7cdbea",
   "metadata": {},
   "outputs": [],
   "source": [
    "#실습3 문제6 35부터 74까지의 순차적인 수로 이루어진 1차원 배열을 만들고 10x4 행렬로 변환 후 출력해주세요.\n",
    "arr = np.arange(35, 75).reshape(10,4)\n",
    "print(\"문제 6번\", arr)\n",
    "print()\n",
    "\n",
    "#실습3 문제7 6번에서 만든 배열을 맨 끝의 행부터 역순으로 출력해주세요.\n",
    "print(\"문제 7번\", arr[::-1])\n",
    "print()\n",
    "\n",
    "#실습3 문제8 6번에서 만든 배열 중 두 번째 행부터 마지막 직전 행까지, 세번째 열부터 마지막 열까지 슬라이싱해서 출력해주세요.\n",
    "print(\"문제 8번\",arr[1:-1, 2:])"
   ]
  },
  {
   "cell_type": "code",
   "execution_count": null,
   "id": "8e9f3019",
   "metadata": {},
   "outputs": [],
   "source": [
    "#실습3 문제9 1부터 50까지의 정수난수로 된 5x6 배열을 만들고, 배열에서 짝수만 선택하여 출력하는 코드를 작성하세요.\n",
    "arr = np.random.randint(1, 51, (5,6))\n",
    "print(arr)\n",
    "print()\n",
    "mask = arr % 2 == 0\n",
    "print(mask)\n",
    "print()\n",
    "print(\"문제 9번\", arr[mask])"
   ]
  },
  {
   "cell_type": "code",
   "execution_count": null,
   "id": "a3520693",
   "metadata": {},
   "outputs": [],
   "source": [
    "#실습3 문제10 0부터 99까지의 정수로 이루어진 (10, 10) 배열을 생성한 후, [1, 3, 5]번째 행과 [2, 4, 6]번째 열의 교차하는 원소들만 선택하여 출력하세요.\n",
    "arr = np.arange(100).reshape(10,10)\n",
    "print(arr)\n",
    "print()\n",
    "# selected_row = arr[[1, 3, 5]] #selected_row = arr[1:6:2]\n",
    "# print(selected_row)\n",
    "# print()\n",
    "# selected_col = selected_row[:, [2, 4, 6]] # selected_col = selected_row[:, [2,7,2]]\n",
    "# print(selected_col)\n",
    "print(arr[[1,3,5]][:,[2,4,6]])"
   ]
  },
  {
   "cell_type": "code",
   "execution_count": null,
   "id": "6477a42f",
   "metadata": {},
   "outputs": [],
   "source": [
    "#실습3 문제11 0~9 난수로 이루어진 1차원 배열(길이 15)을 생성하고, \n",
    "# 짝수 인덱스 위치에 있는 값들 중에서 5 이상인 값만 선택해 출력하세요.\n",
    "arr = np.random.randint(0, 10, 15)\n",
    "print(arr)\n",
    "even_idx_values = arr[::2]\n",
    "print(even_idx_values)\n",
    "mask = even_idx_values >= 5\n",
    "print(mask)\n",
    "a11 = even_idx_values[mask]\n",
    "print(a11)"
   ]
  }
 ],
 "metadata": {
  "kernelspec": {
   "display_name": "base",
   "language": "python",
   "name": "python3"
  },
  "language_info": {
   "codemirror_mode": {
    "name": "ipython",
    "version": 3
   },
   "file_extension": ".py",
   "mimetype": "text/x-python",
   "name": "python",
   "nbconvert_exporter": "python",
   "pygments_lexer": "ipython3",
   "version": "3.13.5"
  }
 },
 "nbformat": 4,
 "nbformat_minor": 5
}
