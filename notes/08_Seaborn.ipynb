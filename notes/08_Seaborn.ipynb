{
 "cells": [
  {
   "cell_type": "markdown",
   "id": "a003d319",
   "metadata": {},
   "source": [
    "## 08. Seaborn\n",
    "- Matplotlib 기반의 시각화 라이브러리\n",
    "- 통계 데이터 시각화에 특화(Pandas와 연계 좋음)"
   ]
  },
  {
   "cell_type": "code",
   "execution_count": null,
   "id": "8b67587c",
   "metadata": {},
   "outputs": [],
   "source": [
    "import seaborn as sns\n",
    "import matplotlib\n",
    "import matplotlib.pyplot as plt\n",
    "\n",
    "sns.__version__\n",
    "\n",
    "# 한글 깨짐 방지\n",
    "# Windows에서 한글 폰트 설정\n",
    "plt.rcParams['font.family'] = 'Malgun Gothic'  # '맑은 고딕'이 설치되어 있을 경우\n",
    "plt.rcParams['axes.unicode_minus'] = False     # 마이너스(-) 부호 깨짐 방지"
   ]
  },
  {
   "cell_type": "code",
   "execution_count": null,
   "id": "21bd8ba5",
   "metadata": {},
   "outputs": [],
   "source": [
    "# 사용가능한 데이터셋 이름 출력\n",
    "sns.get_dataset_names()"
   ]
  },
  {
   "cell_type": "code",
   "execution_count": null,
   "id": "ab3a8492",
   "metadata": {},
   "outputs": [],
   "source": [
    "# 데이터셋 로드\n",
    "df = sns.load_dataset(\"titanic\")\n",
    "df.head()"
   ]
  },
  {
   "cell_type": "code",
   "execution_count": null,
   "id": "719ae45f",
   "metadata": {},
   "outputs": [],
   "source": [
    "#  폰트 확인\n",
    "import matplotlib.font_manager as fm\n",
    "\n",
    "for f in fm.fontManager.ttflist:\n",
    "    print(f.name)"
   ]
  },
  {
   "cell_type": "code",
   "execution_count": null,
   "id": "db00374a",
   "metadata": {},
   "outputs": [],
   "source": [
    "# 방법1\n",
    "sns.set_style(\"darkgrid\")\n",
    "sns.set_context(\"paper\")\n",
    "\n",
    "# 한글 깨짐 방지\n",
    "# Windows에서 한글 폰트 설정\n",
    "plt.rcParams['font.family'] = 'Malgun Gothic'  # '맑은 고딕'이 설치되어 있을 경우\n",
    "plt.rcParams['axes.unicode_minus'] = False     # 마이너스(-) 부호 깨짐 방지\n",
    "\n",
    "# # 방법2\n",
    "# sns.set_theme(\n",
    "#     style=\"whitegrid\",\n",
    "#     rc={\n",
    "#         \"font.family\": \"Malgun Gothic\",\n",
    "#         \"axes.unicode_minus\": False\n",
    "#         }\n",
    "# )"
   ]
  },
  {
   "cell_type": "code",
   "execution_count": null,
   "id": "a9c5d229",
   "metadata": {},
   "outputs": [],
   "source": [
    "# 범주형 데이터 그래프\n",
    "# countplot : 범주형 데이터의 빈도(갯수)를 세서 막대그래프로 나타냄\n",
    "# hue: 다른 범주로 그룹화하여 다중 시각화 가능\n",
    "palette = sns.color_palette(\"pastel6\")\n",
    "tips = sns.load_dataset(\"tips\")\n",
    "sns.countplot(data = tips, x=\"day\", hue=\"sex\", palette=palette)\n",
    "plt.title(\"요일별 방문자수\")\n",
    "plt.grid()\n",
    "plt.show()"
   ]
  },
  {
   "cell_type": "code",
   "execution_count": null,
   "id": "9bc9c0c4",
   "metadata": {},
   "outputs": [],
   "source": []
  }
 ],
 "metadata": {
  "kernelspec": {
   "display_name": "data_analysis",
   "language": "python",
   "name": "python3"
  },
  "language_info": {
   "codemirror_mode": {
    "name": "ipython",
    "version": 3
   },
   "file_extension": ".py",
   "mimetype": "text/x-python",
   "name": "python",
   "nbconvert_exporter": "python",
   "pygments_lexer": "ipython3",
   "version": "3.13.5"
  }
 },
 "nbformat": 4,
 "nbformat_minor": 5
}
