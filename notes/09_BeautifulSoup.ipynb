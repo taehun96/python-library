{
 "cells": [
  {
   "cell_type": "markdown",
   "id": "e9b2fd02",
   "metadata": {},
   "source": [
    "## 09. BeautifulSoup\n",
    "- HTML과 XML파일에서 데이터를 추출하기 위한 라이브러리"
   ]
  },
  {
   "cell_type": "code",
   "execution_count": 1,
   "id": "4487f396",
   "metadata": {},
   "outputs": [],
   "source": [
    "from bs4 import BeautifulSoup\n",
    "import requests"
   ]
  },
  {
   "cell_type": "code",
   "execution_count": null,
   "id": "9dea023a",
   "metadata": {},
   "outputs": [],
   "source": [
    "with open(\"test.html\", \"r\", encoding=\"utf-8\") as f:\n",
    "    html_data = f.read()\n",
    "\n",
    "# soup객체 생성\n",
    "# 파싱(Parsing) : 데이터나 문서의 구조를 분석하여 의미 있는 구성 요소로 분해하고 해석하는 과정\n",
    "# soup = BeautifulSoup(html_data, \"html.parser\") # 내장 파서\n",
    "soup = BeautifulSoup(html_data, \"lxml\")\n",
    "# print(soup) # 그냥 나옴\n",
    "print(soup.prettify()) # 정렬된 형태로 나옴"
   ]
  },
  {
   "cell_type": "code",
   "execution_count": null,
   "id": "854cd8f8",
   "metadata": {},
   "outputs": [],
   "source": [
    "# 데이터 선택\n",
    "# find() - 첫번째 매칭 요소 선택\n",
    "# 태그를 기준으로 탐색\n",
    "result = soup.find(\"h1\")\n",
    "print(result) # html 전체적으로 보임\n",
    "print(result.text) # 내용물이 보여지게 됨\n",
    "print(result.get_text(strip=True))"
   ]
  },
  {
   "cell_type": "code",
   "execution_count": null,
   "id": "a67b51e4",
   "metadata": {},
   "outputs": [],
   "source": [
    "# find() - 속성 조건으로 검색 가능\n",
    "result = soup.find(\"h1\", class_=\"sub_title\")\n",
    "print(result.text)"
   ]
  },
  {
   "cell_type": "code",
   "execution_count": null,
   "id": "aed1cca6",
   "metadata": {},
   "outputs": [],
   "source": [
    "# find_all() - 모든 매칭된 요소 선택\n",
    "result = soup.find_all(\"h1\")\n",
    "\n",
    "print(result) # 리스트 형태로 나옴\n",
    "\n",
    "# 텍스트 형태로만 출력\n",
    "for i in result:\n",
    "    print(i.text)"
   ]
  },
  {
   "cell_type": "code",
   "execution_count": null,
   "id": "62859618",
   "metadata": {},
   "outputs": [],
   "source": [
    "# select() - 모든 매칭 요소 선택\n",
    "# CSS 선택자로 탐색\n",
    "# result = soup.select(\"ul:nth-child(4)\")\n",
    "result = soup.select(\"ul.items\")\n",
    "print(result)\n",
    "\n",
    "for i in result:\n",
    "    print(i.text)"
   ]
  },
  {
   "cell_type": "code",
   "execution_count": 20,
   "id": "65282a7b",
   "metadata": {},
   "outputs": [
    {
     "name": "stdout",
     "output_type": "stream",
     "text": [
      "<ul class=\"items\">\n",
      "<li data-id=\"1\">사과</li>\n",
      "<li data-id=\"2\">바나나</li>\n",
      "<li data-id=\"3\">체리</li>\n",
      "</ul>\n"
     ]
    }
   ],
   "source": [
    "#select_one() - 첫번째 매칭 요소 선택\n",
    "result = soup.select_one(\"ul.items\")\n",
    "print(result)"
   ]
  },
  {
   "cell_type": "code",
   "execution_count": 27,
   "id": "6cf95255",
   "metadata": {},
   "outputs": [
    {
     "name": "stdout",
     "output_type": "stream",
     "text": [
      "1. Golden\n",
      "2. Soda Pop\n",
      "3. 뛰어(JUMP)\n",
      "4. FAMOUS\n",
      "5. Dirty Work\n",
      "6. Drowning\n",
      "7. 시작의 아이\n",
      "8. 너에게 닿기를\n",
      "9. Your Idol\n",
      "10. WICKED\n"
     ]
    }
   ],
   "source": [
    "# request와 함께 사용\n",
    "# requests : 웹 사이트에서 데이터를 송수신 할 수 있는 라이브러리\n",
    "# 멜론에서 Top10의 노래 제목을 받아오기\n",
    "\n",
    "url = \"https://www.melon.com/chart/index.htm\"\n",
    "headers = {\n",
    "    \"User-Agent\": \"Mozilla/5.0\"\n",
    "}\n",
    "\n",
    "response = requests.get(url, headers=headers)\n",
    "\n",
    "soup = BeautifulSoup(response.text, \"lxml\")\n",
    "\n",
    "songs = soup.select(\"div.ellipsis.rank01 a\")[:10]\n",
    "\n",
    "for idx, song in enumerate(songs):\n",
    "    print(f\"{idx+1}. {song.text}\")"
   ]
  },
  {
   "cell_type": "code",
   "execution_count": 44,
   "id": "b60f31cc",
   "metadata": {},
   "outputs": [
    {
     "name": "stdout",
     "output_type": "stream",
     "text": [
      "== 2025-08-11 오늘의 축구 뉴스 ==\n",
      "[프로야구 중간순위] 10일 / 링크: https://www.yna.co.kr/view/AKR20250809042251007?input=1195m\n",
      "야구 순위도 1·2위인데 주식 인기도 1·2위…이 기업들, 그냥 둘다 살까 / 링크: https://www.mk.co.kr/article/11389584\n",
      "'신인왕 후보 0순위' KT 안현민, 7월 KBO MVP 삼켰다 / 링크: http://www.osen.co.kr/article/G1112632981\n",
      "[프로야구] 중간 순위(9일) / 링크: https://www.news1.kr/sports/baseball/5874578\n"
     ]
    }
   ],
   "source": [
    "# 실습2. 사용자로부터 입력을 받아 크롤링\n",
    "import datetime\n",
    "\n",
    "word = input(\"검색어를 입력하세요.\")\n",
    "\n",
    "headers = { \n",
    "    \"User-Agent\" : \"Mozilla/5.0\"\n",
    "}\n",
    "\n",
    "response = requests.get(f\"https://search.naver.com/search.naver?query={word}\",\n",
    "                        headers=headers)\n",
    "soup = BeautifulSoup(response.text, \"lxml\")\n",
    "\n",
    "news_list = soup.select(\"a.BxOYkTUC7zH9xrtyOwDx.a2OpSM_aSvFbHwpL_f8N\")\n",
    "\n",
    "print(f\"== {datetime.date.today()} 오늘의 축구 뉴스 ==\")\n",
    "for a in news_list:\n",
    "    print(f\"{a.get_text()} / 링크: {a.get(\"href\")}\")"
   ]
  },
  {
   "cell_type": "code",
   "execution_count": null,
   "id": "21901d7b",
   "metadata": {},
   "outputs": [],
   "source": [
    "# herf\n",
    "# HTML에서 **하이퍼링크의 목적지(주소)**를 지정하는 속성\n",
    "a href=\"https://www.example.com\" #Example 사이트로 이동</a>\n",
    "# href=\"https://www.example.com\" → 클릭 시 이동할 URL\n",
    "# <a> 태그 안의 \"Example 사이트로 이동\" → 사용자가 화면에서 보는 글자"
   ]
  },
  {
   "cell_type": "code",
   "execution_count": 3,
   "id": "ef04ea6b",
   "metadata": {},
   "outputs": [],
   "source": [
    "# openpyxl\n",
    "# 크롤링한 자료를 엑셀로 저장\n",
    "import openpyxl\n",
    "\n",
    "# 엑셀 파일 만들기\n",
    "wb = openpyxl.Workbook()\n",
    "\n",
    "# 시트 만들기\n",
    "ws = wb.create_sheet(\"codingon\")\n",
    "\n",
    "ws[\"A1\"] = \"이름\"\n",
    "ws[\"B1\"] = \"영어이름\"\n",
    "\n",
    "ws[\"A2\"] = \"태훈\"\n",
    "ws[\"B2\"] = \"TaeHun\"\n",
    "\n",
    "wb.save(\"codingon.xlsx\")"
   ]
  },
  {
   "cell_type": "code",
   "execution_count": null,
   "id": "ecee9d90",
   "metadata": {},
   "outputs": [],
   "source": [
    "# pandas를 통한 엑셀 만들기\n",
    "import pandas as pd\n",
    "\n",
    "data = {\n",
    "    \"이름\" : [\"태훈\"],\n",
    "    \"영어이름\" : [\"TaeHun\"]\n",
    "}\n",
    "\n",
    "df = pd.DataFrame(data)\n",
    "\n",
    "df.to_excel(\"codingon2.xlsx\", index=False, sheet_name=\"list\")"
   ]
  },
  {
   "cell_type": "code",
   "execution_count": 18,
   "id": "7291228a",
   "metadata": {},
   "outputs": [],
   "source": [
    "# 파일 불러오기\n",
    "wb = openpyxl.load_workbook(\"codingon.xlsx\")\n",
    "\n",
    "# 시트 선택\n",
    "ws = wb[\"codingon\"]\n",
    "\n",
    "ws[\"A3\"] = \"윤코딩\"\n",
    "ws[\"B3\"] = \"codingYun\"\n",
    "\n",
    "data=[\n",
    "    [\"윤태훈\", \"Yun\"],\n",
    "    [\"김철수\", \"Kim\"],\n",
    "    [\"이철수\", \"Lee\"],\n",
    "    [\"최수연\", \"Choi\"],\n",
    "    [\"안민수\", \"An\"],\n",
    "    [\"손흥민\", \"Son\"]\n",
    "]\n",
    "\n",
    "for row in data:\n",
    "    ws.append(row)\n",
    "\n",
    "wb.save(\"codingon.xlsx\")"
   ]
  },
  {
   "cell_type": "code",
   "execution_count": null,
   "id": "d08f4d1a",
   "metadata": {},
   "outputs": [
    {
     "name": "stdout",
     "output_type": "stream",
     "text": [
      "[['USD', '1,391.70'], ['JPY(100엔)', '938.34'], ['EUR', '1,617.09'], ['CNY', '193.49']]\n"
     ]
    }
   ],
   "source": [
    "# 실습3\n",
    "# 결과 한칸 한칸 확인하면서 진행\n",
    "# market1 다음 a 아래에 있는 span class blind, span class value를 뽑아야함\n",
    "import pandas as pd\n",
    "\n",
    "res = requests.get(\"https://finance.naver.com/marketindex/\")\n",
    "soup = BeautifulSoup(res.text, \"lxml\")\n",
    "result = soup.select(\"div.market1 a.head\")\n",
    "\n",
    "data = []\n",
    "for a in result:\n",
    "    exchange = a.select_one(\"span.blind\").get_text().split()[1]\n",
    "    value = a.select_one(\"span.value\")\n",
    "    # print(exchange, value.get_text())\n",
    "    data.append([exchange, value.get_text()])\n",
    "\n",
    "print(data)\n",
    "df = pd.DataFrame(data, columns=[\"통화\", \"환율\"])\n",
    "df.to_excel(\"exchange.xlsx\", index=False)"
   ]
  }
 ],
 "metadata": {
  "kernelspec": {
   "display_name": "data_analysis",
   "language": "python",
   "name": "python3"
  },
  "language_info": {
   "codemirror_mode": {
    "name": "ipython",
    "version": 3
   },
   "file_extension": ".py",
   "mimetype": "text/x-python",
   "name": "python",
   "nbconvert_exporter": "python",
   "pygments_lexer": "ipython3",
   "version": "3.13.5"
  }
 },
 "nbformat": 4,
 "nbformat_minor": 5
}
