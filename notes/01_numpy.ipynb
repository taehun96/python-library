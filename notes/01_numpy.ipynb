{
 "cells": [
  {
   "cell_type": "code",
   "execution_count": null,
   "id": "68e8c01a",
   "metadata": {},
   "outputs": [],
   "source": [
    "import numpy as np\n"
   ]
  },
  {
   "cell_type": "markdown",
   "id": "783070b0",
   "metadata": {},
   "source": [
    "## 01. NumPy\n",
    "- 다차원 배열을 쉽고 효율적으로 사용할 수 있도록 지원하는 파이썬 라이브러리\n",
    "- 데이터 분석 라이브러리의 근본!"
   ]
  },
  {
   "cell_type": "markdown",
   "id": "db0cc407",
   "metadata": {},
   "source": [
    "### 1-1 ndarray\n",
    "- NumPy 의 핵심 데이터 구조\n",
    "- 동일한 자료형의 다차원 배열"
   ]
  },
  {
   "cell_type": "code",
   "execution_count": null,
   "id": "60e955b9",
   "metadata": {},
   "outputs": [],
   "source": [
    "# ndarray의 생성\n",
    "a = np.array([[1,2,3], [4,5,6]])\n",
    "b = np.array([1.0, 3.14, 1.24])\n",
    "\n",
    "# 배열의 구조\n",
    "print(f\"배열의 구조: {a.shape}\")\n",
    "\n",
    "# 배열의 차원 수\n",
    "print(f\"배열의 차원: {a.ndim}\")\n",
    "\n",
    "# 데이터 타입\n",
    "print(f\"배열의 데이터타입: {a.dtype}\")\n",
    "print(f\"배열의 데이터타입: {b.dtype}\")\n",
    "\n",
    "# 형 변환\n",
    "new_a = a.astype(np.float64)\n",
    "print(f\"수정한 배열의 데이터타입: {new_a.dtype}\")"
   ]
  },
  {
   "cell_type": "code",
   "execution_count": null,
   "id": "2c9841b7",
   "metadata": {},
   "outputs": [],
   "source": [
    "# 3차원 행렬\n",
    "a = np.array([[[1,2,3],\n",
    "                [4,5,6]],\n",
    "\n",
    "            [[1,2,3],\n",
    "                [4,5,6]],\n",
    "                \n",
    "            [[1,2,3],\n",
    "                [4,5,6]]])\n",
    "print(f\"배열의 구조: {a.shape}\")\n",
    "print(f\"배열의 차원: {a.ndim}\")"
   ]
  },
  {
   "cell_type": "code",
   "execution_count": null,
   "id": "70c7b848",
   "metadata": {},
   "outputs": [],
   "source": [
    "# 4차원 행렬\n",
    "a = np.array([[[[1,2,3], \n",
    "                    [4,5,6]],\n",
    "                [[1,2,3], \n",
    "                    [4,5,6]],\n",
    "                [[1,2,3], \n",
    "                    [4,5,6]]],\n",
    "            \n",
    "            [[[1,2,3],\n",
    "                [4,5,6]],\n",
    "            [[1,2,3],\n",
    "                [4,5,6]],\n",
    "            [[1,2,3],\n",
    "                [4,5,6]]]])\n",
    "print(f\"배열의 구조: {a.shape}\")\n",
    "print(f\"배열의 차원: {a.ndim}\")"
   ]
  },
  {
   "cell_type": "code",
   "execution_count": null,
   "id": "49d95168",
   "metadata": {},
   "outputs": [],
   "source": [
    "# 만들 수 없는 배열\n",
    "# 내부 배열의 구조가 같아야 함\n",
    "a = np.array([[1],[2,3]])"
   ]
  },
  {
   "cell_type": "markdown",
   "id": "da2cf23b",
   "metadata": {},
   "source": [
    "### 1-2 배열 초기화"
   ]
  },
  {
   "cell_type": "code",
   "execution_count": null,
   "id": "1e92e5f7",
   "metadata": {},
   "outputs": [],
   "source": [
    "# 모든 요소가 0인 배열 생성\n",
    "np.zeros((3, 4)) # 2차원\n",
    "np.zeros((2, 3, 4), dtype=np.int64) #3차원"
   ]
  },
  {
   "cell_type": "code",
   "execution_count": null,
   "id": "091c35b7",
   "metadata": {},
   "outputs": [],
   "source": [
    "# 모든 요소가 1인 배열 생성\n",
    "np.ones((5, 6))"
   ]
  },
  {
   "cell_type": "code",
   "execution_count": null,
   "id": "a7169ded",
   "metadata": {},
   "outputs": [],
   "source": [
    "# (원소의 값이) 초기화 되지 않은 배열 생성\n",
    "np.empty((2, 3))"
   ]
  },
  {
   "cell_type": "code",
   "execution_count": 79,
   "id": "a33c7fcf",
   "metadata": {},
   "outputs": [
    {
     "data": {
      "text/plain": [
       "array([[7, 7, 7],\n",
       "       [7, 7, 7],\n",
       "       [7, 7, 7]])"
      ]
     },
     "execution_count": 79,
     "metadata": {},
     "output_type": "execute_result"
    }
   ],
   "source": [
    "# 주어진 값으로 채운 배열\n",
    "np.full((3,3), 7)"
   ]
  },
  {
   "cell_type": "code",
   "execution_count": null,
   "id": "da3cc495",
   "metadata": {},
   "outputs": [],
   "source": [
    "# 단위 행렬\n",
    "np.eye(3,3)\n",
    "np.eye(3,5,1) # 3번째 인자를 입력 → 1이 오른쪽으로 이동, 음수 입력시 반대로 이동"
   ]
  },
  {
   "cell_type": "markdown",
   "id": "c0d05070",
   "metadata": {},
   "source": [
    "### 1-3 범위 기반 배열 생성"
   ]
  },
  {
   "cell_type": "code",
   "execution_count": null,
   "id": "30e05b0d",
   "metadata": {},
   "outputs": [],
   "source": [
    "# arange : range()와 유사한 기능을 제공\n",
    "# 시작 이상 끝 미만의 정수 배열을 지정한 간격으로 생성\n",
    "np.arange(0, 10)\n",
    "np.arange(0, 10, 2) # 간격 지정"
   ]
  },
  {
   "cell_type": "code",
   "execution_count": null,
   "id": "4bcce5c9",
   "metadata": {},
   "outputs": [],
   "source": [
    "# linspace : 시작~끝까지 균일 간격으로 지정한 개수만큼 숫자를 생성\n",
    "#  끝을 포함\n",
    "np.linspace(10, 100, 10) # 10~100 사이 10개로 나눠줘\n",
    "np.linspace(0, 1, 20) # 0~1 사이 20개로 나눠줘 "
   ]
  },
  {
   "cell_type": "code",
   "execution_count": 89,
   "id": "a655a2ce",
   "metadata": {},
   "outputs": [
    {
     "data": {
      "text/plain": [
       "array([[  5.,  10.,  15.,  20.,  25.],\n",
       "       [ 30.,  35.,  40.,  45.,  50.],\n",
       "       [ 55.,  60.,  65.,  70.,  75.],\n",
       "       [ 80.,  85.,  90.,  95., 100.]])"
      ]
     },
     "execution_count": 89,
     "metadata": {},
     "output_type": "execute_result"
    }
   ],
   "source": [
    "# reshape : 배열의 구조를 재배치\n",
    "# np.linspace(1,10,10).reshape((2,3)) # error 발생 ➡️ 원소의 개수가 같아야 함\n",
    "np.linspace(5,100,20).reshape((4,5)) "
   ]
  },
  {
   "cell_type": "markdown",
   "id": "3ede93b5",
   "metadata": {},
   "source": [
    "### 1-4 랜덤 배열 생성"
   ]
  },
  {
   "cell_type": "code",
   "execution_count": null,
   "id": "cdfcf438",
   "metadata": {},
   "outputs": [],
   "source": [
    "# random.rand(m, n) : 0~1 사이의 난수로 초기화\n",
    "np.random.rand(2, 3)"
   ]
  },
  {
   "cell_type": "code",
   "execution_count": null,
   "id": "04bb66f6",
   "metadata": {},
   "outputs": [],
   "source": [
    "# random.randn(m, n) : 표준정규분포를 따르는 난수로 초기화\n",
    "# 표준정규분포 : 평균 0, 분산 1인 정규분포\n",
    "np.random.randn(2,4,5)"
   ]
  },
  {
   "cell_type": "code",
   "execution_count": null,
   "id": "7bb63060",
   "metadata": {},
   "outputs": [],
   "source": [
    "# random.randint(low, high, (size))\n",
    "print(np.random.randint(0, 101, (3, 3)))"
   ]
  },
  {
   "cell_type": "code",
   "execution_count": null,
   "id": "fe0349a6",
   "metadata": {},
   "outputs": [],
   "source": [
    "# random.seed() : 난수 생성시 시작값 제공\n",
    "np.random.seed(42)\n",
    "print(np.random.rand(2, 3))\n",
    "print(np.random.randn(2,2))\n",
    "print(np.random.randint(0, 101, (3, 3)))"
   ]
  },
  {
   "cell_type": "code",
   "execution_count": 78,
   "id": "dadec19b",
   "metadata": {},
   "outputs": [
    {
     "name": "stdout",
     "output_type": "stream",
     "text": [
      "[[0.77395605 0.43887844]\n",
      " [0.85859792 0.69736803]\n",
      " [0.09417735 0.97562235]]\n",
      "[[-1.10333845 -0.72502464 -0.78180526  0.26697586 -0.24858073]\n",
      " [ 0.12648305  0.84304257  0.85793655  0.47518364 -0.4507686 ]\n",
      " [-0.75493228 -0.81481411 -0.34385486 -0.05138009 -0.97227368]\n",
      " [-1.13448753  0.30570522 -1.85168503 -0.17705351  0.42582567]]\n",
      "[[12 35]\n",
      " [38 38]]\n",
      "[[76.1139702  78.60643053 12.81136327 45.03859379]\n",
      " [37.07980242 92.67649888 64.38651201 82.27616133]\n",
      " [44.34141988 22.72387218 55.4584787   6.38172561]\n",
      " [82.7631172  63.16643991 75.80877401 35.45259681]]\n"
     ]
    }
   ],
   "source": [
    "# RNG(Random Number Generator)\n",
    "# 최근 파이썬 사용에서 권장되는 방식\n",
    "\n",
    "from numpy.random import default_rng\n",
    "rng = default_rng(seed=42)\n",
    "rng2 = default_rng(seed=10)\n",
    "rng3 = default_rng()\n",
    "\n",
    "print(rng.random((3,2))) # 0~1 사이의 난수\n",
    "print(rng2.normal(0, 1, (4,5))) # 정규 분포 난수\n",
    "print(rng3.integers(0, 100, (2,2))) # 정수 분포 난수\n",
    "print(rng.uniform(0, 100, (4,4))) # 균등 분포 난수"
   ]
  },
  {
   "cell_type": "code",
   "execution_count": null,
   "id": "a83e27a0",
   "metadata": {},
   "outputs": [
    {
     "data": {
      "text/plain": [
       "array([[5, 5, 5, 5],\n",
       "       [5, 5, 5, 5],\n",
       "       [5, 5, 5, 5]])"
      ]
     },
     "execution_count": 101,
     "metadata": {},
     "output_type": "execute_result"
    }
   ],
   "source": [
    "# 실습1 문제1. 0으로 채워진 크기 (3, 4) 배열을 생성한 후, 모든 값을 5로 채우는 새로운 배열을 만드세요\n",
    "np.zeros((3, 4))\n",
    "np.full((3,4), 5)"
   ]
  },
  {
   "cell_type": "code",
   "execution_count": 82,
   "id": "ccf3e7ed",
   "metadata": {},
   "outputs": [
    {
     "data": {
      "text/plain": [
       "array([ 0,  2,  4,  6,  8, 10, 12, 14, 16, 18, 20])"
      ]
     },
     "execution_count": 82,
     "metadata": {},
     "output_type": "execute_result"
    }
   ],
   "source": [
    "# 실습1 문제2 0부터 20까지 2씩 증가하는 1차원 배열을 생성하세요\n",
    "np.arange(0, 21, 2)"
   ]
  },
  {
   "cell_type": "code",
   "execution_count": 87,
   "id": "5adb8006",
   "metadata": {},
   "outputs": [
    {
     "data": {
      "text/plain": [
       "array([[0.75536141, 0.42515587, 0.20794166],\n",
       "       [0.56770033, 0.03131329, 0.84228477]])"
      ]
     },
     "execution_count": 87,
     "metadata": {},
     "output_type": "execute_result"
    }
   ],
   "source": [
    "# 실습1 문제3  0~1 사이의 실수 난수를 가지는 (2, 3) 크기의 배열을 생성하세요\n",
    "np.random.rand(2, 3)"
   ]
  },
  {
   "cell_type": "code",
   "execution_count": 88,
   "id": "e67c157c",
   "metadata": {},
   "outputs": [
    {
     "data": {
      "text/plain": [
       "array([ 56.43331506,  79.12207184, 103.45387413, 106.48397535,\n",
       "       114.91719084,  63.26833521])"
      ]
     },
     "execution_count": 88,
     "metadata": {},
     "output_type": "execute_result"
    }
   ],
   "source": [
    "# 실습1 문제4 평균이 100, 표준편차가 20인 정규분포 난수 6개를 생성하세요.\n",
    "np.random.normal(100, 20, 6)"
   ]
  },
  {
   "cell_type": "code",
   "execution_count": 90,
   "id": "7f5b94a7",
   "metadata": {},
   "outputs": [
    {
     "data": {
      "text/plain": [
       "array([[ 1,  2,  3,  4,  5],\n",
       "       [ 6,  7,  8,  9, 10],\n",
       "       [11, 12, 13, 14, 15],\n",
       "       [16, 17, 18, 19, 20]])"
      ]
     },
     "execution_count": 90,
     "metadata": {},
     "output_type": "execute_result"
    }
   ],
   "source": [
    "# 실습1 문제5 1부터 20까지의 정수를 포함하는 1차원 배열을 만들고, 이 배열을 (4, 5) 크기의 2차원 배열로 변환하세요\n",
    "np.arange(1, 21).reshape(4, 5)"
   ]
  },
  {
   "cell_type": "code",
   "execution_count": 91,
   "id": "99829cc7",
   "metadata": {},
   "outputs": [
    {
     "data": {
      "text/plain": [
       "array([[0.        , 0.09090909, 0.18181818, 0.27272727],\n",
       "       [0.36363636, 0.45454545, 0.54545455, 0.63636364],\n",
       "       [0.72727273, 0.81818182, 0.90909091, 1.        ]])"
      ]
     },
     "execution_count": 91,
     "metadata": {},
     "output_type": "execute_result"
    }
   ],
   "source": [
    "# 실습1 문제6 0부터 1까지 균등 간격으로 나눈 12개의 값을 가지는 배열을 생성하고, 이를 (3, 4) 크기로 변환하세요.\n",
    "np.linspace(0, 1, 12).reshape(3, 4)"
   ]
  },
  {
   "cell_type": "code",
   "execution_count": 99,
   "id": "ea99d785",
   "metadata": {},
   "outputs": [
    {
     "data": {
      "text/plain": [
       "array([[46., 86., 22., 65., 26.,  1., 89., 16., 32.,  8.],\n",
       "       [42., 47., 39., 92., 41., 25., 98., 49., 24., 23.],\n",
       "       [12., 59.,  6., 57., 35., 44., 19., 64.,  7., 15.],\n",
       "       [13., 75., 86., 14., 92., 97., 65., 31., 86., 62.],\n",
       "       [85., 50., 24., 57., 62., 62., 21., 57., 57., 85.],\n",
       "       [48., 51., 41., 69., 14., 53., 60., 96.,  7., 52.],\n",
       "       [59.,  4., 67.,  5., 95., 93., 46., 99., 54., 39.],\n",
       "       [51., 15., 12., 29., 18., 16., 62., 18., 92., 57.],\n",
       "       [54., 89., 89., 61., 22.,  8., 11.,  0., 57.,  1.],\n",
       "       [33., 95., 47., 88.,  0., 15., 60., 63., 62., 68.]])"
      ]
     },
     "execution_count": 99,
     "metadata": {},
     "output_type": "execute_result"
    }
   ],
   "source": [
    "# 실습1 문제7  0~99 사이의 난수로 이루어진 (10, 10) 배열을 생성한 뒤, np.eye()로 만든 단위 행렬을 더하여 대각선 요소가 1씩 증가된 배열을 만드세요.\n",
    "a = np.random.randint(0, 100, (10,10))\n",
    "a + np.eye(10,10,1)"
   ]
  },
  {
   "cell_type": "code",
   "execution_count": 100,
   "id": "a67b5a36",
   "metadata": {},
   "outputs": [
    {
     "data": {
      "text/plain": [
       "array([[[5, 6, 2, 9],\n",
       "        [2, 4, 5, 8],\n",
       "        [4, 0, 3, 4]],\n",
       "\n",
       "       [[9, 9, 4, 6],\n",
       "        [3, 0, 4, 6],\n",
       "        [9, 9, 5, 4]]], dtype=int32)"
      ]
     },
     "execution_count": 100,
     "metadata": {},
     "output_type": "execute_result"
    }
   ],
   "source": [
    "# 실습1 문제8 0~9 사이의 난수로 이루어진 (2, 3, 4) 3차원 배열을 생성하세요\n",
    "np.random.randint(0, 10, (2, 3, 4))"
   ]
  }
 ],
 "metadata": {
  "kernelspec": {
   "display_name": "data_analysis",
   "language": "python",
   "name": "python3"
  },
  "language_info": {
   "codemirror_mode": {
    "name": "ipython",
    "version": 3
   },
   "file_extension": ".py",
   "mimetype": "text/x-python",
   "name": "python",
   "nbconvert_exporter": "python",
   "pygments_lexer": "ipython3",
   "version": "3.13.5"
  }
 },
 "nbformat": 4,
 "nbformat_minor": 5
}
