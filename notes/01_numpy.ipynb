{
 "cells": [
  {
   "cell_type": "code",
   "execution_count": null,
   "id": "68e8c01a",
   "metadata": {},
   "outputs": [],
   "source": [
    "import numpy as np\n"
   ]
  },
  {
   "cell_type": "markdown",
   "id": "783070b0",
   "metadata": {},
   "source": [
    "## 01. NumPy\n",
    "- 다차원 배열을 쉽고 효율적으로 사용할 수 있도록 지원하는 파이썬 라이브러리\n",
    "- 데이터 분석 라이브러리의 근본!"
   ]
  },
  {
   "cell_type": "markdown",
   "id": "db0cc407",
   "metadata": {},
   "source": [
    "### 1-1 ndarray\n",
    "- NumPy 의 핵심 데이터 구조\n",
    "- 동일한 자료형의 다차원 배열"
   ]
  },
  {
   "cell_type": "code",
   "execution_count": null,
   "id": "60e955b9",
   "metadata": {},
   "outputs": [],
   "source": [
    "# ndarray의 생성\n",
    "a = np.array([[1,2,3], [4,5,6]])\n",
    "b = np.array([1.0, 3.14, 1.24])\n",
    "\n",
    "# 배열의 구조\n",
    "print(f\"배열의 구조: {a.shape}\")\n",
    "\n",
    "# 배열의 차원 수\n",
    "print(f\"배열의 차원: {a.ndim}\")\n",
    "\n",
    "# 데이터 타입\n",
    "print(f\"배열의 데이터타입: {a.dtype}\")\n",
    "print(f\"배열의 데이터타입: {b.dtype}\")\n",
    "\n",
    "# 형 변환\n",
    "new_a = a.astype(np.float64)\n",
    "print(f\"수정한 배열의 데이터타입: {new_a.dtype}\")"
   ]
  },
  {
   "cell_type": "code",
   "execution_count": null,
   "id": "2c9841b7",
   "metadata": {},
   "outputs": [],
   "source": [
    "# 3차원 행렬\n",
    "a = np.array([[[1,2,3],\n",
    "                [4,5,6]],\n",
    "\n",
    "            [[1,2,3],\n",
    "                [4,5,6]],\n",
    "                \n",
    "            [[1,2,3],\n",
    "                [4,5,6]]])\n",
    "print(f\"배열의 구조: {a.shape}\")\n",
    "print(f\"배열의 차원: {a.ndim}\")"
   ]
  },
  {
   "cell_type": "code",
   "execution_count": null,
   "id": "70c7b848",
   "metadata": {},
   "outputs": [],
   "source": [
    "# 4차원 행렬\n",
    "a = np.array([[[[1,2,3], \n",
    "                    [4,5,6]],\n",
    "                [[1,2,3], \n",
    "                    [4,5,6]],\n",
    "                [[1,2,3], \n",
    "                    [4,5,6]]],\n",
    "            \n",
    "            [[[1,2,3],\n",
    "                [4,5,6]],\n",
    "            [[1,2,3],\n",
    "                [4,5,6]],\n",
    "            [[1,2,3],\n",
    "                [4,5,6]]]])\n",
    "print(f\"배열의 구조: {a.shape}\")\n",
    "print(f\"배열의 차원: {a.ndim}\")"
   ]
  },
  {
   "cell_type": "code",
   "execution_count": null,
   "id": "49d95168",
   "metadata": {},
   "outputs": [],
   "source": [
    "# 만들 수 없는 배열\n",
    "# 내부 배열의 구조가 같아야 함\n",
    "a = np.array([[1],[2,3]])"
   ]
  },
  {
   "cell_type": "markdown",
   "id": "da2cf23b",
   "metadata": {},
   "source": [
    "### 1-2 배열 초기화"
   ]
  },
  {
   "cell_type": "code",
   "execution_count": null,
   "id": "1e92e5f7",
   "metadata": {},
   "outputs": [],
   "source": [
    "# 모든 요소가 0인 배열 생성\n",
    "np.zeros((3, 4)) # 2차원\n",
    "np.zeros((2, 3, 4), dtype=np.int64) #3차원"
   ]
  },
  {
   "cell_type": "code",
   "execution_count": null,
   "id": "091c35b7",
   "metadata": {},
   "outputs": [],
   "source": [
    "# 모든 요소가 1인 배열 생성\n",
    "np.ones((5, 6))"
   ]
  },
  {
   "cell_type": "code",
   "execution_count": null,
   "id": "a7169ded",
   "metadata": {},
   "outputs": [],
   "source": [
    "# (원소의 값이) 초기화 되지 않은 배열 생성\n",
    "np.empty((2, 3))"
   ]
  },
  {
   "cell_type": "code",
   "execution_count": null,
   "id": "a33c7fcf",
   "metadata": {},
   "outputs": [],
   "source": [
    "# 주어진 값으로 채운 배열\n",
    "np.full((3,3), 7)"
   ]
  },
  {
   "cell_type": "code",
   "execution_count": null,
   "id": "da3cc495",
   "metadata": {},
   "outputs": [],
   "source": [
    "# 단위 행렬\n",
    "np.eye(3,3)\n",
    "np.eye(3,5,1) # 3번째 인자를 입력 → 1이 오른쪽으로 이동, 음수 입력시 반대로 이동"
   ]
  },
  {
   "cell_type": "markdown",
   "id": "c0d05070",
   "metadata": {},
   "source": [
    "### 1-3 범위 기반 배열 생성"
   ]
  },
  {
   "cell_type": "code",
   "execution_count": null,
   "id": "30e05b0d",
   "metadata": {},
   "outputs": [],
   "source": [
    "# arange : range()와 유사한 기능을 제공\n",
    "# 시작 이상 끝 미만의 정수 배열을 지정한 간격으로 생성\n",
    "np.arange(0, 10)\n",
    "np.arange(0, 10, 2) # 간격 지정"
   ]
  },
  {
   "cell_type": "code",
   "execution_count": null,
   "id": "4bcce5c9",
   "metadata": {},
   "outputs": [],
   "source": [
    "# linspace : 시작~끝까지 균일 간격으로 지정한 개수만큼 숫자를 생성\n",
    "#  끝을 포함\n",
    "np.linspace(10, 100, 10) # 10~100 사이 10개로 나눠줘\n",
    "np.linspace(0, 1, 20) # 0~1 사이 20개로 나눠줘 "
   ]
  },
  {
   "cell_type": "code",
   "execution_count": null,
   "id": "a655a2ce",
   "metadata": {},
   "outputs": [],
   "source": [
    "# reshape : 배열의 구조를 재배치\n",
    "# np.linspace(1,10,10).reshape((2,3)) # error 발생 ➡️ 원소의 개수가 같아야 함\n",
    "np.linspace(5,100,20).reshape((4,5)) "
   ]
  },
  {
   "cell_type": "markdown",
   "id": "3ede93b5",
   "metadata": {},
   "source": [
    "### 1-4 랜덤 배열 생성"
   ]
  },
  {
   "cell_type": "code",
   "execution_count": null,
   "id": "cdfcf438",
   "metadata": {},
   "outputs": [],
   "source": [
    "# random.rand(m, n) : 0~1 사이의 난수로 초기화\n",
    "np.random.rand(2, 3)"
   ]
  },
  {
   "cell_type": "code",
   "execution_count": null,
   "id": "04bb66f6",
   "metadata": {},
   "outputs": [],
   "source": [
    "# random.randn(m, n) : 표준정규분포를 따르는 난수로 초기화\n",
    "# 표준정규분포 : 평균 0, 분산 1인 정규분포\n",
    "np.random.randn(2,4,5)\n",
    "\n",
    "# random.normal(평균, 분산, 사이즈)\n",
    "# 정규분포\n",
    "np.random.normal(10, 20, (2,4))"
   ]
  },
  {
   "cell_type": "code",
   "execution_count": null,
   "id": "7bb63060",
   "metadata": {},
   "outputs": [],
   "source": [
    "# random.randint(low, high, (size))\n",
    "print(np.random.randint(0, 101, (3, 3)))"
   ]
  },
  {
   "cell_type": "code",
   "execution_count": null,
   "id": "fe0349a6",
   "metadata": {},
   "outputs": [],
   "source": [
    "# random.seed() : 난수 생성시 시작값 제공\n",
    "np.random.seed(42)\n",
    "print(np.random.rand(2, 3))\n",
    "print(np.random.randn(2,2))\n",
    "print(np.random.randint(0, 101, (3, 3)))"
   ]
  },
  {
   "cell_type": "code",
   "execution_count": null,
   "id": "dadec19b",
   "metadata": {},
   "outputs": [],
   "source": [
    "# RNG(Random Number Generator)\n",
    "# 최근 파이썬 사용에서 권장되는 방식\n",
    "\n",
    "from numpy.random import default_rng\n",
    "rng = default_rng(seed=42)\n",
    "rng2 = default_rng(seed=10)\n",
    "rng3 = default_rng()\n",
    "\n",
    "print(rng.random((3,2))) # 0~1 사이의 난수\n",
    "print(rng2.normal(0, 1, (4,5))) # 정규 분포 난수\n",
    "print(rng3.integers(0, 100, (2,2))) # 정수 분포 난수\n",
    "print(rng.uniform(0, 100, (4,4))) # 균등 분포 난수"
   ]
  },
  {
   "cell_type": "code",
   "execution_count": null,
   "id": "a83e27a0",
   "metadata": {},
   "outputs": [],
   "source": [
    "# 실습1 문제1. 0으로 채워진 크기 (3, 4) 배열을 생성한 후, 모든 값을 5로 채우는 새로운 배열을 만드세요\n",
    "a1 = np.zeros((3, 4))\n",
    "a1_2 = np.full((3,4), 5)\n",
    "print(\"문제1:\", a1, a1_2, sep=\"\\n\")"
   ]
  },
  {
   "cell_type": "code",
   "execution_count": null,
   "id": "ccf3e7ed",
   "metadata": {},
   "outputs": [],
   "source": [
    "# 실습1 문제2 0부터 20까지 2씩 증가하는 1차원 배열을 생성하세요\n",
    "a2 = np.arange(0, 21, 2)\n",
    "print(\"\\n문제2:\", a2)"
   ]
  },
  {
   "cell_type": "code",
   "execution_count": null,
   "id": "5adb8006",
   "metadata": {},
   "outputs": [],
   "source": [
    "# 실습1 문제3  0~1 사이의 실수 난수를 가지는 (2, 3) 크기의 배열을 생성하세요\n",
    "a3 = np.random.rand(2, 3)\n",
    "print(\"\\n문제3:\", a3)"
   ]
  },
  {
   "cell_type": "code",
   "execution_count": null,
   "id": "e67c157c",
   "metadata": {},
   "outputs": [],
   "source": [
    "# 실습1 문제4 평균이 100, 표준편차가 20인 정규분포 난수 6개를 생성하세요.\n",
    "a4 = np.random.normal(100, 20, 6)\n",
    "print(\"\\n문제4:\", a4)"
   ]
  },
  {
   "cell_type": "code",
   "execution_count": null,
   "id": "7f5b94a7",
   "metadata": {},
   "outputs": [],
   "source": [
    "# 실습1 문제5 1부터 20까지의 정수를 포함하는 1차원 배열을 만들고, 이 배열을 (4, 5) 크기의 2차원 배열로 변환하세요\n",
    "a5 = np.arange(1, 21).reshape(4, 5)\n",
    "print(\"\\n문제5:\", a5)"
   ]
  },
  {
   "cell_type": "code",
   "execution_count": null,
   "id": "99829cc7",
   "metadata": {},
   "outputs": [],
   "source": [
    "# 실습1 문제6 0부터 1까지 균등 간격으로 나눈 12개의 값을 가지는 배열을 생성하고, 이를 (3, 4) 크기로 변환하세요.\n",
    "a6 = np.linspace(0, 1, 12).reshape(3, 4)\n",
    "print(\"\\n문제6:\", a6)"
   ]
  },
  {
   "cell_type": "code",
   "execution_count": null,
   "id": "ea99d785",
   "metadata": {},
   "outputs": [],
   "source": [
    "# 실습1 문제7  0~99 사이의 정수 난수로 이루어진 (10, 10) 배열을 생성한 뒤, np.eye()로 만든 단위 행렬을 더하여 대각선 요소가 1씩 증가된 배열을 만드세요.\n",
    "a7 = np.random.randint(0, 100, (10,10))\n",
    "a7_eye = np.eye(10,10,1)\n",
    "a7_added = a7 + np.eye(10,10,1)\n",
    "\n",
    "print(\"\\n문제7:\", a7_added)"
   ]
  },
  {
   "cell_type": "code",
   "execution_count": null,
   "id": "a67b5a36",
   "metadata": {},
   "outputs": [],
   "source": [
    "# 실습1 문제8 0~9 사이의 난수로 이루어진 (2, 3, 4) 3차원 배열을 생성하세요\n",
    "a8 = np.random.randint(0, 10, (2, 3, 4))\n",
    "print(\"\\n문제8:\", a8)\n",
    "# (2, 3, 4) = 3차원 기준에서 덩어리 2개, 2차원 기준 3개, 1차원 기준 4개"
   ]
  },
  {
   "cell_type": "markdown",
   "id": "06a7cfcd",
   "metadata": {},
   "source": [
    "### 1-5. 인덱싱과 슬라이싱\n",
    "- 다차원 배열을 다루는 편의 기능 제공\n",
    "- Python의 시퀀스보다 빠름\n",
    "- NumPy 배열은 Python 시퀀스와 동일하게 0부터 시작하는 인덱스 사용\n",
    "- 인덱싱과 슬라이싱의 기본적인 문법은 동일함"
   ]
  },
  {
   "cell_type": "code",
   "execution_count": null,
   "id": "32792126",
   "metadata": {},
   "outputs": [],
   "source": [
    "# 인덱싱\n",
    "a = np.array([10, 20, 30, 40, 50])\n",
    "print(a[2])\n",
    "print(a[-1])"
   ]
  },
  {
   "cell_type": "code",
   "execution_count": null,
   "id": "6066e23e",
   "metadata": {},
   "outputs": [],
   "source": [
    "# 다차원 인덱싱\n",
    "# 파이썬 리스트\n",
    "matrix = [[1,2,3], [4,5,6]]\n",
    "print(\"파이썬 인덱싱 방식:\", matrix[1][1])\n",
    "\n",
    "# NumPy 배열\n",
    "a2 = np.array([[1,2,3], [4,5,6]])\n",
    "print(a2.shape)\n",
    "print(\"NumPy 인덱싱 방식:\", a2[1,2])"
   ]
  },
  {
   "cell_type": "code",
   "execution_count": 24,
   "id": "0e0bbda2",
   "metadata": {},
   "outputs": [
    {
     "name": "stdout",
     "output_type": "stream",
     "text": [
      "[[[ 0  1  2  3]\n",
      "  [ 4  5  6  7]\n",
      "  [ 8  9 10 11]]\n",
      "\n",
      " [[12 13 14 15]\n",
      "  [16 17 18 19]\n",
      "  [20 21 22 23]]]\n",
      "(2, 3, 4)\n",
      "17 17\n",
      "11 11\n",
      "23 23\n"
     ]
    }
   ],
   "source": [
    "# 3차원 배열 인덱싱\n",
    "a3 = np.arange(24).reshape(2, 3, 4)\n",
    "print(a3)\n",
    "print(a3.shape)\n",
    "print(\"17\", a3[1, 1, 1])\n",
    "print(\"11\", a3[0, 2, 3])\n",
    "print(\"23\", a3[1, 2, 3])"
   ]
  },
  {
   "cell_type": "code",
   "execution_count": null,
   "id": "33dc60e2",
   "metadata": {},
   "outputs": [
    {
     "name": "stdout",
     "output_type": "stream",
     "text": [
      "[20 30]\n",
      "[30 40 50]\n",
      "[10 20]\n",
      "[10 20 30 40 50]\n",
      "[10 30 50]\n",
      "[50 40 30 20 10]\n"
     ]
    }
   ],
   "source": [
    "# 슬라이싱\n",
    "# NumPy는 Python 리스트의 슬라이싱과 동일한 문법을 사용\n",
    "# 결과가 일반 리스트가 아니라 뷰(View)라는 점이 다름\n",
    "# 뷰(View) - 원본 데이터의 메모리를 공유, 슬라이스 결과를 수정하면 원본 배열도 변경됨\n",
    "# arr[행_슬라이스, 열__슬라이스]\n",
    "# arr[..., 4차원슬라이스, 3차원슬라이스, 2차원슬라이스, 1차원슬라이스]\n",
    "a1 = np.array([10, 20, 30, 40, 50])\n",
    "\n",
    "print(a1[1:3])\n",
    "print(a1[2:])\n",
    "print(a1[:2])\n",
    "print(a1[:])\n",
    "print(a1[::2])\n",
    "print(a1[::-1])"
   ]
  }
 ],
 "metadata": {
  "kernelspec": {
   "display_name": "data_analysis",
   "language": "python",
   "name": "python3"
  },
  "language_info": {
   "codemirror_mode": {
    "name": "ipython",
    "version": 3
   },
   "file_extension": ".py",
   "mimetype": "text/x-python",
   "name": "python",
   "nbconvert_exporter": "python",
   "pygments_lexer": "ipython3",
   "version": "3.13.5"
  }
 },
 "nbformat": 4,
 "nbformat_minor": 5
}
