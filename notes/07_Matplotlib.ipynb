{
 "cells": [
  {
   "cell_type": "markdown",
   "id": "2c6d0ae7",
   "metadata": {},
   "source": [
    "## 07. Matplotlib\n",
    "- 파이썬에서 가장 널리 사용되는 데이터 시각화 라이브러리!!\n",
    "- 다양한 형태의 그래프 지원"
   ]
  },
  {
   "cell_type": "code",
   "execution_count": null,
   "id": "351b7b97",
   "metadata": {},
   "outputs": [],
   "source": [
    "import matplotlib\n",
    "import matplotlib.pyplot as plt \n",
    "import numpy as np\n",
    "\n",
    "matplotlib.__version__\n",
    "\n",
    "# 한글 깨짐 방지\n",
    "# Windows에서 한글 폰트 설정\n",
    "plt.rcParams['font.family'] = 'Malgun Gothic'  # '맑은 고딕'이 설치되어 있을 경우\n",
    "plt.rcParams['axes.unicode_minus'] = False     # 마이너스(-) 부호 깨짐 방지"
   ]
  },
  {
   "cell_type": "code",
   "execution_count": null,
   "id": "cc7fd289",
   "metadata": {},
   "outputs": [],
   "source": [
    "# matplotlib.pyplot\n",
    "# matplotlib의 서브 모듈\n",
    "# pyplot은 Matplotlib에서 가장 많이 사용하는 서브패키지\n",
    "# 간단한 명령으로 그래프를 빠르게 생성"
   ]
  },
  {
   "cell_type": "markdown",
   "id": "33ed2a4f",
   "metadata": {},
   "source": [
    "### 그래프 그리기"
   ]
  },
  {
   "cell_type": "code",
   "execution_count": null,
   "id": "478c84b0",
   "metadata": {},
   "outputs": [],
   "source": [
    "x = [1,2,3,4,5]\n",
    "y = [10,13,17,19,24]\n",
    "\n",
    "# 선 그래프\n",
    "plt.plot(x,y)\n",
    "\n",
    "# 이미지를 파일로 저장\n",
    "plt.savefig(\"my_graph.png\")\n",
    "\n",
    "# 콘솔에 이미지 그리기\n",
    "plt.show()"
   ]
  },
  {
   "cell_type": "markdown",
   "id": "55ebbfa3",
   "metadata": {},
   "source": [
    "### 그래프의 구성 요소(1)\n",
    "- figure : 여러 그래프가 그려지는 최상위 컨테이너\n",
    "- axes : 실제 그래프가 그려지는 공간\n",
    "- axis : 그래프의 축"
   ]
  },
  {
   "cell_type": "code",
   "execution_count": null,
   "id": "3a1c4174",
   "metadata": {},
   "outputs": [],
   "source": [
    "# subplots() : Figure와 Axes를 한 번에 만드는 함수\n",
    "# fig, axs = plt.subplots(행, 열)\n",
    "fig, axs = plt.subplots() # 행과 열을 넣지 않으면 하나의 figure와 하나의 axes를 만듦"
   ]
  },
  {
   "cell_type": "code",
   "execution_count": null,
   "id": "cc9b50c1",
   "metadata": {},
   "outputs": [],
   "source": [
    "# 1행 2열의 axes 생성\n",
    "fig, axs = plt.subplots(1,2)\n",
    "axs[0].plot([1,2,3],[1,2,3])\n",
    "axs[1].plot([1,2,3],[1,4,9])\n",
    "plt.show()"
   ]
  },
  {
   "cell_type": "code",
   "execution_count": null,
   "id": "3039b1d6",
   "metadata": {},
   "outputs": [],
   "source": [
    "# 2행 2열의 axes 생성\n",
    "fig, axs = plt.subplots(2,2)\n",
    "\n",
    "fig.suptitle(\"여러 함수 그래프\")\n",
    "axs[0, 0].plot([1,2,3],[1,2,3])\n",
    "axs[0,0].set_title(\"1번 그래프\")\n",
    "\n",
    "axs[0, 1].plot([1,2,3],[1,4,9])\n",
    "axs[0,1].set_title(\"2번 그래프\")\n",
    "\n",
    "axs[1, 0].plot([1,2,3],[3,2,1])\n",
    "axs[1,0].set_title(\"3번 그래프\")\n",
    "\n",
    "axs[1, 1].plot([1,2,3],[9,4,1])\n",
    "axs[1,1].set_title(\"4번 그래프\")\n",
    "\n",
    "plt.tight_layout() # 그래프 간격 자동 조정\n",
    "\n",
    "plt.show()"
   ]
  },
  {
   "cell_type": "markdown",
   "id": "99c03ed3",
   "metadata": {},
   "source": [
    "### 그래프의 구성 요소(2)\n",
    "- 제목\n",
    "- 레이블 : 각 축의 데이터가 무엇을 의미하는지 설명\n",
    "- 범례 : 여러 데이터 시리즈를 구분할 때 각 라인(혹은 마커)이 의미하는 바를 표기\n",
    "- 그리드 : 데이터 값의 대략적인 위치를 쉽게 파악할 수 있게 도와줌\n"
   ]
  },
  {
   "cell_type": "code",
   "execution_count": null,
   "id": "52d08675",
   "metadata": {},
   "outputs": [],
   "source": [
    "# title - 기본\n",
    "plt.plot([1,2,3,4,5],[1,4,9,13,15], label=\"제곱 그래프\",\n",
    "        linestyle=\"-.\", \n",
    "        color=\"g\", \n",
    "        marker=\"^\")\n",
    "plt.title(\"제곱 함수 그래프\", color=\"c\", fontsize=20)\n",
    "\n",
    "# xlabel, ylabel - 기본\n",
    "plt.xlabel(\"x값\")\n",
    "plt.ylabel(\"y값(x의 제곱)\")\n",
    "\n",
    "# xticks, yticks\n",
    "plt.xticks([1,2,3,4,5],[\"A\",\"B\",\"C\",\"D\",\"E\"])\n",
    "plt.yticks([1,5,10,15,20])\n",
    "\n",
    "# 범례(legend) - 사용하려면 plot에 label을 해줘야함\n",
    "plt.legend()\n",
    "\n",
    "# 격자(grid)\n",
    "plt.grid(linestyle=\"--\")\n",
    "\n",
    "plt.show()"
   ]
  },
  {
   "cell_type": "code",
   "execution_count": null,
   "id": "381cabd4",
   "metadata": {},
   "outputs": [],
   "source": [
    "# title - subplot\n",
    "fig, axs = plt.subplots()\n",
    "\n",
    "axs.plot([1,2,3],[1,4,9], \"ro--\", label=\"제곱그래프\")\n",
    "axs.set_title(\"제곱 함수 그래프\")\n",
    "\n",
    "# x라벨, y라벨 - subplot\n",
    "axs.set_xlabel(\"x값\")\n",
    "axs.set_ylabel(\"y값(x의 제곱)\")\n",
    "\n",
    "# 범례(legend)\n",
    "axs.legend()\n",
    "\n",
    "# 격자(grid)\n",
    "axs.grid()\n",
    "\n",
    "plt.show()"
   ]
  },
  {
   "cell_type": "code",
   "execution_count": null,
   "id": "a7493a41",
   "metadata": {},
   "outputs": [],
   "source": [
    "# 하나의 axes에 여러개의 그래프 그리기\n",
    "x = np.arange(0,10)\n",
    "y1 = 2 * x + 1\n",
    "y2 = 3 * x - 5\n",
    "\n",
    "plt.plot(x, y1, marker=\"o\", label=\"y = 2x + 1\", color=\"c\")\n",
    "plt.plot(x, y2, marker=\"*\", label=\"y = 3x - 5\", color=\"m\")\n",
    "\n",
    "plt.title(\"두 개의 선 그래프 비교\", color=\"c\", fontsize=10)\n",
    "plt.xlabel(\"x값\")\n",
    "plt.ylabel(\"y값\")\n",
    "plt.legend()\n",
    "plt.grid(linestyle=\":\", alpha=0.5)\n",
    "\n",
    "plt.show()"
   ]
  },
  {
   "cell_type": "code",
   "execution_count": null,
   "id": "c94a7aeb",
   "metadata": {},
   "outputs": [],
   "source": [
    "# 실습1 문제1.아래 데이터를 이용해서 예시와 같이 선 그래프를 그려보세요.\n",
    "months = ['Jan', 'Feb', 'Mar', 'Apr', 'May', 'Jun', 'Jul', 'Aug', 'Sep', 'Oct', 'Nov', 'Dec']\n",
    "sales_2019 = [100,120,140,110,130,150,160,170,180,200,190,210]\n",
    "sales_2020 = [90,110,130,120,140,160,170,160,150,180,200,190]\n",
    "\n",
    "plt.plot(months, sales_2019, label='2019 판매량',\n",
    "        linestyle=\"-.\",\n",
    "        color=\"b\", \n",
    "        marker=\"^\")\n",
    "plt.plot(months, sales_2020, label='2020 판매량',\n",
    "        linestyle=\"--\",\n",
    "        color=\"y\", \n",
    "        marker=\"v\")\n",
    "\n",
    "plt.title(\"Monthly Sales Comparison (2019-2020)\", color=\"g\", fontsize=15)\n",
    "\n",
    "plt.xlabel(\"Month\")\n",
    "plt.ylabel(\"Sales\")\n",
    "\n",
    "x = np.arange(12)\n",
    "plt.xticks(x, months)\n",
    "\n",
    "plt.legend(loc=\"lower right\", title=\"판매 연도\")\n",
    "plt.grid(linestyle=\":\")\n",
    "\n",
    "plt.show()"
   ]
  },
  {
   "cell_type": "code",
   "execution_count": null,
   "id": "184bf983",
   "metadata": {},
   "outputs": [],
   "source": [
    "# 막대 그래프(bar)\n",
    "labels = [\"A\",\"B\",\"C\",\"D\"]\n",
    "values = [10,24,15,32]\n",
    "\n",
    "plt.bar(labels, values)\n",
    "plt.show()"
   ]
  },
  {
   "cell_type": "code",
   "execution_count": null,
   "id": "a04f3d1f",
   "metadata": {},
   "outputs": [],
   "source": [
    "# 수평 막대 그래프(barh)\n",
    "plt.barh(labels, values)\n",
    "plt.show()"
   ]
  },
  {
   "cell_type": "code",
   "execution_count": null,
   "id": "4a395711",
   "metadata": {},
   "outputs": [],
   "source": [
    "# 여러 막대 그래프\n",
    "labels = [\"1분기\", \"2분기\", \"3분기\", \"4분기\"]\n",
    "men_means = [20,34,30,35]\n",
    "women_means = [25,32,34,40]\n",
    "\n",
    "x = np.arange(len(labels))\n",
    "\n",
    "fig, ax = plt.subplots()\n",
    "width = 0.4\n",
    "\n",
    "ax.bar(x - width/2, men_means, width, label=\"남성\")\n",
    "ax.bar(x + width/2, women_means, width, label=\"여성\")\n",
    "\n",
    "ax.set_xticks(x, labels)\n",
    "\n",
    "plt.show()"
   ]
  },
  {
   "cell_type": "code",
   "execution_count": null,
   "id": "af45aee6",
   "metadata": {},
   "outputs": [],
   "source": [
    "# lim() : 축의 범위를 설정\n",
    "# rotation : 글자의 회전 각도 설정"
   ]
  },
  {
   "cell_type": "code",
   "execution_count": null,
   "id": "7ee6ad96",
   "metadata": {},
   "outputs": [],
   "source": [
    "# 실습2 막대 그래프 그리기, 아래 데이터를 바탕으로 예시와 같이 막대 그래프를 그려보세요.\n",
    "categories = ['Category 1','Category 2','Category 3','Category 4','Category 5']\n",
    "data = [20, 35, 15, 27, 45] \n",
    "\n",
    "plt.bar(categories, data, color=\"y\")\n",
    "plt.title(\"Bar Chart\", color=\"y\", fontsize=15)\n",
    "plt.xlabel(\"Categories\",color=\"y\", fontsize=15)\n",
    "plt.ylabel(\"Values\",color=\"y\", fontsize=15)\n",
    "plt.grid(linestyle=\":\")\n",
    "\n",
    "plt.xticks(rotation=45)\n",
    "\n",
    "plt.ylim(0,50)\n",
    "plt.show()\n"
   ]
  },
  {
   "cell_type": "code",
   "execution_count": null,
   "id": "57bb603c",
   "metadata": {},
   "outputs": [],
   "source": [
    "# 히스토그램\n",
    "# 랜덤 데이터 생성\n",
    "# bins : 구간의 개수 또는 구간 리스트\n",
    "# color, edgecolor: 막대의 색상, 테두리 색상\n",
    "\n",
    "data = np.random.randn(1000)\n",
    "\n",
    "plt.hist(data, bins=30, edgecolor=\"k\")\n",
    "\n",
    "plt.show()"
   ]
  },
  {
   "cell_type": "code",
   "execution_count": null,
   "id": "83115d7a",
   "metadata": {},
   "outputs": [],
   "source": [
    "# 실습3. 히스토그램 그리기, \n",
    "# 임의로 1~6 사이의 주사위 눈 100개를 생성해서 각 숫자가 얼마나 자주 나왔는지 히스토그램을 그려보세요.\n",
    "\n",
    "np.random.seed(42) # 난수의 초기값 지정\n",
    "dice = np.random.randint(1, 7, 100)\n",
    "\n",
    "# cnt : 구간마다 나오는 빈도수\n",
    "# bins : 구간의 시작점\n",
    "cnt, bins, _ = plt.hist(dice, bins=np.arange(1,8)-0.5 ,edgecolor=\"k\", rwidth=0.8)\n",
    "print(bins)\n",
    "\n",
    "plt.title(\"주사위 눈 빈도 히스토그램\")\n",
    "plt.xlabel(\"주사위 눈\")\n",
    "plt.ylabel(\"빈도\")\n",
    "\n",
    "\n",
    "\n",
    "plt.show()"
   ]
  },
  {
   "cell_type": "code",
   "execution_count": null,
   "id": "42278a85",
   "metadata": {},
   "outputs": [],
   "source": [
    "# 산점도(scatter)\n",
    "# x = [5, 7, 8, 10, 12]\n",
    "# y = [20, 25, 15, 30, 22]\n",
    "\n",
    "x = np.linspace(2, 30, 20)\n",
    "y = np.linspace(10, 40, 20)\n",
    "y_noisy = y + np.random.uniform(-7,7,20) # uniform 지정한 구간 안에서 실수 난수\n",
    "\n",
    "plt.scatter(x,y_noisy)\n",
    "plt.grid(linestyle=\":\")\n",
    "plt.show()"
   ]
  },
  {
   "cell_type": "code",
   "execution_count": null,
   "id": "971e5a0a",
   "metadata": {},
   "outputs": [],
   "source": [
    "# 다차원 데이터 표현\n",
    "np.random.seed(42)\n",
    "N = 50\n",
    "x = np.random.rand(N)\n",
    "y = np.random.rand(N)\n",
    "colors = np.random.rand(N)\n",
    "sizes = np.random.rand(N) * 1000\n",
    "\n",
    "plt.scatter(x, y, s=sizes, c=colors, alpha=0.7, cmap=\"viridis\")\n",
    "plt.colorbar()\n",
    "\n",
    "plt.show()\n"
   ]
  },
  {
   "cell_type": "code",
   "execution_count": null,
   "id": "03e00103",
   "metadata": {},
   "outputs": [],
   "source": [
    "# 실습4. 산점도 그리기\n",
    "# x값은 0부터 10까지 30개의 균등한 간격으로 구성된 수열을 만들고,\n",
    "# y값은 y = 3x + 2 + 난수(정규분포, 평균 0, 표준편차 3)로 생성하여 산점도를 그려보세요.\n",
    "\n",
    "n = 30\n",
    "x = np.linspace(0, 10, 30)\n",
    "noisy = np.random.normal(0, 3, 30)\n",
    "y = 3 * x + 2 + noisy\n",
    "colors = np.random.rand(n)\n",
    "sizes = np.random.rand(n) * 30 \n",
    "\n",
    "plt.scatter(x, y, c=colors, s=sizes, alpha=0.7, marker=\"s\")\n",
    "\n",
    "plt.title(\"노이즈가 추가된 산점도\")\n",
    "plt.xlabel(\"x 값\")\n",
    "plt.ylabel(\"y 값\")\n",
    "plt.grid(linestyle=\":\")\n",
    "plt.show()"
   ]
  },
  {
   "cell_type": "code",
   "execution_count": null,
   "id": "620eb698",
   "metadata": {},
   "outputs": [],
   "source": [
    "# 파이 차트\n",
    "# 전체에 대한 부분의 비율을 원형의 조각(섹터)으로 표현하는 그래프\n",
    "# autopct=\"%1.1f%% : 차트에 퍼센트 표기\n",
    "# shadow=True : 그림자 생성\n",
    "# explode=explode : 인덱싱이 맵핑되어 있는 조각이 떨어짐을 표시할 수 있음\n",
    "# startangle= : 회전시킬 수 있음\n",
    "labels = [\"A\",\"B\",\"C\",\"D\"]\n",
    "sizes = [40,20,25,15]\n",
    "explode = [0.2,0.1,0.1,0.1]\n",
    "\n",
    "plt.pie(sizes, labels=labels, autopct=\"%1.1f%%\", shadow=True, explode=explode, startangle=90)\n",
    "plt.axis(\"equal\")\n",
    "\n",
    "plt.show()"
   ]
  },
  {
   "cell_type": "code",
   "execution_count": 113,
   "id": "7b911f23",
   "metadata": {},
   "outputs": [
    {
     "data": {
      "image/png": "[encoded data removed]",
      "text/plain": [
       "<Figure size 640x480 with 1 Axes>"
      ]
     },
     "metadata": {},
     "output_type": "display_data"
    }
   ],
   "source": [
    "# 실습5. 파이 차트 그리기\n",
    "# 아래와 데이터를 이용해서 예시와 같이 파이 차트를 그려보세요!\n",
    "labels = ['Apple', 'Banana', 'Mango', 'Blueberry']\n",
    "sizes = [15,30,45,10] \n",
    "explode = [0,0.1,0,0]\n",
    "\n",
    "plt.pie(sizes, labels=labels, autopct=\"%1.1f%%\", shadow=True, explode=explode, startangle=90,\n",
    "        colors=[\"#8ed4fa\",\"#8efaa4\",\"#faf68e\",\"#fad18e\"])\n",
    "plt.axis(\"equal\")\n",
    "\n",
    "plt.show()"
   ]
  }
 ],
 "metadata": {
  "kernelspec": {
   "display_name": "data_analysis",
   "language": "python",
   "name": "python3"
  },
  "language_info": {
   "codemirror_mode": {
    "name": "ipython",
    "version": 3
   },
   "file_extension": ".py",
   "mimetype": "text/x-python",
   "name": "python",
   "nbconvert_exporter": "python",
   "pygments_lexer": "ipython3",
   "version": "3.13.5"
  }
 },
 "nbformat": 4,
 "nbformat_minor": 5
}
